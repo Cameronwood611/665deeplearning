{
 "cells": [
  {
   "cell_type": "code",
   "execution_count": 1,
   "id": "b598b15b",
   "metadata": {},
   "outputs": [],
   "source": [
    "import sys\n",
    "import tensorflow as tf\n",
    "import tensorflow.keras as keras\n",
    "from tensorflow.keras.applications import resnet50\n",
    "import pandas as pd\n",
    "import numpy as np\n",
    "import os\n",
    "import cv2"
   ]
  },
  {
   "cell_type": "code",
   "execution_count": 2,
   "id": "ddcdfd92",
   "metadata": {},
   "outputs": [
    {
     "data": {
      "text/html": [
       "<div>\n",
       "<style scoped>\n",
       "    .dataframe tbody tr th:only-of-type {\n",
       "        vertical-align: middle;\n",
       "    }\n",
       "\n",
       "    .dataframe tbody tr th {\n",
       "        vertical-align: top;\n",
       "    }\n",
       "\n",
       "    .dataframe thead th {\n",
       "        text-align: right;\n",
       "    }\n",
       "</style>\n",
       "<table border=\"1\" class=\"dataframe\">\n",
       "  <thead>\n",
       "    <tr style=\"text-align: right;\">\n",
       "      <th></th>\n",
       "      <th>Unnamed: 0</th>\n",
       "      <th>id</th>\n",
       "      <th>Type</th>\n",
       "    </tr>\n",
       "  </thead>\n",
       "  <tbody>\n",
       "    <tr>\n",
       "      <th>0</th>\n",
       "      <td>0</td>\n",
       "      <td>distribute_40</td>\n",
       "      <td>distribute</td>\n",
       "    </tr>\n",
       "    <tr>\n",
       "      <th>1</th>\n",
       "      <td>1</td>\n",
       "      <td>distribute_41</td>\n",
       "      <td>distribute</td>\n",
       "    </tr>\n",
       "    <tr>\n",
       "      <th>2</th>\n",
       "      <td>2</td>\n",
       "      <td>distribute_42</td>\n",
       "      <td>distribute</td>\n",
       "    </tr>\n",
       "    <tr>\n",
       "      <th>3</th>\n",
       "      <td>3</td>\n",
       "      <td>distribute_43</td>\n",
       "      <td>distribute</td>\n",
       "    </tr>\n",
       "    <tr>\n",
       "      <th>4</th>\n",
       "      <td>4</td>\n",
       "      <td>distribute_44</td>\n",
       "      <td>distribute</td>\n",
       "    </tr>\n",
       "  </tbody>\n",
       "</table>\n",
       "</div>"
      ],
      "text/plain": [
       "   Unnamed: 0             id        Type\n",
       "0           0  distribute_40  distribute\n",
       "1           1  distribute_41  distribute\n",
       "2           2  distribute_42  distribute\n",
       "3           3  distribute_43  distribute\n",
       "4           4  distribute_44  distribute"
      ]
     },
     "execution_count": 2,
     "metadata": {},
     "output_type": "execute_result"
    }
   ],
   "source": [
    "labels = pd.read_csv('Data/train_label.csv')\n",
    "labels.head()"
   ]
  },
  {
   "cell_type": "code",
   "execution_count": 3,
   "id": "f2e6ac0f",
   "metadata": {},
   "outputs": [
    {
     "data": {
      "text/plain": [
       "distribute    360\n",
       "matrix        360\n",
       "ineq          360\n",
       "integral      360\n",
       "series        360\n",
       "sqrt          360\n",
       "limit         360\n",
       "Name: Type, dtype: int64"
      ]
     },
     "execution_count": 3,
     "metadata": {},
     "output_type": "execute_result"
    }
   ],
   "source": [
    "labels['Type'].value_counts()"
   ]
  },
  {
   "cell_type": "code",
   "execution_count": 4,
   "id": "2f415388",
   "metadata": {},
   "outputs": [
    {
     "data": {
      "text/html": [
       "<div>\n",
       "<style scoped>\n",
       "    .dataframe tbody tr th:only-of-type {\n",
       "        vertical-align: middle;\n",
       "    }\n",
       "\n",
       "    .dataframe tbody tr th {\n",
       "        vertical-align: top;\n",
       "    }\n",
       "\n",
       "    .dataframe thead th {\n",
       "        text-align: right;\n",
       "    }\n",
       "</style>\n",
       "<table border=\"1\" class=\"dataframe\">\n",
       "  <thead>\n",
       "    <tr style=\"text-align: right;\">\n",
       "      <th></th>\n",
       "      <th>id</th>\n",
       "      <th>distribute</th>\n",
       "      <th>ineq</th>\n",
       "      <th>integral</th>\n",
       "      <th>limit</th>\n",
       "      <th>matrix</th>\n",
       "      <th>series</th>\n",
       "      <th>sqrt</th>\n",
       "    </tr>\n",
       "  </thead>\n",
       "  <tbody>\n",
       "    <tr>\n",
       "      <th>0</th>\n",
       "      <td>distribute_40</td>\n",
       "      <td>0.142857</td>\n",
       "      <td>0.142857</td>\n",
       "      <td>0.142857</td>\n",
       "      <td>0.142857</td>\n",
       "      <td>0.142857</td>\n",
       "      <td>0.142857</td>\n",
       "      <td>0.142857</td>\n",
       "    </tr>\n",
       "    <tr>\n",
       "      <th>1</th>\n",
       "      <td>distribute_41</td>\n",
       "      <td>0.142857</td>\n",
       "      <td>0.142857</td>\n",
       "      <td>0.142857</td>\n",
       "      <td>0.142857</td>\n",
       "      <td>0.142857</td>\n",
       "      <td>0.142857</td>\n",
       "      <td>0.142857</td>\n",
       "    </tr>\n",
       "    <tr>\n",
       "      <th>2</th>\n",
       "      <td>distribute_42</td>\n",
       "      <td>0.142857</td>\n",
       "      <td>0.142857</td>\n",
       "      <td>0.142857</td>\n",
       "      <td>0.142857</td>\n",
       "      <td>0.142857</td>\n",
       "      <td>0.142857</td>\n",
       "      <td>0.142857</td>\n",
       "    </tr>\n",
       "    <tr>\n",
       "      <th>3</th>\n",
       "      <td>distribute_43</td>\n",
       "      <td>0.142857</td>\n",
       "      <td>0.142857</td>\n",
       "      <td>0.142857</td>\n",
       "      <td>0.142857</td>\n",
       "      <td>0.142857</td>\n",
       "      <td>0.142857</td>\n",
       "      <td>0.142857</td>\n",
       "    </tr>\n",
       "    <tr>\n",
       "      <th>4</th>\n",
       "      <td>distribute_44</td>\n",
       "      <td>0.142857</td>\n",
       "      <td>0.142857</td>\n",
       "      <td>0.142857</td>\n",
       "      <td>0.142857</td>\n",
       "      <td>0.142857</td>\n",
       "      <td>0.142857</td>\n",
       "      <td>0.142857</td>\n",
       "    </tr>\n",
       "  </tbody>\n",
       "</table>\n",
       "</div>"
      ],
      "text/plain": [
       "              id  distribute      ineq  integral     limit    matrix  \\\n",
       "0  distribute_40    0.142857  0.142857  0.142857  0.142857  0.142857   \n",
       "1  distribute_41    0.142857  0.142857  0.142857  0.142857  0.142857   \n",
       "2  distribute_42    0.142857  0.142857  0.142857  0.142857  0.142857   \n",
       "3  distribute_43    0.142857  0.142857  0.142857  0.142857  0.142857   \n",
       "4  distribute_44    0.142857  0.142857  0.142857  0.142857  0.142857   \n",
       "\n",
       "     series      sqrt  \n",
       "0  0.142857  0.142857  \n",
       "1  0.142857  0.142857  \n",
       "2  0.142857  0.142857  \n",
       "3  0.142857  0.142857  \n",
       "4  0.142857  0.142857  "
      ]
     },
     "execution_count": 4,
     "metadata": {},
     "output_type": "execute_result"
    }
   ],
   "source": [
    "sample = pd.read_csv('Data/sample_submission.csv')\n",
    "sample.head()"
   ]
  },
  {
   "cell_type": "code",
   "execution_count": 5,
   "id": "3d08cfe9",
   "metadata": {},
   "outputs": [
    {
     "name": "stdout",
     "output_type": "stream",
     "text": [
      "num_train_images: 2520\n",
      "Types: Index(['distribute', 'ineq', 'integral', 'limit', 'matrix', 'series', 'sqrt'], dtype='object')\n",
      "num_classes: 7\n"
     ]
    }
   ],
   "source": [
    "num_train_images = 2520  # we choose 3300 images for this assignment. It works for a machine having 8Gb Ram. You can adjust it if your Ram is different. \n",
    "split_point = 2240 # split the data into training data [0:3000] and val data [3000:]\n",
    "print('num_train_images:', num_train_images)\n",
    "types = sample.columns[1:]\n",
    "print('Types:', types)\n",
    "num_classes = len(types)\n",
    "print('num_classes:', num_classes)"
   ]
  },
  {
   "cell_type": "code",
   "execution_count": 6,
   "id": "bb5b3caa",
   "metadata": {},
   "outputs": [],
   "source": [
    "from tensorflow.keras.preprocessing.image import load_img, img_to_array\n",
    "import numpy as np\n",
    "\n",
    "img_width = 224\n",
    "\n",
    "def get_image(filename):\n",
    "    ########################################################################\n",
    "    # TODO: Your code here...\n",
    "    ########################################################################\n",
    "    original = load_img(filename, target_size=(224,224))\n",
    "    numpy_image = img_to_array(original)\n",
    "    image_batch = np.expand_dims(numpy_image, axis=0)\n",
    "    return image_batch[0]"
   ]
  },
  {
   "cell_type": "code",
   "execution_count": 7,
   "id": "e56418cb",
   "metadata": {},
   "outputs": [
    {
     "data": {
      "image/png": "[encoded data removed]",
      "text/plain": [
       "<Figure size 432x288 with 1 Axes>"
      ]
     },
     "metadata": {
      "needs_background": "light"
     },
     "output_type": "display_data"
    }
   ],
   "source": [
    "import matplotlib.pyplot as plt\n",
    "%matplotlib inline\n",
    "\n",
    "image = get_image('Data/train/distribute_41.png')\n",
    "plt.imshow(np.uint8(image))\n",
    "plt.show()"
   ]
  },
  {
   "cell_type": "code",
   "execution_count": 9,
   "id": "561cb5c7",
   "metadata": {},
   "outputs": [
    {
     "name": "stdout",
     "output_type": "stream",
     "text": [
      "1000 images loaded\n",
      "2000 images loaded\n"
     ]
    }
   ],
   "source": [
    "x_train = np.zeros((num_train_images, img_width, img_width, 3), dtype=np.uint8)\n",
    "y_train = np.zeros((num_train_images, num_classes), dtype=np.uint8)\n",
    "\n",
    "count = 0\n",
    "\n",
    "for i in range(num_train_images):\n",
    "    x_train[i] = get_image('Data/train/%s.png' % labels['id'][i])\n",
    "    pos_arrays = (types == labels['Type'][i]).nonzero() # recall that types is the array of classes\n",
    "    pos = pos_arrays[0][0]\n",
    "    y_train[i][pos] = 1\n",
    "    count += 1\n",
    "    if(count % 1000 == 0): print(count, 'images loaded')"
   ]
  },
  {
   "cell_type": "markdown",
   "id": "4eedbf45",
   "metadata": {},
   "source": [
    "### Resnet with MeanSquaredError"
   ]
  },
  {
   "cell_type": "code",
   "execution_count": 33,
   "id": "bc9d949f",
   "metadata": {},
   "outputs": [
    {
     "name": "stdout",
     "output_type": "stream",
     "text": [
      "40/40 [==============================] - 197s 5s/step\n",
      "(2520, 7, 7, 2048)\n"
     ]
    }
   ],
   "source": [
    "from tensorflow.keras.applications import resnet50\n",
    "resnet_mse_x_train = resnet50.preprocess_input(x_train.copy())\n",
    "resnet_mse_model = resnet50.ResNet50(weights='imagenet', include_top=False)\n",
    "resnet_mse_features = resnet_mse_model.predict(resnet_mse_x_train, batch_size=64, verbose=1)\n",
    "print(resnet_mse_features.shape)"
   ]
  },
  {
   "cell_type": "code",
   "execution_count": 34,
   "id": "835c4687",
   "metadata": {},
   "outputs": [
    {
     "name": "stdout",
     "output_type": "stream",
     "text": [
      "(None, 2048)\n",
      "(None, 7)\n"
     ]
    }
   ],
   "source": [
    "from tensorflow.keras.layers import Input, Dense, GlobalAveragePooling2D, Dropout, Activation, BatchNormalization\n",
    "\n",
    "inputs = Input(shape = (7, 7, 2048)) # to take 7 x 7 x 2048 images\n",
    "x = GlobalAveragePooling2D()(inputs) # to convert to 2048 feagures\n",
    "print(x.shape)\n",
    "x = Dropout(0.5)(x) # add a dropout layer\n",
    "x = Dense(500)(x) # add a dense layer, but not adding activation so that we can add batch-norm first\n",
    "x = BatchNormalization()(x)\n",
    "x = Activation(\"relu\")(x)\n",
    "x = Dropout(0.5)(x) # add a dropout layer\n",
    "# Softmax layer to the output classes\n",
    "predictions = Dense(num_classes, activation='softmax')(x) # arg1 is: units = dimensionality of the output space.\n",
    "print(predictions.shape)"
   ]
  },
  {
   "cell_type": "code",
   "execution_count": 35,
   "id": "40d40014",
   "metadata": {},
   "outputs": [
    {
     "name": "stdout",
     "output_type": "stream",
     "text": [
      "Model: \"model_2\"\n",
      "_________________________________________________________________\n",
      " Layer (type)                Output Shape              Param #   \n",
      "=================================================================\n",
      " input_7 (InputLayer)        [(None, 7, 7, 2048)]      0         \n",
      "                                                                 \n",
      " global_average_pooling2d_2   (None, 2048)             0         \n",
      " (GlobalAveragePooling2D)                                        \n",
      "                                                                 \n",
      " dropout_4 (Dropout)         (None, 2048)              0         \n",
      "                                                                 \n",
      " dense_4 (Dense)             (None, 500)               1024500   \n",
      "                                                                 \n",
      " batch_normalization_2 (Batc  (None, 500)              2000      \n",
      " hNormalization)                                                 \n",
      "                                                                 \n",
      " activation_2 (Activation)   (None, 500)               0         \n",
      "                                                                 \n",
      " dropout_5 (Dropout)         (None, 500)               0         \n",
      "                                                                 \n",
      " dense_5 (Dense)             (None, 7)                 3507      \n",
      "                                                                 \n",
      "=================================================================\n",
      "Total params: 1,030,007\n",
      "Trainable params: 1,029,007\n",
      "Non-trainable params: 1,000\n",
      "_________________________________________________________________\n"
     ]
    }
   ],
   "source": [
    "from tensorflow.keras.models import Model\n",
    "\n",
    "model_mse = Model(inputs=inputs, outputs=predictions) # specify what is network input, and what is network output\n",
    "model_mse.summary()"
   ]
  },
  {
   "cell_type": "code",
   "execution_count": 36,
   "id": "e4cece05",
   "metadata": {},
   "outputs": [],
   "source": [
    "model_mse.compile(loss='MeanSquaredError', optimizer=\"sgd\", metrics=['accuracy'])"
   ]
  },
  {
   "cell_type": "code",
   "execution_count": 37,
   "id": "0894dc74",
   "metadata": {},
   "outputs": [
    {
     "name": "stdout",
     "output_type": "stream",
     "text": [
      "Epoch 1/30\n",
      "18/18 [==============================] - 2s 49ms/step - loss: 0.1485 - accuracy: 0.1415 - val_loss: 0.1929 - val_accuracy: 0.0000e+00\n",
      "Epoch 2/30\n",
      "18/18 [==============================] - 1s 40ms/step - loss: 0.1457 - accuracy: 0.1647 - val_loss: 0.1797 - val_accuracy: 0.0000e+00\n",
      "Epoch 3/30\n",
      "18/18 [==============================] - 1s 44ms/step - loss: 0.1460 - accuracy: 0.1513 - val_loss: 0.1690 - val_accuracy: 0.0000e+00\n",
      "Epoch 4/30\n",
      "18/18 [==============================] - 1s 40ms/step - loss: 0.1463 - accuracy: 0.1536 - val_loss: 0.1603 - val_accuracy: 0.0036\n",
      "Epoch 5/30\n",
      "18/18 [==============================] - 1s 36ms/step - loss: 0.1437 - accuracy: 0.1670 - val_loss: 0.1545 - val_accuracy: 0.0036\n",
      "Epoch 6/30\n",
      "18/18 [==============================] - 1s 36ms/step - loss: 0.1428 - accuracy: 0.1768 - val_loss: 0.1496 - val_accuracy: 0.0071\n",
      "Epoch 7/30\n",
      "18/18 [==============================] - 1s 45ms/step - loss: 0.1432 - accuracy: 0.1688 - val_loss: 0.1458 - val_accuracy: 0.0107\n",
      "Epoch 8/30\n",
      "18/18 [==============================] - 1s 61ms/step - loss: 0.1390 - accuracy: 0.2009 - val_loss: 0.1430 - val_accuracy: 0.0107\n",
      "Epoch 9/30\n",
      "18/18 [==============================] - 1s 41ms/step - loss: 0.1380 - accuracy: 0.2054 - val_loss: 0.1408 - val_accuracy: 0.0107\n",
      "Epoch 10/30\n",
      "18/18 [==============================] - 1s 40ms/step - loss: 0.1354 - accuracy: 0.2219 - val_loss: 0.1391 - val_accuracy: 0.0107\n",
      "Epoch 11/30\n",
      "18/18 [==============================] - 1s 41ms/step - loss: 0.1345 - accuracy: 0.2196 - val_loss: 0.1378 - val_accuracy: 0.0071\n",
      "Epoch 12/30\n",
      "18/18 [==============================] - 1s 41ms/step - loss: 0.1338 - accuracy: 0.2219 - val_loss: 0.1370 - val_accuracy: 0.0071\n",
      "Epoch 13/30\n",
      "18/18 [==============================] - 1s 40ms/step - loss: 0.1344 - accuracy: 0.2232 - val_loss: 0.1367 - val_accuracy: 0.0143\n",
      "Epoch 14/30\n",
      "18/18 [==============================] - 1s 41ms/step - loss: 0.1313 - accuracy: 0.2522 - val_loss: 0.1371 - val_accuracy: 0.0071\n",
      "Epoch 15/30\n",
      "18/18 [==============================] - 1s 41ms/step - loss: 0.1303 - accuracy: 0.2509 - val_loss: 0.1372 - val_accuracy: 0.0071\n",
      "Epoch 16/30\n",
      "18/18 [==============================] - 1s 42ms/step - loss: 0.1303 - accuracy: 0.2594 - val_loss: 0.1375 - val_accuracy: 0.0071\n",
      "Epoch 16: early stopping\n"
     ]
    },
    {
     "data": {
      "text/plain": [
       "<keras.callbacks.History at 0x1b51d48ba00>"
      ]
     },
     "execution_count": 37,
     "metadata": {},
     "output_type": "execute_result"
    }
   ],
   "source": [
    "from tensorflow.keras.callbacks import EarlyStopping\n",
    "early_stop = EarlyStopping(monitor='val_loss',  patience=3, verbose=1)\n",
    "# stop if loss does not improve for 3 iterations\n",
    "\n",
    "model_mse.fit(resnet_mse_features[:split_point], y_train[:split_point], batch_size=128, epochs=30, \n",
    "              validation_data=(resnet_mse_features[split_point:], y_train[split_point:]), callbacks=[early_stop], verbose=1)\n"
   ]
  },
  {
   "cell_type": "code",
   "execution_count": 38,
   "id": "ef692a23",
   "metadata": {},
   "outputs": [],
   "source": [
    "model_mse.save('model_mse.h5') "
   ]
  },
  {
   "cell_type": "code",
   "execution_count": 39,
   "id": "508e3e07",
   "metadata": {},
   "outputs": [],
   "source": [
    "Test_prediction = []\n",
    "for files in os.listdir('./Data/Test_2'):\n",
    "\n",
    "    if files== 'desktop.ini':\n",
    "        pass\n",
    "    else:    \n",
    "        test_img = get_image(f'./Data/Test_2/{files}')\n",
    "        image_batch = np.expand_dims(test_img, axis=0)\n",
    "        image_batch = np.copy(image_batch)\n",
    "        image_batch = resnet50.preprocess_input(image_batch)\n",
    "        feature_input = resnet_mse_model.predict(image_batch)\n",
    "        predictions = model_mse.predict(feature_input)\n",
    "        pos = np.argmax(predictions)\n",
    "        Test_prediction.append(pos)\n"
   ]
  },
  {
   "cell_type": "code",
   "execution_count": 40,
   "id": "e96ea036",
   "metadata": {},
   "outputs": [],
   "source": [
    "y_test = pd.read_excel(r'./Data/test_2_label.xlsx',usecols=[1,1])\n",
    "y_test = y_test.to_numpy()\n",
    "y_test = np.squeeze(y_test)"
   ]
  },
  {
   "cell_type": "code",
   "execution_count": 41,
   "id": "1c66a230",
   "metadata": {},
   "outputs": [
    {
     "name": "stdout",
     "output_type": "stream",
     "text": [
      "Test accuracy:  0.2857142857142857\n"
     ]
    }
   ],
   "source": [
    "test_acc = (Test_prediction == y_test).mean()\n",
    "print('Test accuracy: ', test_acc)"
   ]
  },
  {
   "cell_type": "markdown",
   "id": "0efc2734",
   "metadata": {},
   "source": [
    "### Resnet with MeanAbsoluteError"
   ]
  },
  {
   "cell_type": "code",
   "execution_count": 20,
   "id": "4fb353af",
   "metadata": {},
   "outputs": [
    {
     "name": "stdout",
     "output_type": "stream",
     "text": [
      "40/40 [==============================] - 199s 5s/step\n",
      "(2520, 7, 7, 2048)\n"
     ]
    }
   ],
   "source": [
    "resnet_mae_x_train = resnet50.preprocess_input(x_train.copy())\n",
    "resnet_mae_model = resnet50.ResNet50(weights='imagenet', include_top=False)\n",
    "resnet_mae_features = resnet_mae_model.predict(resnet_mae_x_train, batch_size=64, verbose=1)\n",
    "print(resnet_mae_features.shape)"
   ]
  },
  {
   "cell_type": "code",
   "execution_count": 21,
   "id": "3b45e5c2",
   "metadata": {},
   "outputs": [
    {
     "name": "stdout",
     "output_type": "stream",
     "text": [
      "(None, 2048)\n",
      "(None, 7)\n"
     ]
    }
   ],
   "source": [
    "inputs = Input(shape = (7, 7, 2048)) # to take 7 x 7 x 2048 images\n",
    "x = GlobalAveragePooling2D()(inputs) # to convert to 2048 feagures\n",
    "print(x.shape)\n",
    "x = Dropout(0.5)(x) # add a dropout layer\n",
    "x = Dense(500)(x) # add a dense layer, but not adding activation so that we can add batch-norm first\n",
    "x = BatchNormalization()(x)\n",
    "x = Activation(\"relu\")(x)\n",
    "x = Dropout(0.5)(x) # add a dropout layer\n",
    "# Softmax layer to the output classes\n",
    "predictions = Dense(num_classes, activation='softmax')(x) # arg1 is: units = dimensionality of the output space.\n",
    "print(predictions.shape)\n"
   ]
  },
  {
   "cell_type": "code",
   "execution_count": 22,
   "id": "a135452c",
   "metadata": {},
   "outputs": [
    {
     "name": "stdout",
     "output_type": "stream",
     "text": [
      "Model: \"model_1\"\n",
      "_________________________________________________________________\n",
      " Layer (type)                Output Shape              Param #   \n",
      "=================================================================\n",
      " input_5 (InputLayer)        [(None, 7, 7, 2048)]      0         \n",
      "                                                                 \n",
      " global_average_pooling2d_1   (None, 2048)             0         \n",
      " (GlobalAveragePooling2D)                                        \n",
      "                                                                 \n",
      " dropout_2 (Dropout)         (None, 2048)              0         \n",
      "                                                                 \n",
      " dense_2 (Dense)             (None, 500)               1024500   \n",
      "                                                                 \n",
      " batch_normalization_1 (Batc  (None, 500)              2000      \n",
      " hNormalization)                                                 \n",
      "                                                                 \n",
      " activation_1 (Activation)   (None, 500)               0         \n",
      "                                                                 \n",
      " dropout_3 (Dropout)         (None, 500)               0         \n",
      "                                                                 \n",
      " dense_3 (Dense)             (None, 7)                 3507      \n",
      "                                                                 \n",
      "=================================================================\n",
      "Total params: 1,030,007\n",
      "Trainable params: 1,029,007\n",
      "Non-trainable params: 1,000\n",
      "_________________________________________________________________\n"
     ]
    }
   ],
   "source": [
    "model_mae = Model(inputs=inputs, outputs=predictions) # specify what is network input, and what is network output\n",
    "model_mae.summary()\n"
   ]
  },
  {
   "cell_type": "code",
   "execution_count": 23,
   "id": "0e7cdd71",
   "metadata": {},
   "outputs": [],
   "source": [
    "model_mae.compile(loss='MeanAbsoluteError', optimizer=\"adam\", metrics=['accuracy'])"
   ]
  },
  {
   "cell_type": "code",
   "execution_count": 24,
   "id": "a29a67f0",
   "metadata": {},
   "outputs": [
    {
     "name": "stdout",
     "output_type": "stream",
     "text": [
      "Epoch 1/30\n",
      "18/18 [==============================] - 1s 43ms/step - loss: 0.1599 - accuracy: 0.4875 - val_loss: 0.2856 - val_accuracy: 0.0000e+00\n",
      "Epoch 2/30\n",
      "18/18 [==============================] - 1s 37ms/step - loss: 0.0974 - accuracy: 0.7031 - val_loss: 0.2856 - val_accuracy: 0.0000e+00\n",
      "Epoch 3/30\n",
      "18/18 [==============================] - 1s 37ms/step - loss: 0.0805 - accuracy: 0.7464 - val_loss: 0.2855 - val_accuracy: 0.0000e+00\n",
      "Epoch 4/30\n",
      "18/18 [==============================] - 1s 37ms/step - loss: 0.0730 - accuracy: 0.7746 - val_loss: 0.2853 - val_accuracy: 0.0000e+00\n",
      "Epoch 5/30\n",
      "18/18 [==============================] - 1s 37ms/step - loss: 0.0649 - accuracy: 0.8013 - val_loss: 0.2844 - val_accuracy: 0.0000e+00\n",
      "Epoch 6/30\n",
      "18/18 [==============================] - 1s 37ms/step - loss: 0.0582 - accuracy: 0.8237 - val_loss: 0.2824 - val_accuracy: 0.0000e+00\n",
      "Epoch 7/30\n",
      "18/18 [==============================] - 1s 39ms/step - loss: 0.0559 - accuracy: 0.8295 - val_loss: 0.2772 - val_accuracy: 0.0107\n",
      "Epoch 8/30\n",
      "18/18 [==============================] - 1s 38ms/step - loss: 0.0516 - accuracy: 0.8446 - val_loss: 0.2666 - val_accuracy: 0.0250\n",
      "Epoch 9/30\n",
      "18/18 [==============================] - 1s 40ms/step - loss: 0.0490 - accuracy: 0.8513 - val_loss: 0.2276 - val_accuracy: 0.2286\n",
      "Epoch 10/30\n",
      "18/18 [==============================] - 1s 36ms/step - loss: 0.0478 - accuracy: 0.8545 - val_loss: 0.0680 - val_accuracy: 0.7679\n",
      "Epoch 11/30\n",
      "18/18 [==============================] - 1s 37ms/step - loss: 0.0415 - accuracy: 0.8777 - val_loss: 0.0242 - val_accuracy: 0.9179\n",
      "Epoch 12/30\n",
      "18/18 [==============================] - 1s 37ms/step - loss: 0.0388 - accuracy: 0.8875 - val_loss: 0.0276 - val_accuracy: 0.9179\n",
      "Epoch 13/30\n",
      "18/18 [==============================] - 1s 38ms/step - loss: 0.0371 - accuracy: 0.8835 - val_loss: 0.0157 - val_accuracy: 0.9500\n",
      "Epoch 14/30\n",
      "18/18 [==============================] - 1s 38ms/step - loss: 0.0361 - accuracy: 0.8924 - val_loss: 0.0130 - val_accuracy: 0.9571\n",
      "Epoch 15/30\n",
      "18/18 [==============================] - 1s 37ms/step - loss: 0.0334 - accuracy: 0.9009 - val_loss: 0.0116 - val_accuracy: 0.9571\n",
      "Epoch 16/30\n",
      "18/18 [==============================] - 1s 38ms/step - loss: 0.0318 - accuracy: 0.9080 - val_loss: 0.0090 - val_accuracy: 0.9679\n",
      "Epoch 17/30\n",
      "18/18 [==============================] - 1s 41ms/step - loss: 0.0295 - accuracy: 0.9143 - val_loss: 0.0067 - val_accuracy: 0.9786\n",
      "Epoch 18/30\n",
      "18/18 [==============================] - 1s 38ms/step - loss: 0.0309 - accuracy: 0.9129 - val_loss: 0.0059 - val_accuracy: 0.9857\n",
      "Epoch 19/30\n",
      "18/18 [==============================] - 1s 38ms/step - loss: 0.0300 - accuracy: 0.9094 - val_loss: 0.0051 - val_accuracy: 0.9857\n",
      "Epoch 20/30\n",
      "18/18 [==============================] - 1s 38ms/step - loss: 0.0287 - accuracy: 0.9183 - val_loss: 0.0045 - val_accuracy: 0.9857\n",
      "Epoch 21/30\n",
      "18/18 [==============================] - 1s 38ms/step - loss: 0.0275 - accuracy: 0.9183 - val_loss: 0.0036 - val_accuracy: 0.9893\n",
      "Epoch 22/30\n",
      "18/18 [==============================] - 1s 41ms/step - loss: 0.0286 - accuracy: 0.9129 - val_loss: 0.0037 - val_accuracy: 0.9893\n",
      "Epoch 23/30\n",
      "18/18 [==============================] - 1s 37ms/step - loss: 0.0273 - accuracy: 0.9183 - val_loss: 0.0041 - val_accuracy: 0.9857\n",
      "Epoch 24/30\n",
      "18/18 [==============================] - 1s 37ms/step - loss: 0.0256 - accuracy: 0.9272 - val_loss: 0.0038 - val_accuracy: 0.9893\n",
      "Epoch 24: early stopping\n"
     ]
    },
    {
     "data": {
      "text/plain": [
       "<keras.callbacks.History at 0x1b518c31dc0>"
      ]
     },
     "execution_count": 24,
     "metadata": {},
     "output_type": "execute_result"
    }
   ],
   "source": [
    "early_stop = EarlyStopping(monitor='val_loss',  patience=3, verbose=1)\n",
    "# stop if loss does not improve for 3 iterations\n",
    "\n",
    "model_mae.fit(resnet_mae_features[:split_point], y_train[:split_point], batch_size=128, epochs=30, \n",
    "              validation_data=(resnet_mae_features[split_point:], y_train[split_point:]), callbacks=[early_stop], verbose=1)\n"
   ]
  },
  {
   "cell_type": "code",
   "execution_count": 25,
   "id": "3fb5dac7",
   "metadata": {},
   "outputs": [],
   "source": [
    "model_mae.save('model_mae.h5') # you may try load_model.ipynb to see how it's loaded (not required)"
   ]
  },
  {
   "cell_type": "code",
   "execution_count": 26,
   "id": "e0a660b0",
   "metadata": {},
   "outputs": [],
   "source": [
    "Test_prediction1 = []\n",
    "for files in os.listdir('./Data/Test_2'):\n",
    "\n",
    "    if files== 'desktop.ini':\n",
    "        pass\n",
    "    else:    \n",
    "        test_img = get_image(f'./Data/Test_2/{files}')\n",
    "        image_batch = np.expand_dims(test_img, axis=0)\n",
    "        image_batch = np.copy(image_batch)\n",
    "        image_batch = resnet50.preprocess_input(image_batch)\n",
    "        feature_input = resnet_mae_model.predict(image_batch)\n",
    "        predictions = model_mae.predict(feature_input)\n",
    "        pos = np.argmax(predictions)\n",
    "        Test_prediction1.append(pos)\n"
   ]
  },
  {
   "cell_type": "code",
   "execution_count": 27,
   "id": "1d6214dc",
   "metadata": {},
   "outputs": [
    {
     "name": "stdout",
     "output_type": "stream",
     "text": [
      "Test accuracy:  0.7678571428571429\n"
     ]
    }
   ],
   "source": [
    "test_acc = (Test_prediction1 == y_test).mean()\n",
    "print('Test accuracy: ', test_acc)\n"
   ]
  },
  {
   "cell_type": "markdown",
   "id": "df276e1b",
   "metadata": {},
   "source": [
    "### Resnet with Hinge"
   ]
  },
  {
   "cell_type": "code",
   "execution_count": 51,
   "id": "c4cb4fb0",
   "metadata": {},
   "outputs": [
    {
     "name": "stdout",
     "output_type": "stream",
     "text": [
      "40/40 [==============================] - 210s 5s/step\n",
      "(2520, 7, 7, 2048)\n"
     ]
    }
   ],
   "source": [
    "resnet_hinge_x_train = resnet50.preprocess_input(x_train.copy())\n",
    "resnet_hinge_model = resnet50.ResNet50(weights='imagenet', include_top=False)\n",
    "resnet_hinge_features = resnet_hinge_model.predict(resnet_hinge_x_train, batch_size=64, verbose=1)\n",
    "print(resnet_hinge_features.shape)"
   ]
  },
  {
   "cell_type": "code",
   "execution_count": 52,
   "id": "27dffd68",
   "metadata": {},
   "outputs": [
    {
     "name": "stdout",
     "output_type": "stream",
     "text": [
      "(None, 2048)\n",
      "(None, 7)\n"
     ]
    }
   ],
   "source": [
    "inputs = Input(shape = (7, 7, 2048)) # to take 7 x 7 x 2048 images\n",
    "x = GlobalAveragePooling2D()(inputs) # to convert to 2048 feagures\n",
    "print(x.shape)\n",
    "x = Dropout(0.5)(x) # add a dropout layer\n",
    "x = Dense(500)(x) # add a dense layer, but not adding activation so that we can add batch-norm first\n",
    "x = BatchNormalization()(x)\n",
    "x = Activation(\"relu\")(x)\n",
    "x = Dropout(0.5)(x) # add a dropout layer\n",
    "# Softmax layer to the output classes\n",
    "predictions = Dense(num_classes, activation='softmax')(x) # arg1 is: units = dimensionality of the output space.\n",
    "print(predictions.shape)"
   ]
  },
  {
   "cell_type": "code",
   "execution_count": 53,
   "id": "cdb8ccd4",
   "metadata": {},
   "outputs": [
    {
     "name": "stdout",
     "output_type": "stream",
     "text": [
      "Model: \"model_4\"\n",
      "_________________________________________________________________\n",
      " Layer (type)                Output Shape              Param #   \n",
      "=================================================================\n",
      " input_11 (InputLayer)       [(None, 7, 7, 2048)]      0         \n",
      "                                                                 \n",
      " global_average_pooling2d_4   (None, 2048)             0         \n",
      " (GlobalAveragePooling2D)                                        \n",
      "                                                                 \n",
      " dropout_8 (Dropout)         (None, 2048)              0         \n",
      "                                                                 \n",
      " dense_8 (Dense)             (None, 500)               1024500   \n",
      "                                                                 \n",
      " batch_normalization_4 (Batc  (None, 500)              2000      \n",
      " hNormalization)                                                 \n",
      "                                                                 \n",
      " activation_4 (Activation)   (None, 500)               0         \n",
      "                                                                 \n",
      " dropout_9 (Dropout)         (None, 500)               0         \n",
      "                                                                 \n",
      " dense_9 (Dense)             (None, 7)                 3507      \n",
      "                                                                 \n",
      "=================================================================\n",
      "Total params: 1,030,007\n",
      "Trainable params: 1,029,007\n",
      "Non-trainable params: 1,000\n",
      "_________________________________________________________________\n"
     ]
    }
   ],
   "source": [
    "model_hinge = Model(inputs=inputs, outputs=predictions) # specify what is network input, and what is network output\n",
    "model_hinge.summary()"
   ]
  },
  {
   "cell_type": "code",
   "execution_count": 54,
   "id": "ffa9a52c",
   "metadata": {},
   "outputs": [],
   "source": [
    "model_hinge.compile(loss='Hinge', optimizer=\"adam\", metrics=['accuracy'])"
   ]
  },
  {
   "cell_type": "code",
   "execution_count": 55,
   "id": "305bea91",
   "metadata": {},
   "outputs": [
    {
     "name": "stdout",
     "output_type": "stream",
     "text": [
      "Epoch 1/30\n",
      "18/18 [==============================] - 1s 38ms/step - loss: 1.0194 - accuracy: 0.4661 - val_loss: 1.1386 - val_accuracy: 0.0000e+00\n",
      "Epoch 2/30\n",
      "18/18 [==============================] - 1s 30ms/step - loss: 0.9585 - accuracy: 0.6741 - val_loss: 1.1118 - val_accuracy: 0.0679\n",
      "Epoch 3/30\n",
      "18/18 [==============================] - 1s 31ms/step - loss: 0.9379 - accuracy: 0.7500 - val_loss: 0.9989 - val_accuracy: 0.5321\n",
      "Epoch 4/30\n",
      "18/18 [==============================] - 1s 35ms/step - loss: 0.9262 - accuracy: 0.7888 - val_loss: 0.9225 - val_accuracy: 0.7821\n",
      "Epoch 5/30\n",
      "18/18 [==============================] - 1s 31ms/step - loss: 0.9174 - accuracy: 0.8174 - val_loss: 0.8923 - val_accuracy: 0.8929\n",
      "Epoch 6/30\n",
      "18/18 [==============================] - 1s 32ms/step - loss: 0.9128 - accuracy: 0.8353 - val_loss: 0.8864 - val_accuracy: 0.9071\n",
      "Epoch 7/30\n",
      "18/18 [==============================] - 1s 32ms/step - loss: 0.9083 - accuracy: 0.8464 - val_loss: 0.8762 - val_accuracy: 0.9429\n",
      "Epoch 8/30\n",
      "18/18 [==============================] - 1s 35ms/step - loss: 0.9023 - accuracy: 0.8692 - val_loss: 0.8751 - val_accuracy: 0.9500\n",
      "Epoch 9/30\n",
      "18/18 [==============================] - 1s 32ms/step - loss: 0.9006 - accuracy: 0.8754 - val_loss: 0.8729 - val_accuracy: 0.9536\n",
      "Epoch 10/30\n",
      "18/18 [==============================] - 1s 32ms/step - loss: 0.8995 - accuracy: 0.8732 - val_loss: 0.8672 - val_accuracy: 0.9679\n",
      "Epoch 11/30\n",
      "18/18 [==============================] - 1s 32ms/step - loss: 0.8943 - accuracy: 0.8933 - val_loss: 0.8650 - val_accuracy: 0.9750\n",
      "Epoch 12/30\n",
      "18/18 [==============================] - 1s 32ms/step - loss: 0.8948 - accuracy: 0.8933 - val_loss: 0.8631 - val_accuracy: 0.9857\n",
      "Epoch 13/30\n",
      "18/18 [==============================] - 1s 38ms/step - loss: 0.8914 - accuracy: 0.8987 - val_loss: 0.8634 - val_accuracy: 0.9821\n",
      "Epoch 14/30\n",
      "18/18 [==============================] - 1s 32ms/step - loss: 0.8915 - accuracy: 0.9000 - val_loss: 0.8632 - val_accuracy: 0.9821\n",
      "Epoch 15/30\n",
      "18/18 [==============================] - 1s 32ms/step - loss: 0.8891 - accuracy: 0.9058 - val_loss: 0.8612 - val_accuracy: 0.9893\n",
      "Epoch 16/30\n",
      "18/18 [==============================] - 1s 32ms/step - loss: 0.8876 - accuracy: 0.9112 - val_loss: 0.8606 - val_accuracy: 0.9893\n",
      "Epoch 17/30\n",
      "18/18 [==============================] - 1s 32ms/step - loss: 0.8889 - accuracy: 0.9080 - val_loss: 0.8615 - val_accuracy: 0.9893\n",
      "Epoch 18/30\n",
      "18/18 [==============================] - 1s 35ms/step - loss: 0.8871 - accuracy: 0.9121 - val_loss: 0.8617 - val_accuracy: 0.9893\n",
      "Epoch 19/30\n",
      "18/18 [==============================] - 1s 32ms/step - loss: 0.8846 - accuracy: 0.9219 - val_loss: 0.8611 - val_accuracy: 0.9893\n",
      "Epoch 19: early stopping\n"
     ]
    },
    {
     "data": {
      "text/plain": [
       "<keras.callbacks.History at 0x1b51b2e1070>"
      ]
     },
     "execution_count": 55,
     "metadata": {},
     "output_type": "execute_result"
    }
   ],
   "source": [
    "early_stop = EarlyStopping(monitor='val_loss',  patience=3, verbose=1)\n",
    "# stop if loss does not improve for 3 iterations\n",
    "\n",
    "model_hinge.fit(resnet_hinge_features[:split_point], y_train[:split_point], batch_size=128, epochs=30, \n",
    "              validation_data=(resnet_hinge_features[split_point:], y_train[split_point:]), callbacks=[early_stop], verbose=1)\n"
   ]
  },
  {
   "cell_type": "code",
   "execution_count": 56,
   "id": "f9608db0",
   "metadata": {},
   "outputs": [],
   "source": [
    "model_hinge.save('model_hinge.h5') # you may try load_model.ipynb to see how it's loaded (not required)"
   ]
  },
  {
   "cell_type": "code",
   "execution_count": 57,
   "id": "e12a970a",
   "metadata": {},
   "outputs": [],
   "source": [
    "Test_prediction6 = []\n",
    "for files in os.listdir('./Data/Test_2'):\n",
    "\n",
    "    if files== 'desktop.ini':\n",
    "        pass\n",
    "    else:    \n",
    "        test_img = get_image(f'./Data/Test_2/{files}')\n",
    "        image_batch = np.expand_dims(test_img, axis=0)\n",
    "        image_batch = np.copy(image_batch)\n",
    "        image_batch = resnet50.preprocess_input(image_batch)\n",
    "        feature_input = resnet_hinge_model.predict(image_batch)\n",
    "        predictions = model_hinge.predict(feature_input)\n",
    "        pos = np.argmax(predictions)\n",
    "        Test_prediction6.append(pos)\n"
   ]
  },
  {
   "cell_type": "code",
   "execution_count": 58,
   "id": "daec8d35",
   "metadata": {},
   "outputs": [
    {
     "name": "stdout",
     "output_type": "stream",
     "text": [
      "Test accuracy:  0.75\n"
     ]
    }
   ],
   "source": [
    "test_acc = (Test_prediction6 == y_test).mean()\n",
    "print('Test accuracy: ', test_acc)\n"
   ]
  },
  {
   "cell_type": "markdown",
   "id": "146c231c",
   "metadata": {},
   "source": [
    "### Resnet with SquaredHinge"
   ]
  },
  {
   "cell_type": "code",
   "execution_count": 59,
   "id": "e60b6389",
   "metadata": {},
   "outputs": [
    {
     "name": "stdout",
     "output_type": "stream",
     "text": [
      "40/40 [==============================] - 208s 5s/step\n",
      "(2520, 7, 7, 2048)\n"
     ]
    }
   ],
   "source": [
    "from tensorflow.keras.applications import resnet50\n",
    "resnet_sh_x_train = resnet50.preprocess_input(x_train.copy())\n",
    "resnet_sh_model = resnet50.ResNet50(weights='imagenet', include_top=False)\n",
    "resnet_sh_features = resnet_sh_model.predict(resnet_sh_x_train, batch_size=64, verbose=1)\n",
    "print(resnet_sh_features.shape)\n"
   ]
  },
  {
   "cell_type": "code",
   "execution_count": 60,
   "id": "3d386662",
   "metadata": {},
   "outputs": [
    {
     "name": "stdout",
     "output_type": "stream",
     "text": [
      "(None, 2048)\n",
      "(None, 7)\n"
     ]
    }
   ],
   "source": [
    "inputs = Input(shape = (7, 7, 2048)) # to take 7 x 7 x 2048 images\n",
    "x = GlobalAveragePooling2D()(inputs) # to convert to 2048 feagures\n",
    "print(x.shape)\n",
    "x = Dropout(0.5)(x) # add a dropout layer\n",
    "x = Dense(500)(x) # add a dense layer, but not adding activation so that we can add batch-norm first\n",
    "x = BatchNormalization()(x)\n",
    "x = Activation(\"relu\")(x)\n",
    "x = Dropout(0.5)(x) # add a dropout layer\n",
    "# Softmax layer to the output classes\n",
    "predictions = Dense(num_classes, activation='softmax')(x) # arg1 is: units = dimensionality of the output space.\n",
    "print(predictions.shape)\n"
   ]
  },
  {
   "cell_type": "code",
   "execution_count": 61,
   "id": "440da0b7",
   "metadata": {},
   "outputs": [
    {
     "name": "stdout",
     "output_type": "stream",
     "text": [
      "Model: \"model_5\"\n",
      "_________________________________________________________________\n",
      " Layer (type)                Output Shape              Param #   \n",
      "=================================================================\n",
      " input_13 (InputLayer)       [(None, 7, 7, 2048)]      0         \n",
      "                                                                 \n",
      " global_average_pooling2d_5   (None, 2048)             0         \n",
      " (GlobalAveragePooling2D)                                        \n",
      "                                                                 \n",
      " dropout_10 (Dropout)        (None, 2048)              0         \n",
      "                                                                 \n",
      " dense_10 (Dense)            (None, 500)               1024500   \n",
      "                                                                 \n",
      " batch_normalization_5 (Batc  (None, 500)              2000      \n",
      " hNormalization)                                                 \n",
      "                                                                 \n",
      " activation_5 (Activation)   (None, 500)               0         \n",
      "                                                                 \n",
      " dropout_11 (Dropout)        (None, 500)               0         \n",
      "                                                                 \n",
      " dense_11 (Dense)            (None, 7)                 3507      \n",
      "                                                                 \n",
      "=================================================================\n",
      "Total params: 1,030,007\n",
      "Trainable params: 1,029,007\n",
      "Non-trainable params: 1,000\n",
      "_________________________________________________________________\n"
     ]
    }
   ],
   "source": [
    "model_sh = Model(inputs=inputs, outputs=predictions) # specify what is network input, and what is network output\n",
    "model_sh.summary()\n"
   ]
  },
  {
   "cell_type": "code",
   "execution_count": 64,
   "id": "f2f1f451",
   "metadata": {},
   "outputs": [],
   "source": [
    "model_sh.compile(loss='SquaredHinge', optimizer=\"adam\", metrics=['accuracy'])"
   ]
  },
  {
   "cell_type": "code",
   "execution_count": 65,
   "id": "423a0338",
   "metadata": {},
   "outputs": [
    {
     "name": "stdout",
     "output_type": "stream",
     "text": [
      "Epoch 1/30\n",
      "18/18 [==============================] - 1s 39ms/step - loss: 1.1149 - accuracy: 0.4897 - val_loss: 1.2486 - val_accuracy: 0.2500\n",
      "Epoch 2/30\n",
      "18/18 [==============================] - 1s 37ms/step - loss: 1.0189 - accuracy: 0.7004 - val_loss: 0.9309 - val_accuracy: 0.8679\n",
      "Epoch 3/30\n",
      "18/18 [==============================] - 1s 53ms/step - loss: 0.9825 - accuracy: 0.7723 - val_loss: 0.9201 - val_accuracy: 0.8821\n",
      "Epoch 4/30\n",
      "18/18 [==============================] - 1s 44ms/step - loss: 0.9655 - accuracy: 0.8071 - val_loss: 0.8980 - val_accuracy: 0.9214\n",
      "Epoch 5/30\n",
      "18/18 [==============================] - 1s 43ms/step - loss: 0.9550 - accuracy: 0.8286 - val_loss: 0.8860 - val_accuracy: 0.9464\n",
      "Epoch 6/30\n",
      "18/18 [==============================] - 1s 40ms/step - loss: 0.9435 - accuracy: 0.8540 - val_loss: 0.8900 - val_accuracy: 0.9429\n",
      "Epoch 7/30\n",
      "18/18 [==============================] - 1s 45ms/step - loss: 0.9384 - accuracy: 0.8629 - val_loss: 0.8799 - val_accuracy: 0.9607\n",
      "Epoch 8/30\n",
      "18/18 [==============================] - 1s 51ms/step - loss: 0.9317 - accuracy: 0.8754 - val_loss: 0.8724 - val_accuracy: 0.9786\n",
      "Epoch 9/30\n",
      "18/18 [==============================] - 1s 34ms/step - loss: 0.9287 - accuracy: 0.8754 - val_loss: 0.8678 - val_accuracy: 0.9857\n",
      "Epoch 10/30\n",
      "18/18 [==============================] - 1s 38ms/step - loss: 0.9244 - accuracy: 0.8844 - val_loss: 0.8649 - val_accuracy: 0.9893\n",
      "Epoch 11/30\n",
      "18/18 [==============================] - 1s 37ms/step - loss: 0.9217 - accuracy: 0.8888 - val_loss: 0.8639 - val_accuracy: 0.9893\n",
      "Epoch 12/30\n",
      "18/18 [==============================] - 1s 34ms/step - loss: 0.9214 - accuracy: 0.8853 - val_loss: 0.8640 - val_accuracy: 0.9893\n",
      "Epoch 13/30\n",
      "18/18 [==============================] - 1s 41ms/step - loss: 0.9174 - accuracy: 0.8978 - val_loss: 0.8646 - val_accuracy: 0.9893\n",
      "Epoch 14/30\n",
      "18/18 [==============================] - 1s 34ms/step - loss: 0.9117 - accuracy: 0.9080 - val_loss: 0.8640 - val_accuracy: 0.9893\n",
      "Epoch 14: early stopping\n"
     ]
    },
    {
     "data": {
      "text/plain": [
       "<keras.callbacks.History at 0x1b52587bc70>"
      ]
     },
     "execution_count": 65,
     "metadata": {},
     "output_type": "execute_result"
    }
   ],
   "source": [
    "early_stop = EarlyStopping(monitor='val_loss',  patience=3, verbose=1)\n",
    "# stop if loss does not improve for 3 iterations\n",
    "\n",
    "model_sh.fit(resnet_sh_features[:split_point], y_train[:split_point], batch_size=128, epochs=30, \n",
    "              validation_data=(resnet_sh_features[split_point:], y_train[split_point:]), callbacks=[early_stop], verbose=1)\n"
   ]
  },
  {
   "cell_type": "code",
   "execution_count": 66,
   "id": "17cab451",
   "metadata": {},
   "outputs": [],
   "source": [
    "model_sh.save('model_sh.h5') # you may try load_model.ipynb to see how it's loaded (not required)"
   ]
  },
  {
   "cell_type": "code",
   "execution_count": 67,
   "id": "96e1e8e0",
   "metadata": {},
   "outputs": [],
   "source": [
    "Test_prediction6 = []\n",
    "for files in os.listdir('./Data/Test_2'):\n",
    "\n",
    "    if files== 'desktop.ini':\n",
    "        pass\n",
    "    else:    \n",
    "        test_img = get_image(f'./Data/Test_2/{files}')\n",
    "        image_batch = np.expand_dims(test_img, axis=0)\n",
    "        image_batch = np.copy(image_batch)\n",
    "        image_batch = resnet50.preprocess_input(image_batch)\n",
    "        feature_input = resnet_sh_model.predict(image_batch)\n",
    "        predictions = model_sh.predict(feature_input)\n",
    "        pos = np.argmax(predictions)\n",
    "        Test_prediction6.append(pos)\n"
   ]
  },
  {
   "cell_type": "code",
   "execution_count": 68,
   "id": "2b36a48e",
   "metadata": {},
   "outputs": [
    {
     "name": "stdout",
     "output_type": "stream",
     "text": [
      "Test accuracy:  0.7571428571428571\n"
     ]
    }
   ],
   "source": [
    "test_acc = (Test_prediction6 == y_test).mean()\n",
    "print('Test accuracy: ', test_acc)\n"
   ]
  },
  {
   "cell_type": "markdown",
   "id": "43982683",
   "metadata": {},
   "source": [
    "### Resnet Squared Hinge with SGD"
   ]
  },
  {
   "cell_type": "code",
   "execution_count": 69,
   "id": "158db54c",
   "metadata": {},
   "outputs": [
    {
     "name": "stdout",
     "output_type": "stream",
     "text": [
      "40/40 [==============================] - 199s 5s/step\n",
      "(2520, 7, 7, 2048)\n"
     ]
    }
   ],
   "source": [
    "from tensorflow.keras.applications import resnet50\n",
    "resnet_shsgd_x_train = resnet50.preprocess_input(x_train.copy())\n",
    "resnet_shsgd_model = resnet50.ResNet50(weights='imagenet', include_top=False)\n",
    "resnet_shsgd_features = resnet_shsgd_model.predict(resnet_shsgd_x_train, batch_size=64, verbose=1)\n",
    "print(resnet_shsgd_features.shape)\n"
   ]
  },
  {
   "cell_type": "code",
   "execution_count": 70,
   "id": "700c65de",
   "metadata": {},
   "outputs": [
    {
     "name": "stdout",
     "output_type": "stream",
     "text": [
      "(None, 2048)\n",
      "(None, 7)\n"
     ]
    }
   ],
   "source": [
    "inputs = Input(shape = (7, 7, 2048)) # to take 7 x 7 x 2048 images\n",
    "x = GlobalAveragePooling2D()(inputs) # to convert to 2048 feagures\n",
    "print(x.shape)\n",
    "x = Dropout(0.5)(x) # add a dropout layer\n",
    "x = Dense(500)(x) # add a dense layer, but not adding activation so that we can add batch-norm first\n",
    "x = BatchNormalization()(x)\n",
    "x = Activation(\"relu\")(x)\n",
    "x = Dropout(0.5)(x) # add a dropout layer\n",
    "# Softmax layer to the output classes\n",
    "predictions = Dense(num_classes, activation='softmax')(x) # arg1 is: units = dimensionality of the output space.\n",
    "print(predictions.shape)"
   ]
  },
  {
   "cell_type": "code",
   "execution_count": 72,
   "id": "9b686938",
   "metadata": {},
   "outputs": [
    {
     "name": "stdout",
     "output_type": "stream",
     "text": [
      "Model: \"model_7\"\n",
      "_________________________________________________________________\n",
      " Layer (type)                Output Shape              Param #   \n",
      "=================================================================\n",
      " input_15 (InputLayer)       [(None, 7, 7, 2048)]      0         \n",
      "                                                                 \n",
      " global_average_pooling2d_6   (None, 2048)             0         \n",
      " (GlobalAveragePooling2D)                                        \n",
      "                                                                 \n",
      " dropout_12 (Dropout)        (None, 2048)              0         \n",
      "                                                                 \n",
      " dense_12 (Dense)            (None, 500)               1024500   \n",
      "                                                                 \n",
      " batch_normalization_6 (Batc  (None, 500)              2000      \n",
      " hNormalization)                                                 \n",
      "                                                                 \n",
      " activation_6 (Activation)   (None, 500)               0         \n",
      "                                                                 \n",
      " dropout_13 (Dropout)        (None, 500)               0         \n",
      "                                                                 \n",
      " dense_13 (Dense)            (None, 7)                 3507      \n",
      "                                                                 \n",
      "=================================================================\n",
      "Total params: 1,030,007\n",
      "Trainable params: 1,029,007\n",
      "Non-trainable params: 1,000\n",
      "_________________________________________________________________\n"
     ]
    }
   ],
   "source": [
    "model_shsgd = Model(inputs=inputs, outputs=predictions) # specify what is network input, and what is network output\n",
    "model_shsgd.summary()\n"
   ]
  },
  {
   "cell_type": "code",
   "execution_count": 73,
   "id": "71a17ba8",
   "metadata": {},
   "outputs": [],
   "source": [
    "model_shsgd.compile(loss='SquaredHinge', optimizer=\"sgd\", metrics=['accuracy'])"
   ]
  },
  {
   "cell_type": "code",
   "execution_count": 74,
   "id": "c9822b32",
   "metadata": {},
   "outputs": [
    {
     "name": "stdout",
     "output_type": "stream",
     "text": [
      "Epoch 1/30\n",
      "18/18 [==============================] - 1s 43ms/step - loss: 1.2427 - accuracy: 0.1781 - val_loss: 1.2234 - val_accuracy: 0.1214\n",
      "Epoch 2/30\n",
      "18/18 [==============================] - 1s 46ms/step - loss: 1.2419 - accuracy: 0.1741 - val_loss: 1.2292 - val_accuracy: 0.0929\n",
      "Epoch 3/30\n",
      "18/18 [==============================] - 1s 59ms/step - loss: 1.2371 - accuracy: 0.1830 - val_loss: 1.2340 - val_accuracy: 0.0536\n",
      "Epoch 4/30\n",
      "18/18 [==============================] - 1s 38ms/step - loss: 1.2331 - accuracy: 0.2022 - val_loss: 1.2383 - val_accuracy: 0.0429\n",
      "Epoch 4: early stopping\n"
     ]
    },
    {
     "data": {
      "text/plain": [
       "<keras.callbacks.History at 0x1b5276e4490>"
      ]
     },
     "execution_count": 74,
     "metadata": {},
     "output_type": "execute_result"
    }
   ],
   "source": [
    "early_stop = EarlyStopping(monitor='val_loss',  patience=3, verbose=1)\n",
    "# stop if loss does not improve for 3 iterations\n",
    "\n",
    "model_shsgd.fit(resnet_shsgd_features[:split_point], y_train[:split_point], batch_size=128, epochs=30, \n",
    "              validation_data=(resnet_shsgd_features[split_point:], y_train[split_point:]), callbacks=[early_stop], verbose=1)\n"
   ]
  },
  {
   "cell_type": "code",
   "execution_count": 75,
   "id": "a26d78c6",
   "metadata": {},
   "outputs": [],
   "source": [
    "model_shsgd.save('model_shsgd.h5') # you may try load_model.ipynb to see how it's loaded (not required)"
   ]
  },
  {
   "cell_type": "code",
   "execution_count": 77,
   "id": "c31bdd14",
   "metadata": {},
   "outputs": [],
   "source": [
    "Test_prediction6 = []\n",
    "for files in os.listdir('./Data/Test_2'):\n",
    "\n",
    "    if files== 'desktop.ini':\n",
    "        pass\n",
    "    else:    \n",
    "        test_img = get_image(f'./Data/Test_2/{files}')\n",
    "        image_batch = np.expand_dims(test_img, axis=0)\n",
    "        image_batch = np.copy(image_batch)\n",
    "        image_batch = resnet50.preprocess_input(image_batch)\n",
    "        feature_input = resnet_shsgd_model.predict(image_batch)\n",
    "        predictions = model_shsgd.predict(feature_input)\n",
    "        pos = np.argmax(predictions)\n",
    "        Test_prediction6.append(pos)\n"
   ]
  },
  {
   "cell_type": "code",
   "execution_count": 78,
   "id": "424fa0f0",
   "metadata": {},
   "outputs": [
    {
     "name": "stdout",
     "output_type": "stream",
     "text": [
      "Test accuracy:  0.24642857142857144\n"
     ]
    }
   ],
   "source": [
    "test_acc = (Test_prediction6 == y_test).mean()\n",
    "print('Test accuracy: ', test_acc)\n"
   ]
  },
  {
   "cell_type": "code",
   "execution_count": null,
   "id": "a7f4dcb6",
   "metadata": {},
   "outputs": [],
   "source": []
  }
 ],
 "metadata": {
  "anaconda-cloud": {},
  "kernelspec": {
   "display_name": "Python 3",
   "language": "python",
   "name": "python3"
  },
  "language_info": {
   "codemirror_mode": {
    "name": "ipython",
    "version": 3
   },
   "file_extension": ".py",
   "mimetype": "text/x-python",
   "name": "python",
   "nbconvert_exporter": "python",
   "pygments_lexer": "ipython3",
   "version": "3.8.8"
  }
 },
 "nbformat": 4,
 "nbformat_minor": 5
}
