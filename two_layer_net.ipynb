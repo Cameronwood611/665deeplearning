{
 "cells": [
  {
   "cell_type": "code",
   "execution_count": 1,
   "id": "9a521c68",
   "metadata": {},
   "outputs": [],
   "source": [
    "import pandas as pd\n",
    "import numpy as np\n",
    "import os\n",
    "import cv2\n",
    "import matplotlib.pyplot as plt"
   ]
  },
  {
   "cell_type": "code",
   "execution_count": 2,
   "id": "a3fc7d6f",
   "metadata": {},
   "outputs": [],
   "source": [
    "#collects all the images from the folders.\n",
    "def collect_all(folder):\n",
    "    images = []\n",
    "    for filename in os.listdir(folder):\n",
    "        if filename == 'desktop.ini':\n",
    "            pass\n",
    "        else:        \n",
    "            #print(filename)\n",
    "            im = cv2.imread(f'{folder}/{filename}')\n",
    "            #print(im.shape)\n",
    "            images.append(im)\n",
    "\n",
    "    return np.array(images)"
   ]
  },
  {
   "cell_type": "code",
   "execution_count": 3,
   "id": "893a3acf",
   "metadata": {},
   "outputs": [
    {
     "name": "stdout",
     "output_type": "stream",
     "text": [
      "(280, 250, 250, 3)\n"
     ]
    }
   ],
   "source": [
    "folder1 = './Test'\n",
    "X_test = collect_all(folder1)\n",
    "print(X_test.shape)"
   ]
  },
  {
   "cell_type": "code",
   "execution_count": 4,
   "id": "91076f7b",
   "metadata": {},
   "outputs": [
    {
     "name": "stdout",
     "output_type": "stream",
     "text": [
      "(2240, 250, 250, 3)\n"
     ]
    }
   ],
   "source": [
    "folder2 = './Train'\n",
    "X_train = collect_all(folder2)\n",
    "print(X_train.shape)"
   ]
  },
  {
   "cell_type": "code",
   "execution_count": 5,
   "id": "4097224e",
   "metadata": {},
   "outputs": [
    {
     "name": "stdout",
     "output_type": "stream",
     "text": [
      "(280, 250, 250, 3)\n"
     ]
    }
   ],
   "source": [
    "folder3 = './Val'\n",
    "X_val = collect_all(folder3)\n",
    "print(X_val.shape)"
   ]
  },
  {
   "cell_type": "code",
   "execution_count": 6,
   "id": "f6edc81e",
   "metadata": {},
   "outputs": [
    {
     "name": "stdout",
     "output_type": "stream",
     "text": [
      "(280,)\n"
     ]
    }
   ],
   "source": [
    "y_test = pd.read_excel(r'C:/Users/kjcox/Google Drive/UAB/Classes/DL/Final/test_label.xlsx',header=None,usecols=[1,1])\n",
    "\n",
    "y_test = y_test.to_numpy()\n",
    "\n",
    "y_test = np.squeeze(y_test)\n",
    "\n",
    "print(y_test.shape)"
   ]
  },
  {
   "cell_type": "code",
   "execution_count": 7,
   "id": "35c73e4b",
   "metadata": {},
   "outputs": [
    {
     "name": "stdout",
     "output_type": "stream",
     "text": [
      "(2240,)\n"
     ]
    }
   ],
   "source": [
    "y_train = pd.read_excel(r'C:/Users/kjcox/Google Drive/UAB/Classes/DL/Final/train_label.xlsx',header=None,usecols=[1,1])\n",
    "\n",
    "y_train = y_train.to_numpy()\n",
    "\n",
    "y_train = np.squeeze(y_train)\n",
    "print(y_train.shape)"
   ]
  },
  {
   "cell_type": "code",
   "execution_count": 8,
   "id": "7853556a",
   "metadata": {},
   "outputs": [
    {
     "name": "stdout",
     "output_type": "stream",
     "text": [
      "(280,)\n"
     ]
    }
   ],
   "source": [
    "y_val = pd.read_excel(r'C:/Users/kjcox/Google Drive/UAB/Classes/DL/Final/val_label.xlsx',header=None,usecols=[1,1])\n",
    "\n",
    "y_val = y_val.to_numpy()\n",
    "\n",
    "y_val = np.squeeze(y_val)\n",
    "print(y_val.shape)"
   ]
  },
  {
   "cell_type": "markdown",
   "id": "f34ea421",
   "metadata": {},
   "source": [
    "So far, we have X_test, y_test, X_train, y_train, X_val, y_val"
   ]
  },
  {
   "cell_type": "code",
   "execution_count": 9,
   "id": "f8a334ba",
   "metadata": {},
   "outputs": [],
   "source": [
    "mean_image = np.mean(X_train, axis=0)\n",
    "X_train = X_train.astype('float32')\n",
    "X_val = X_val.astype('float32')\n",
    "X_test = X_test.astype('float32')\n",
    "\n",
    "X_train -= mean_image\n",
    "X_val -= mean_image\n",
    "X_test -= mean_image\n"
   ]
  },
  {
   "cell_type": "code",
   "execution_count": 10,
   "id": "d88263ad",
   "metadata": {},
   "outputs": [
    {
     "name": "stdout",
     "output_type": "stream",
     "text": [
      "X_train shape:  (2240, 187500)\n",
      "y_train shape:  (2240,)\n",
      "X_val shape:  (280, 187500)\n",
      "y_val shape:  (280,)\n",
      "X_test shape:  (280, 187500)\n",
      "y_test shape:  (280,)\n"
     ]
    }
   ],
   "source": [
    "#reshape data to rows\n",
    "X_train = X_train.reshape(X_train.shape[0], -1)\n",
    "X_val = X_val.reshape(X_val.shape[0], -1)\n",
    "X_test = X_test.reshape(X_test.shape[0], -1)\n",
    "\n",
    "print('X_train shape: ',X_train.shape)\n",
    "print('y_train shape: ',y_train.shape)\n",
    "print('X_val shape: ', X_val.shape)\n",
    "print('y_val shape: ', y_val.shape)\n",
    "print('X_test shape: ', X_test.shape)\n",
    "print('y_test shape: ', y_test.shape)"
   ]
  },
  {
   "cell_type": "code",
   "execution_count": 11,
   "id": "91b07d85",
   "metadata": {},
   "outputs": [],
   "source": [
    "from __future__ import print_function\n",
    "import numpy as np\n",
    "import matplotlib.pyplot as plt\n",
    "\n",
    "from cs665.classifiers.neural_net import TwoLayerNet\n",
    "from cs665.gradient_check import eval_numerical_gradient"
   ]
  },
  {
   "cell_type": "code",
   "execution_count": 12,
   "id": "26e1de29",
   "metadata": {},
   "outputs": [
    {
     "name": "stdout",
     "output_type": "stream",
     "text": [
      "iteration 0 / 1000: loss 1.969340\n",
      "iteration 100 / 1000: loss 1.770125\n",
      "iteration 200 / 1000: loss 1.101180\n",
      "iteration 300 / 1000: loss 0.637451\n",
      "iteration 400 / 1000: loss 0.267667\n",
      "iteration 500 / 1000: loss 0.172593\n",
      "iteration 600 / 1000: loss 0.168643\n",
      "iteration 700 / 1000: loss 0.102605\n",
      "iteration 800 / 1000: loss 0.078580\n",
      "iteration 900 / 1000: loss 0.078594\n",
      "Validation accuracy:  0.9428571428571428\n"
     ]
    }
   ],
   "source": [
    "input_size = 250 * 250 * 3\n",
    "hidden_size = 50\n",
    "num_classes = 7\n",
    "net = TwoLayerNet(input_size, hidden_size, num_classes)\n",
    "\n",
    "# Train the network\n",
    "stats = net.train(X_train, y_train, X_val, y_val,\n",
    "            num_iters=1000, batch_size=200,\n",
    "            learning_rate=1e-4, learning_rate_decay=0.95,\n",
    "            reg=0.25, verbose=True)\n",
    "\n",
    "# Predict on the validation set\n",
    "val_acc = (net.predict(X_val) == y_val).mean()\n",
    "print('Validation accuracy: ', val_acc)\n"
   ]
  },
  {
   "cell_type": "code",
   "execution_count": 13,
   "id": "265ac28a",
   "metadata": {},
   "outputs": [
    {
     "data": {
      "image/png": "[encoded data removed]",
      "text/plain": [
       "<Figure size 432x288 with 2 Axes>"
      ]
     },
     "metadata": {
      "needs_background": "light"
     },
     "output_type": "display_data"
    }
   ],
   "source": [
    "plt.subplot(2, 1, 1)\n",
    "plt.plot(stats['loss_history'])\n",
    "plt.title('Loss history')\n",
    "plt.xlabel('Iteration')\n",
    "plt.ylabel('Loss')\n",
    "\n",
    "plt.subplot(2, 1, 2)\n",
    "plt.plot(stats['train_acc_history'], label='train')\n",
    "plt.plot(stats['val_acc_history'], label='val')\n",
    "plt.title('Classification accuracy history')\n",
    "plt.xlabel('Epoch')\n",
    "plt.ylabel('Clasification accuracy')\n",
    "plt.legend()\n",
    "plt.show()"
   ]
  },
  {
   "cell_type": "code",
   "execution_count": 14,
   "id": "e2aa6f70",
   "metadata": {},
   "outputs": [
    {
     "name": "stdout",
     "output_type": "stream",
     "text": [
      "[0.17]\n"
     ]
    }
   ],
   "source": [
    "print(stats['train_acc_history'])"
   ]
  },
  {
   "cell_type": "code",
   "execution_count": 16,
   "id": "023c9553",
   "metadata": {},
   "outputs": [
    {
     "data": {
      "image/png": "[encoded data removed]",
      "text/plain": [
       "<Figure size 432x288 with 1 Axes>"
      ]
     },
     "metadata": {
      "needs_background": "light"
     },
     "output_type": "display_data"
    }
   ],
   "source": [
    "from cs665.vis_utils import visualize_grid\n",
    "\n",
    "# Visualize the weights of the network\n",
    "\n",
    "def show_net_weights(net):\n",
    "    W1 = net.params['W1']\n",
    "    #print(W1.shape)\n",
    "    W1 = W1.reshape(250, 250, 3, -1).transpose(3, 0, 1, 2)\n",
    "    #print(W1.shape)\n",
    "    plt.imshow(visualize_grid(W1, padding=3).astype('uint8'))\n",
    "    plt.gca().axis('off')\n",
    "    plt.show()\n",
    "\n",
    "show_net_weights(net)"
   ]
  },
  {
   "cell_type": "code",
   "execution_count": 20,
   "id": "7fd0fe22",
   "metadata": {},
   "outputs": [
    {
     "name": "stdout",
     "output_type": "stream",
     "text": [
      "Test accuracy:  0.9785714285714285\n"
     ]
    }
   ],
   "source": [
    "test_acc = (net.predict(X_test) == y_test).mean()\n",
    "print('Test accuracy: ', test_acc)"
   ]
  },
  {
   "cell_type": "code",
   "execution_count": 27,
   "id": "68856fde",
   "metadata": {},
   "outputs": [
    {
     "name": "stdout",
     "output_type": "stream",
     "text": [
      "[0 0 0 0 0 0 0 0 0 0 0 0 0 0 0 0 0 0 0 0 0 0 0 0 0 0 0 0 0 0 0 0 0 0 0 0 0\n",
      " 0 0 0 1 1 1 1 1 1 1 1 1 1 1 1 1 1 1 1 1 1 1 1 1 1 1 1 1 1 1 1 1 1 1 1 1 1\n",
      " 1 1 1 1 1 1 2 2 2 2 2 2 2 2 2 2 2 2 0 2 2 2 2 2 2 2 2 2 2 2 2 2 2 2 2 2 2\n",
      " 2 2 2 2 2 2 2 2 2 3 3 2 3 3 3 3 3 3 3 3 3 3 3 3 3 3 3 3 3 3 3 3 3 3 3 3 3\n",
      " 3 3 3 3 3 3 3 2 3 2 3 3 4 4 4 4 4 4 4 4 4 4 4 4 4 4 4 4 4 4 4 4 4 4 4 4 4\n",
      " 4 4 4 4 4 4 4 4 4 4 4 4 4 4 4 5 5 5 5 5 5 5 5 5 5 5 5 5 5 5 5 5 5 5 5 5 5\n",
      " 5 5 5 5 1 5 5 5 5 4 5 5 5 5 5 5 5 5 6 6 6 6 6 6 6 6 6 6 6 6 6 6 6 6 6 6 6\n",
      " 6 6 6 6 6 6 6 6 6 6 6 6 6 6 6 6 6 6 6 6 6]\n"
     ]
    }
   ],
   "source": [
    "print(net.predict(X_test))"
   ]
  },
  {
   "cell_type": "code",
   "execution_count": 29,
   "id": "8d4e29a9",
   "metadata": {},
   "outputs": [],
   "source": [
    "prediction = net.predict(X_test)\n",
    "\n",
    "pred_names= []\n",
    "for i in prediction:\n",
    "    if i==0:\n",
    "        pred_names.append('distribute')\n",
    "    if i==1:\n",
    "        pred_names.append('ineq')\n",
    "    if i==2:\n",
    "        pred_names.append('integral')\n",
    "    if i==3:\n",
    "        pred_names.append('limit')\n",
    "    if i==4:\n",
    "        pred_names.append('matrix')\n",
    "    if i==5:\n",
    "        pred_names.append('series')\n",
    "    if i==6:\n",
    "        pred_names.append('sqrt')"
   ]
  },
  {
   "cell_type": "code",
   "execution_count": 30,
   "id": "522ba6bd",
   "metadata": {},
   "outputs": [
    {
     "name": "stdout",
     "output_type": "stream",
     "text": [
      "file name:  ['distribute_1'] prediction:  distribute\n",
      "file name:  ['distribute_2'] prediction:  distribute\n",
      "file name:  ['distribute_3'] prediction:  distribute\n",
      "file name:  ['distribute_4'] prediction:  distribute\n",
      "file name:  ['distribute_5'] prediction:  distribute\n",
      "file name:  ['distribute_6'] prediction:  distribute\n",
      "file name:  ['distribute_7'] prediction:  distribute\n",
      "file name:  ['distribute_8'] prediction:  distribute\n",
      "file name:  ['distribute_9'] prediction:  distribute\n",
      "file name:  ['distribute_10'] prediction:  distribute\n",
      "file name:  ['distribute_11'] prediction:  distribute\n",
      "file name:  ['distribute_12'] prediction:  distribute\n",
      "file name:  ['distribute_13'] prediction:  distribute\n",
      "file name:  ['distribute_14'] prediction:  distribute\n",
      "file name:  ['distribute_15'] prediction:  distribute\n",
      "file name:  ['distribute_16'] prediction:  distribute\n",
      "file name:  ['distribute_17'] prediction:  distribute\n",
      "file name:  ['distribute_18'] prediction:  distribute\n",
      "file name:  ['distribute_19'] prediction:  distribute\n",
      "file name:  ['distribute_20'] prediction:  distribute\n",
      "file name:  ['distribute_21'] prediction:  distribute\n",
      "file name:  ['distribute_22'] prediction:  distribute\n",
      "file name:  ['distribute_23'] prediction:  distribute\n",
      "file name:  ['distribute_24'] prediction:  distribute\n",
      "file name:  ['distribute_25'] prediction:  distribute\n",
      "file name:  ['distribute_26'] prediction:  distribute\n",
      "file name:  ['distribute_27'] prediction:  distribute\n",
      "file name:  ['distribute_28'] prediction:  distribute\n",
      "file name:  ['distribute_29'] prediction:  distribute\n",
      "file name:  ['distribute_30'] prediction:  distribute\n",
      "file name:  ['distribute_31'] prediction:  distribute\n",
      "file name:  ['distribute_32'] prediction:  distribute\n",
      "file name:  ['distribute_33'] prediction:  distribute\n",
      "file name:  ['distribute_34'] prediction:  distribute\n",
      "file name:  ['distribute_35'] prediction:  distribute\n",
      "file name:  ['distribute_36'] prediction:  distribute\n",
      "file name:  ['distribute_37'] prediction:  distribute\n",
      "file name:  ['distribute_38'] prediction:  distribute\n",
      "file name:  ['distribute_39'] prediction:  distribute\n",
      "file name:  ['distribute_40'] prediction:  distribute\n",
      "file name:  ['ineq_0'] prediction:  ineq\n",
      "file name:  ['ineq_1'] prediction:  ineq\n",
      "file name:  ['ineq_2'] prediction:  ineq\n",
      "file name:  ['ineq_3'] prediction:  ineq\n",
      "file name:  ['ineq_4'] prediction:  ineq\n",
      "file name:  ['ineq_5'] prediction:  ineq\n",
      "file name:  ['ineq_6'] prediction:  ineq\n",
      "file name:  ['ineq_7'] prediction:  ineq\n",
      "file name:  ['ineq_8'] prediction:  ineq\n",
      "file name:  ['ineq_9'] prediction:  ineq\n",
      "file name:  ['ineq_10'] prediction:  ineq\n",
      "file name:  ['ineq_11'] prediction:  ineq\n",
      "file name:  ['ineq_12'] prediction:  ineq\n",
      "file name:  ['ineq_13'] prediction:  ineq\n",
      "file name:  ['ineq_14'] prediction:  ineq\n",
      "file name:  ['ineq_15'] prediction:  ineq\n",
      "file name:  ['ineq_16'] prediction:  ineq\n",
      "file name:  ['ineq_17'] prediction:  ineq\n",
      "file name:  ['ineq_18'] prediction:  ineq\n",
      "file name:  ['ineq_19'] prediction:  ineq\n",
      "file name:  ['ineq_20'] prediction:  ineq\n",
      "file name:  ['ineq_21'] prediction:  ineq\n",
      "file name:  ['ineq_22'] prediction:  ineq\n",
      "file name:  ['ineq_23'] prediction:  ineq\n",
      "file name:  ['ineq_24'] prediction:  ineq\n",
      "file name:  ['ineq_25'] prediction:  ineq\n",
      "file name:  ['ineq_26'] prediction:  ineq\n",
      "file name:  ['ineq_27'] prediction:  ineq\n",
      "file name:  ['ineq_28'] prediction:  ineq\n",
      "file name:  ['ineq_29'] prediction:  ineq\n",
      "file name:  ['ineq_30'] prediction:  ineq\n",
      "file name:  ['ineq_31'] prediction:  ineq\n",
      "file name:  ['ineq_32'] prediction:  ineq\n",
      "file name:  ['ineq_33'] prediction:  ineq\n",
      "file name:  ['ineq_34'] prediction:  ineq\n",
      "file name:  ['ineq_35'] prediction:  ineq\n",
      "file name:  ['ineq_36'] prediction:  ineq\n",
      "file name:  ['ineq_37'] prediction:  ineq\n",
      "file name:  ['ineq_38'] prediction:  ineq\n",
      "file name:  ['ineq_39'] prediction:  ineq\n",
      "file name:  ['int_0'] prediction:  integral\n",
      "file name:  ['int_1'] prediction:  integral\n",
      "file name:  ['int_2'] prediction:  integral\n",
      "file name:  ['int_3'] prediction:  integral\n",
      "file name:  ['int_4'] prediction:  integral\n",
      "file name:  ['int_5'] prediction:  integral\n",
      "file name:  ['int_6'] prediction:  integral\n",
      "file name:  ['int_7'] prediction:  integral\n",
      "file name:  ['int_8'] prediction:  integral\n",
      "file name:  ['int_9'] prediction:  integral\n",
      "file name:  ['int_10'] prediction:  integral\n",
      "file name:  ['int_11'] prediction:  integral\n",
      "file name:  ['int_12'] prediction:  distribute\n",
      "file name:  ['int_13'] prediction:  integral\n",
      "file name:  ['int_14'] prediction:  integral\n",
      "file name:  ['int_15'] prediction:  integral\n",
      "file name:  ['int_16'] prediction:  integral\n",
      "file name:  ['int_17'] prediction:  integral\n",
      "file name:  ['int_18'] prediction:  integral\n",
      "file name:  ['int_19'] prediction:  integral\n",
      "file name:  ['int_20'] prediction:  integral\n",
      "file name:  ['int_21'] prediction:  integral\n",
      "file name:  ['int_22'] prediction:  integral\n",
      "file name:  ['int_23'] prediction:  integral\n",
      "file name:  ['int_24'] prediction:  integral\n",
      "file name:  ['int_25'] prediction:  integral\n",
      "file name:  ['int_26'] prediction:  integral\n",
      "file name:  ['int_27'] prediction:  integral\n",
      "file name:  ['int_28'] prediction:  integral\n",
      "file name:  ['int_29'] prediction:  integral\n",
      "file name:  ['int_30'] prediction:  integral\n",
      "file name:  ['int_31'] prediction:  integral\n",
      "file name:  ['int_32'] prediction:  integral\n",
      "file name:  ['int_33'] prediction:  integral\n",
      "file name:  ['int_34'] prediction:  integral\n",
      "file name:  ['int_35'] prediction:  integral\n",
      "file name:  ['int_36'] prediction:  integral\n",
      "file name:  ['int_37'] prediction:  integral\n",
      "file name:  ['int_38'] prediction:  integral\n",
      "file name:  ['int_39'] prediction:  integral\n",
      "file name:  ['limit_0'] prediction:  limit\n",
      "file name:  ['limit_1'] prediction:  limit\n",
      "file name:  ['limit_2'] prediction:  integral\n",
      "file name:  ['limit_3'] prediction:  limit\n",
      "file name:  ['limit_4'] prediction:  limit\n",
      "file name:  ['limit_5'] prediction:  limit\n",
      "file name:  ['limit_6'] prediction:  limit\n",
      "file name:  ['limit_7'] prediction:  limit\n",
      "file name:  ['limit_8'] prediction:  limit\n",
      "file name:  ['limit_9'] prediction:  limit\n",
      "file name:  ['limit_10'] prediction:  limit\n",
      "file name:  ['limit_11'] prediction:  limit\n",
      "file name:  ['limit_12'] prediction:  limit\n",
      "file name:  ['limit_13'] prediction:  limit\n",
      "file name:  ['limit_14'] prediction:  limit\n",
      "file name:  ['limit_15'] prediction:  limit\n",
      "file name:  ['limit_16'] prediction:  limit\n",
      "file name:  ['limit_17'] prediction:  limit\n",
      "file name:  ['limit_18'] prediction:  limit\n",
      "file name:  ['limit_19'] prediction:  limit\n",
      "file name:  ['limit_20'] prediction:  limit\n",
      "file name:  ['limit_21'] prediction:  limit\n",
      "file name:  ['limit_22'] prediction:  limit\n",
      "file name:  ['limit_23'] prediction:  limit\n",
      "file name:  ['limit_24'] prediction:  limit\n",
      "file name:  ['limit_25'] prediction:  limit\n",
      "file name:  ['limit_26'] prediction:  limit\n",
      "file name:  ['limit_27'] prediction:  limit\n",
      "file name:  ['limit_28'] prediction:  limit\n",
      "file name:  ['limit_29'] prediction:  limit\n",
      "file name:  ['limit_30'] prediction:  limit\n",
      "file name:  ['limit_31'] prediction:  limit\n",
      "file name:  ['limit_32'] prediction:  limit\n",
      "file name:  ['limit_33'] prediction:  limit\n",
      "file name:  ['limit_34'] prediction:  limit\n",
      "file name:  ['limit_35'] prediction:  integral\n",
      "file name:  ['limit_36'] prediction:  limit\n",
      "file name:  ['limit_37'] prediction:  integral\n",
      "file name:  ['limit_38'] prediction:  limit\n",
      "file name:  ['limit_39'] prediction:  limit\n",
      "file name:  ['mat_0'] prediction:  matrix\n",
      "file name:  ['mat_1'] prediction:  matrix\n",
      "file name:  ['mat_2'] prediction:  matrix\n",
      "file name:  ['mat_3'] prediction:  matrix\n",
      "file name:  ['mat_4'] prediction:  matrix\n",
      "file name:  ['mat_5'] prediction:  matrix\n",
      "file name:  ['mat_6'] prediction:  matrix\n",
      "file name:  ['mat_7'] prediction:  matrix\n",
      "file name:  ['mat_8'] prediction:  matrix\n",
      "file name:  ['mat_9'] prediction:  matrix\n",
      "file name:  ['mat_10'] prediction:  matrix\n",
      "file name:  ['mat_11'] prediction:  matrix\n",
      "file name:  ['mat_12'] prediction:  matrix\n",
      "file name:  ['mat_13'] prediction:  matrix\n",
      "file name:  ['mat_14'] prediction:  matrix\n",
      "file name:  ['mat_15'] prediction:  matrix\n",
      "file name:  ['mat_16'] prediction:  matrix\n",
      "file name:  ['mat_17'] prediction:  matrix\n",
      "file name:  ['mat_18'] prediction:  matrix\n",
      "file name:  ['mat_19'] prediction:  matrix\n",
      "file name:  ['mat_20'] prediction:  matrix\n",
      "file name:  ['mat_21'] prediction:  matrix\n",
      "file name:  ['mat_22'] prediction:  matrix\n",
      "file name:  ['mat_23'] prediction:  matrix\n",
      "file name:  ['mat_24'] prediction:  matrix\n",
      "file name:  ['mat_25'] prediction:  matrix\n",
      "file name:  ['mat_26'] prediction:  matrix\n",
      "file name:  ['mat_27'] prediction:  matrix\n",
      "file name:  ['mat_28'] prediction:  matrix\n",
      "file name:  ['mat_29'] prediction:  matrix\n",
      "file name:  ['mat_30'] prediction:  matrix\n",
      "file name:  ['mat_31'] prediction:  matrix\n",
      "file name:  ['mat_32'] prediction:  matrix\n",
      "file name:  ['mat_33'] prediction:  matrix\n",
      "file name:  ['mat_34'] prediction:  matrix\n",
      "file name:  ['mat_35'] prediction:  matrix\n",
      "file name:  ['mat_36'] prediction:  matrix\n",
      "file name:  ['mat_37'] prediction:  matrix\n",
      "file name:  ['mat_38'] prediction:  matrix\n",
      "file name:  ['mat_39'] prediction:  matrix\n",
      "file name:  ['series_0'] prediction:  series\n",
      "file name:  ['series_1'] prediction:  series\n",
      "file name:  ['series_2'] prediction:  series\n",
      "file name:  ['series_3'] prediction:  series\n",
      "file name:  ['series_4'] prediction:  series\n",
      "file name:  ['series_5'] prediction:  series\n",
      "file name:  ['series_6'] prediction:  series\n",
      "file name:  ['series_7'] prediction:  series\n",
      "file name:  ['series_8'] prediction:  series\n",
      "file name:  ['series_9'] prediction:  series\n",
      "file name:  ['series_10'] prediction:  series\n",
      "file name:  ['series_11'] prediction:  series\n",
      "file name:  ['series_12'] prediction:  series\n",
      "file name:  ['series_13'] prediction:  series\n",
      "file name:  ['series_14'] prediction:  series\n",
      "file name:  ['series_15'] prediction:  series\n",
      "file name:  ['series_16'] prediction:  series\n",
      "file name:  ['series_17'] prediction:  series\n",
      "file name:  ['series_18'] prediction:  series\n",
      "file name:  ['series_19'] prediction:  series\n",
      "file name:  ['series_20'] prediction:  series\n",
      "file name:  ['series_21'] prediction:  series\n",
      "file name:  ['series_22'] prediction:  series\n",
      "file name:  ['series_23'] prediction:  series\n",
      "file name:  ['series_24'] prediction:  series\n",
      "file name:  ['series_25'] prediction:  series\n",
      "file name:  ['series_26'] prediction:  ineq\n",
      "file name:  ['series_27'] prediction:  series\n",
      "file name:  ['series_28'] prediction:  series\n",
      "file name:  ['series_29'] prediction:  series\n",
      "file name:  ['series_30'] prediction:  series\n",
      "file name:  ['series_31'] prediction:  matrix\n",
      "file name:  ['series_32'] prediction:  series\n",
      "file name:  ['series_33'] prediction:  series\n",
      "file name:  ['series_34'] prediction:  series\n",
      "file name:  ['series_35'] prediction:  series\n",
      "file name:  ['series_36'] prediction:  series\n",
      "file name:  ['series_37'] prediction:  series\n",
      "file name:  ['series_38'] prediction:  series\n",
      "file name:  ['series_39'] prediction:  series\n",
      "file name:  ['sqrt_0'] prediction:  sqrt\n",
      "file name:  ['sqrt_1'] prediction:  sqrt\n",
      "file name:  ['sqrt_2'] prediction:  sqrt\n",
      "file name:  ['sqrt_3'] prediction:  sqrt\n",
      "file name:  ['sqrt_4'] prediction:  sqrt\n",
      "file name:  ['sqrt_5'] prediction:  sqrt\n",
      "file name:  ['sqrt_6'] prediction:  sqrt\n",
      "file name:  ['sqrt_7'] prediction:  sqrt\n",
      "file name:  ['sqrt_8'] prediction:  sqrt\n",
      "file name:  ['sqrt_9'] prediction:  sqrt\n",
      "file name:  ['sqrt_10'] prediction:  sqrt\n",
      "file name:  ['sqrt_11'] prediction:  sqrt\n",
      "file name:  ['sqrt_12'] prediction:  sqrt\n",
      "file name:  ['sqrt_13'] prediction:  sqrt\n",
      "file name:  ['sqrt_14'] prediction:  sqrt\n",
      "file name:  ['sqrt_15'] prediction:  sqrt\n",
      "file name:  ['sqrt_16'] prediction:  sqrt\n",
      "file name:  ['sqrt_17'] prediction:  sqrt\n",
      "file name:  ['sqrt_18'] prediction:  sqrt\n",
      "file name:  ['sqrt_19'] prediction:  sqrt\n",
      "file name:  ['sqrt_20'] prediction:  sqrt\n",
      "file name:  ['sqrt_21'] prediction:  sqrt\n",
      "file name:  ['sqrt_22'] prediction:  sqrt\n",
      "file name:  ['sqrt_23'] prediction:  sqrt\n",
      "file name:  ['sqrt_24'] prediction:  sqrt\n",
      "file name:  ['sqrt_25'] prediction:  sqrt\n",
      "file name:  ['sqrt_26'] prediction:  sqrt\n",
      "file name:  ['sqrt_27'] prediction:  sqrt\n",
      "file name:  ['sqrt_28'] prediction:  sqrt\n",
      "file name:  ['sqrt_29'] prediction:  sqrt\n",
      "file name:  ['sqrt_30'] prediction:  sqrt\n",
      "file name:  ['sqrt_31'] prediction:  sqrt\n",
      "file name:  ['sqrt_32'] prediction:  sqrt\n",
      "file name:  ['sqrt_33'] prediction:  sqrt\n",
      "file name:  ['sqrt_34'] prediction:  sqrt\n",
      "file name:  ['sqrt_35'] prediction:  sqrt\n",
      "file name:  ['sqrt_36'] prediction:  sqrt\n",
      "file name:  ['sqrt_37'] prediction:  sqrt\n",
      "file name:  ['sqrt_38'] prediction:  sqrt\n",
      "file name:  ['sqrt_39'] prediction:  sqrt\n"
     ]
    }
   ],
   "source": [
    "\n",
    "\n",
    "tes_names = pd.read_excel(r'C:/Users/kjcox/Google Drive/UAB/Classes/DL/Final/test_label.xlsx',header=None,usecols=[0,0])\n",
    "\n",
    "tes_names = tes_names.to_numpy()\n",
    "\n",
    "for i in range(len(X_test)):\n",
    "    print('file name: ', tes_names[i], 'prediction: ', pred_names[i])"
   ]
  },
  {
   "cell_type": "code",
   "execution_count": null,
   "id": "cfea845f",
   "metadata": {},
   "outputs": [],
   "source": []
  }
 ],
 "metadata": {
  "kernelspec": {
   "display_name": "Python 3",
   "language": "python",
   "name": "python3"
  },
  "language_info": {
   "codemirror_mode": {
    "name": "ipython",
    "version": 3
   },
   "file_extension": ".py",
   "mimetype": "text/x-python",
   "name": "python",
   "nbconvert_exporter": "python",
   "pygments_lexer": "ipython3",
   "version": "3.8.8"
  }
 },
 "nbformat": 4,
 "nbformat_minor": 5
}
