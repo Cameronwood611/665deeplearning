{
 "cells": [
  {
   "cell_type": "code",
   "execution_count": 1,
   "id": "f5c60563",
   "metadata": {},
   "outputs": [],
   "source": [
    "import sys\n",
    "import tensorflow as tf\n",
    "import tensorflow.keras as keras\n",
    "from tensorflow.keras.applications import resnet50\n",
    "\n",
    "model = resnet50.ResNet50(weights='imagenet') # taking input as 224 x 224 x 3 images"
   ]
  },
  {
   "cell_type": "code",
   "execution_count": 2,
   "id": "07e5dd6a",
   "metadata": {},
   "outputs": [],
   "source": [
    "from tensorflow.keras.preprocessing.image import load_img, img_to_array\n",
    "import numpy as np\n",
    "import matplotlib.pyplot as plt\n",
    "%matplotlib inline\n",
    " \n",
    "img_width = 224\n",
    "\n",
    "def get_image(filename):\n",
    "    ########################################################################\n",
    "    # TODO: Your code here...\n",
    "    ########################################################################\n",
    "    original = load_img(filename, target_size=(224,224))\n",
    "    numpy_image = img_to_array(original)\n",
    "    image_batch = np.expand_dims(numpy_image, axis=0)\n",
    "    return image_batch[0]"
   ]
  },
  {
   "cell_type": "code",
   "execution_count": 3,
   "id": "a8b8c106",
   "metadata": {},
   "outputs": [
    {
     "data": {
      "image/png": "[encoded data removed]",
      "text/plain": [
       "<Figure size 432x288 with 1 Axes>"
      ]
     },
     "metadata": {
      "needs_background": "light"
     },
     "output_type": "display_data"
    }
   ],
   "source": [
    "import matplotlib.pyplot as plt\n",
    "%matplotlib inline\n",
    "\n",
    "image = get_image('Train/distribute_100.png')\n",
    "plt.imshow(np.uint8(image))\n",
    "plt.show()"
   ]
  },
  {
   "cell_type": "code",
   "execution_count": 4,
   "id": "5138c768",
   "metadata": {},
   "outputs": [
    {
     "name": "stdout",
     "output_type": "stream",
     "text": [
      "X_train shape:  (2520, 250, 250, 3)\n",
      "y_train shape:  (2520,)\n",
      "X_test shape:  (280, 250, 250, 3)\n",
      "y_test shape:  (280,)\n"
     ]
    }
   ],
   "source": [
    "import pandas as pd\n",
    "import numpy as np\n",
    "import os\n",
    "import cv2\n",
    "\n",
    "#collects all the images from the folders.\n",
    "def collect_all(folder):\n",
    "    images = []\n",
    "    for filename in os.listdir(folder):\n",
    "        if filename == 'desktop.ini':\n",
    "            pass\n",
    "        else:        \n",
    "            #print(filename)\n",
    "            im = cv2.imread(f'{folder}/{filename}')\n",
    "            #print(im.shape)\n",
    "            images.append(im)\n",
    "\n",
    "    return np.array(images)\n",
    "\n",
    "folder1 = './Data/Test'\n",
    "X_test = collect_all(folder1)\n",
    "folder2 = './Data/train'\n",
    "X_train = collect_all(folder2)\n",
    "# folder3 = './Val'\n",
    "# X_val = collect_all(folder3)\n",
    "y_test = pd.read_excel(r'./Data/test_label.xlsx',usecols=[1,1])\n",
    "\n",
    "y_test = y_test.to_numpy()\n",
    "\n",
    "y_test = np.squeeze(y_test)\n",
    "y_train = pd.read_excel(r'./Data/train_label.xlsx',usecols=[1,1])\n",
    "\n",
    "y_train = y_train.to_numpy()\n",
    "\n",
    "y_train = np.squeeze(y_train)\n",
    "# y_val = pd.read_excel(r'val_label.xlsx',header=None,usecols=[1,1])\n",
    "\n",
    "# y_val = y_val.to_numpy()\n",
    "\n",
    "# y_val = np.squeeze(y_val)\n",
    "\n",
    "# mean_image = np.mean(X_train, axis=0)\n",
    "# X_train = X_train.astype('float32')\n",
    "# X_val = X_val.astype('float32')\n",
    "# X_test = X_test.astype('float32')\n",
    "\n",
    "# X_train -= mean_image\n",
    "# X_val -= mean_image\n",
    "# X_test -= mean_image\n",
    "\n",
    "# #reshape data to rows\n",
    "# X_train = X_train.reshape(X_train.shape[0], -1)\n",
    "# X_val = X_val.reshape(X_val.shape[0], -1)\n",
    "# X_test = X_test.reshape(X_test.shape[0], -1)\n",
    "\n",
    "print('X_train shape: ',X_train.shape)\n",
    "print('y_train shape: ',y_train.shape)\n",
    "# print('X_val shape: ', X_val.shape)\n",
    "# print('y_val shape: ', y_val.shape)\n",
    "print('X_test shape: ', X_test.shape)\n",
    "print('y_test shape: ', y_test.shape)"
   ]
  },
  {
   "cell_type": "code",
   "execution_count": 5,
   "id": "6ddfaed2",
   "metadata": {},
   "outputs": [
    {
     "data": {
      "text/html": [
       "<div>\n",
       "<style scoped>\n",
       "    .dataframe tbody tr th:only-of-type {\n",
       "        vertical-align: middle;\n",
       "    }\n",
       "\n",
       "    .dataframe tbody tr th {\n",
       "        vertical-align: top;\n",
       "    }\n",
       "\n",
       "    .dataframe thead th {\n",
       "        text-align: right;\n",
       "    }\n",
       "</style>\n",
       "<table border=\"1\" class=\"dataframe\">\n",
       "  <thead>\n",
       "    <tr style=\"text-align: right;\">\n",
       "      <th></th>\n",
       "      <th>Unnamed: 0</th>\n",
       "      <th>id</th>\n",
       "      <th>breed</th>\n",
       "    </tr>\n",
       "  </thead>\n",
       "  <tbody>\n",
       "    <tr>\n",
       "      <th>0</th>\n",
       "      <td>0</td>\n",
       "      <td>distribute_40</td>\n",
       "      <td>distribute</td>\n",
       "    </tr>\n",
       "    <tr>\n",
       "      <th>1</th>\n",
       "      <td>1</td>\n",
       "      <td>distribute_41</td>\n",
       "      <td>distribute</td>\n",
       "    </tr>\n",
       "    <tr>\n",
       "      <th>2</th>\n",
       "      <td>2</td>\n",
       "      <td>distribute_42</td>\n",
       "      <td>distribute</td>\n",
       "    </tr>\n",
       "    <tr>\n",
       "      <th>3</th>\n",
       "      <td>3</td>\n",
       "      <td>distribute_43</td>\n",
       "      <td>distribute</td>\n",
       "    </tr>\n",
       "    <tr>\n",
       "      <th>4</th>\n",
       "      <td>4</td>\n",
       "      <td>distribute_44</td>\n",
       "      <td>distribute</td>\n",
       "    </tr>\n",
       "  </tbody>\n",
       "</table>\n",
       "</div>"
      ],
      "text/plain": [
       "   Unnamed: 0             id       breed\n",
       "0           0  distribute_40  distribute\n",
       "1           1  distribute_41  distribute\n",
       "2           2  distribute_42  distribute\n",
       "3           3  distribute_43  distribute\n",
       "4           4  distribute_44  distribute"
      ]
     },
     "execution_count": 5,
     "metadata": {},
     "output_type": "execute_result"
    }
   ],
   "source": [
    "labels = pd.read_csv('Data/train_label.csv')\n",
    "labels.head()"
   ]
  },
  {
   "cell_type": "code",
   "execution_count": 6,
   "id": "71b999bb",
   "metadata": {},
   "outputs": [
    {
     "data": {
      "text/plain": [
       "sqrt          360\n",
       "limit         360\n",
       "ineq          360\n",
       "matrix        360\n",
       "series        360\n",
       "distribute    360\n",
       "integral      360\n",
       "Name: breed, dtype: int64"
      ]
     },
     "execution_count": 6,
     "metadata": {},
     "output_type": "execute_result"
    }
   ],
   "source": [
    "labels['breed'].value_counts()"
   ]
  },
  {
   "cell_type": "code",
   "execution_count": 7,
   "id": "6186fe7c",
   "metadata": {},
   "outputs": [
    {
     "data": {
      "text/html": [
       "<div>\n",
       "<style scoped>\n",
       "    .dataframe tbody tr th:only-of-type {\n",
       "        vertical-align: middle;\n",
       "    }\n",
       "\n",
       "    .dataframe tbody tr th {\n",
       "        vertical-align: top;\n",
       "    }\n",
       "\n",
       "    .dataframe thead th {\n",
       "        text-align: right;\n",
       "    }\n",
       "</style>\n",
       "<table border=\"1\" class=\"dataframe\">\n",
       "  <thead>\n",
       "    <tr style=\"text-align: right;\">\n",
       "      <th></th>\n",
       "      <th>id</th>\n",
       "      <th>distribute</th>\n",
       "      <th>ineq</th>\n",
       "      <th>integral</th>\n",
       "      <th>limit</th>\n",
       "      <th>matrix</th>\n",
       "      <th>series</th>\n",
       "      <th>sqrt</th>\n",
       "    </tr>\n",
       "  </thead>\n",
       "  <tbody>\n",
       "    <tr>\n",
       "      <th>0</th>\n",
       "      <td>distribute_40</td>\n",
       "      <td>0.142857</td>\n",
       "      <td>0.142857</td>\n",
       "      <td>0.142857</td>\n",
       "      <td>0.142857</td>\n",
       "      <td>0.142857</td>\n",
       "      <td>0.142857</td>\n",
       "      <td>0.142857</td>\n",
       "    </tr>\n",
       "    <tr>\n",
       "      <th>1</th>\n",
       "      <td>distribute_41</td>\n",
       "      <td>0.142857</td>\n",
       "      <td>0.142857</td>\n",
       "      <td>0.142857</td>\n",
       "      <td>0.142857</td>\n",
       "      <td>0.142857</td>\n",
       "      <td>0.142857</td>\n",
       "      <td>0.142857</td>\n",
       "    </tr>\n",
       "    <tr>\n",
       "      <th>2</th>\n",
       "      <td>distribute_42</td>\n",
       "      <td>0.142857</td>\n",
       "      <td>0.142857</td>\n",
       "      <td>0.142857</td>\n",
       "      <td>0.142857</td>\n",
       "      <td>0.142857</td>\n",
       "      <td>0.142857</td>\n",
       "      <td>0.142857</td>\n",
       "    </tr>\n",
       "    <tr>\n",
       "      <th>3</th>\n",
       "      <td>distribute_43</td>\n",
       "      <td>0.142857</td>\n",
       "      <td>0.142857</td>\n",
       "      <td>0.142857</td>\n",
       "      <td>0.142857</td>\n",
       "      <td>0.142857</td>\n",
       "      <td>0.142857</td>\n",
       "      <td>0.142857</td>\n",
       "    </tr>\n",
       "    <tr>\n",
       "      <th>4</th>\n",
       "      <td>distribute_44</td>\n",
       "      <td>0.142857</td>\n",
       "      <td>0.142857</td>\n",
       "      <td>0.142857</td>\n",
       "      <td>0.142857</td>\n",
       "      <td>0.142857</td>\n",
       "      <td>0.142857</td>\n",
       "      <td>0.142857</td>\n",
       "    </tr>\n",
       "  </tbody>\n",
       "</table>\n",
       "</div>"
      ],
      "text/plain": [
       "              id  distribute      ineq  integral     limit    matrix  \\\n",
       "0  distribute_40    0.142857  0.142857  0.142857  0.142857  0.142857   \n",
       "1  distribute_41    0.142857  0.142857  0.142857  0.142857  0.142857   \n",
       "2  distribute_42    0.142857  0.142857  0.142857  0.142857  0.142857   \n",
       "3  distribute_43    0.142857  0.142857  0.142857  0.142857  0.142857   \n",
       "4  distribute_44    0.142857  0.142857  0.142857  0.142857  0.142857   \n",
       "\n",
       "     series      sqrt  \n",
       "0  0.142857  0.142857  \n",
       "1  0.142857  0.142857  \n",
       "2  0.142857  0.142857  \n",
       "3  0.142857  0.142857  \n",
       "4  0.142857  0.142857  "
      ]
     },
     "execution_count": 7,
     "metadata": {},
     "output_type": "execute_result"
    }
   ],
   "source": [
    "sample = pd.read_csv('Data/sample_submission.csv')\n",
    "sample.head()"
   ]
  },
  {
   "cell_type": "code",
   "execution_count": 8,
   "id": "a24dccde",
   "metadata": {},
   "outputs": [
    {
     "name": "stdout",
     "output_type": "stream",
     "text": [
      "num_train_images: 2520\n",
      "breed: Index(['distribute', 'ineq', 'integral', 'limit', 'matrix', 'series', 'sqrt'], dtype='object')\n",
      "num_classes: 7\n"
     ]
    }
   ],
   "source": [
    "# num_train_images = labels.shape[0]\n",
    "num_train_images = 2520  # we choose 3300 images for this assignment. It works for a machine having 8Gb Ram. You can adjust it if your Ram is different. \n",
    "split_point = 2240 # split the data into training data [0:3000] and val data [3000:]\n",
    "print('num_train_images:', num_train_images)\n",
    "breed = sample.columns[1:]\n",
    "print('breed:', breed)\n",
    "num_classes = len(breed)\n",
    "print('num_classes:', num_classes)"
   ]
  },
  {
   "cell_type": "code",
   "execution_count": 9,
   "id": "e9042bee",
   "metadata": {},
   "outputs": [],
   "source": [
    "from tensorflow.keras.preprocessing.image import load_img, img_to_array\n",
    "import numpy as np\n",
    "\n",
    "img_width = 224\n",
    "\n",
    "def get_image(filename):\n",
    "    ########################################################################\n",
    "    # TODO: Your code here...\n",
    "    ########################################################################\n",
    "    original = load_img(filename, target_size=(224,224))\n",
    "    numpy_image = img_to_array(original)\n",
    "    image_batch = np.expand_dims(numpy_image, axis=0)\n",
    "    return image_batch[0]\n"
   ]
  },
  {
   "cell_type": "code",
   "execution_count": 10,
   "id": "da2e137e",
   "metadata": {},
   "outputs": [
    {
     "data": {
      "image/png": "[encoded data removed]",
      "text/plain": [
       "<Figure size 432x288 with 1 Axes>"
      ]
     },
     "metadata": {
      "needs_background": "light"
     },
     "output_type": "display_data"
    }
   ],
   "source": [
    "import matplotlib.pyplot as plt\n",
    "%matplotlib inline\n",
    "\n",
    "image = get_image('Data/train/distribute_41.png')\n",
    "plt.imshow(np.uint8(image))\n",
    "plt.show()"
   ]
  },
  {
   "cell_type": "code",
   "execution_count": 11,
   "id": "b7954af9",
   "metadata": {},
   "outputs": [
    {
     "name": "stdout",
     "output_type": "stream",
     "text": [
      "1000 images loaded\n",
      "2000 images loaded\n"
     ]
    }
   ],
   "source": [
    "x_train = np.zeros((num_train_images, img_width, img_width, 3), dtype=np.uint8)\n",
    "y_train = np.zeros((num_train_images, num_classes), dtype=np.uint8)\n",
    "\n",
    "count = 0\n",
    "\n",
    "for i in range(num_train_images):\n",
    "    x_train[i] = get_image('Data/train/%s.png' % labels['id'][i])\n",
    "    pos_arrays = (breed == labels['breed'][i]).nonzero() # recall that breed is the array of classes\n",
    "    pos = pos_arrays[0][0]\n",
    "    y_train[i][pos] = 1\n",
    "    count += 1\n",
    "    if(count % 1000 == 0): print(count, 'images loaded')"
   ]
  },
  {
   "cell_type": "code",
   "execution_count": 12,
   "id": "5266be82",
   "metadata": {},
   "outputs": [],
   "source": [
    "from tensorflow.keras.applications import resnet50\n",
    "\n",
    "x_train = resnet50.preprocess_input(x_train) # preprocess the images properly (e.g., minus the mean image)"
   ]
  },
  {
   "cell_type": "code",
   "execution_count": 13,
   "id": "f9d7fcba",
   "metadata": {},
   "outputs": [],
   "source": [
    "model_resnet50 = resnet50.ResNet50(weights='imagenet', include_top=False)\n",
    "# include_top=False --> do not load the last FC layer"
   ]
  },
  {
   "cell_type": "code",
   "execution_count": 14,
   "id": "93bd4253",
   "metadata": {},
   "outputs": [
    {
     "data": {
      "text/plain": [
       "(2520, 224, 224, 3)"
      ]
     },
     "execution_count": 14,
     "metadata": {},
     "output_type": "execute_result"
    }
   ],
   "source": [
    "#x_train_test=x_train[0:3]\n",
    "#x_train_test.shape\n",
    "x_train.shape\n",
    "#plt.imshow(np.uint8(x_train[1]))\n"
   ]
  },
  {
   "cell_type": "code",
   "execution_count": 15,
   "id": "5c2ed287",
   "metadata": {},
   "outputs": [
    {
     "name": "stdout",
     "output_type": "stream",
     "text": [
      "40/40 [==============================] - 229s 6s/step\n"
     ]
    }
   ],
   "source": [
    "#x_train_mini=np.expand_dims(x_train_test, axis=0)\n",
    "#features = model_resnet50.predict(x_train_test, batch_size=1, verbose=1)\n",
    "features = model_resnet50.predict(x_train, batch_size=64, verbose=1)"
   ]
  },
  {
   "cell_type": "code",
   "execution_count": 16,
   "id": "7157fbb1",
   "metadata": {},
   "outputs": [
    {
     "data": {
      "text/plain": [
       "(2520, 7, 7, 2048)"
      ]
     },
     "execution_count": 16,
     "metadata": {},
     "output_type": "execute_result"
    }
   ],
   "source": [
    "features.shape"
   ]
  },
  {
   "cell_type": "code",
   "execution_count": 17,
   "id": "3c8901b2",
   "metadata": {},
   "outputs": [
    {
     "name": "stdout",
     "output_type": "stream",
     "text": [
      "(None, 2048)\n",
      "(None, 7)\n"
     ]
    }
   ],
   "source": [
    "# Using 7 x 7 x 2048 features as input to an FC layer leads to many parameters, and may overfit for small dataset\n",
    "# Our solution is to use global pooling: pooling over every 7 x 7 images, to obtain 2048 features only\n",
    "# -> ref: https://arxiv.org/pdf/1312.4400.pdf Sec 3.2\n",
    "\n",
    "from tensorflow.keras.layers import Input, Dense, GlobalAveragePooling2D, Dropout, Activation, BatchNormalization\n",
    "\n",
    "# define the network\n",
    "# NOTE:\n",
    "# here we use \"output = Layer(configs) (input)\" + model(inputs, outputs)\n",
    "# you may also use model.add(layer) when building your own sequential model\n",
    "inputs = Input(shape = (7, 7, 2048)) # to take 7 x 7 x 2048 images\n",
    "x = GlobalAveragePooling2D()(inputs) # to convert to 2048 feagures\n",
    "print(x.shape)\n",
    "x = Dropout(0.5)(x) # add a dropout layer\n",
    "x = Dense(500)(x) # add a dense layer, but not adding activation so that we can add batch-norm first\n",
    "x = BatchNormalization()(x)\n",
    "x = Activation(\"relu\")(x)\n",
    "x = Dropout(0.5)(x) # add a dropout layer\n",
    "# Softmax layer to the output classes\n",
    "predictions = Dense(num_classes, activation='softmax')(x) # arg1 is: units = dimensionality of the output space.\n",
    "print(predictions.shape)"
   ]
  },
  {
   "cell_type": "code",
   "execution_count": 18,
   "id": "9240ad03",
   "metadata": {},
   "outputs": [
    {
     "name": "stdout",
     "output_type": "stream",
     "text": [
      "Model: \"model\"\n",
      "_________________________________________________________________\n",
      " Layer (type)                Output Shape              Param #   \n",
      "=================================================================\n",
      " input_3 (InputLayer)        [(None, 7, 7, 2048)]      0         \n",
      "                                                                 \n",
      " global_average_pooling2d (G  (None, 2048)             0         \n",
      " lobalAveragePooling2D)                                          \n",
      "                                                                 \n",
      " dropout (Dropout)           (None, 2048)              0         \n",
      "                                                                 \n",
      " dense (Dense)               (None, 500)               1024500   \n",
      "                                                                 \n",
      " batch_normalization (BatchN  (None, 500)              2000      \n",
      " ormalization)                                                   \n",
      "                                                                 \n",
      " activation (Activation)     (None, 500)               0         \n",
      "                                                                 \n",
      " dropout_1 (Dropout)         (None, 500)               0         \n",
      "                                                                 \n",
      " dense_1 (Dense)             (None, 7)                 3507      \n",
      "                                                                 \n",
      "=================================================================\n",
      "Total params: 1,030,007\n",
      "Trainable params: 1,029,007\n",
      "Non-trainable params: 1,000\n",
      "_________________________________________________________________\n"
     ]
    }
   ],
   "source": [
    "from tensorflow.keras.models import Model\n",
    "\n",
    "model = Model(inputs=inputs, outputs=predictions) # specify what is network input, and what is network output\n",
    "model.summary()"
   ]
  },
  {
   "cell_type": "code",
   "execution_count": 19,
   "id": "0df2f03e",
   "metadata": {},
   "outputs": [],
   "source": [
    "# Assign loss function (over the output), optimizer algorithm, etc.\n",
    "model.compile(loss='categorical_crossentropy', optimizer=\"adam\", metrics=['accuracy'])"
   ]
  },
  {
   "cell_type": "code",
   "execution_count": 20,
   "id": "4f18c995",
   "metadata": {},
   "outputs": [
    {
     "name": "stdout",
     "output_type": "stream",
     "text": [
      "Epoch 1/30\n",
      "18/18 [==============================] - 3s 71ms/step - loss: 1.3560 - accuracy: 0.5335 - val_loss: 0.5268 - val_accuracy: 0.8000\n",
      "Epoch 2/30\n",
      "18/18 [==============================] - 1s 47ms/step - loss: 0.7358 - accuracy: 0.7429 - val_loss: 0.1283 - val_accuracy: 0.9571\n",
      "Epoch 3/30\n",
      "18/18 [==============================] - 1s 45ms/step - loss: 0.5634 - accuracy: 0.8036 - val_loss: 0.0716 - val_accuracy: 0.9893\n",
      "Epoch 4/30\n",
      "18/18 [==============================] - 1s 42ms/step - loss: 0.5303 - accuracy: 0.8116 - val_loss: 0.0509 - val_accuracy: 0.9893\n",
      "Epoch 5/30\n",
      "18/18 [==============================] - 1s 43ms/step - loss: 0.4525 - accuracy: 0.8406 - val_loss: 0.0374 - val_accuracy: 0.9929\n",
      "Epoch 6/30\n",
      "18/18 [==============================] - 1s 62ms/step - loss: 0.4271 - accuracy: 0.8478 - val_loss: 0.0373 - val_accuracy: 0.9929\n",
      "Epoch 7/30\n",
      "18/18 [==============================] - 1s 67ms/step - loss: 0.3813 - accuracy: 0.8665 - val_loss: 0.0346 - val_accuracy: 0.9929\n",
      "Epoch 8/30\n",
      "18/18 [==============================] - 1s 66ms/step - loss: 0.3959 - accuracy: 0.8594 - val_loss: 0.0416 - val_accuracy: 0.9929\n",
      "Epoch 9/30\n",
      "18/18 [==============================] - 1s 61ms/step - loss: 0.3337 - accuracy: 0.8799 - val_loss: 0.0409 - val_accuracy: 0.9929\n",
      "Epoch 10/30\n",
      "18/18 [==============================] - 1s 42ms/step - loss: 0.3281 - accuracy: 0.8893 - val_loss: 0.0409 - val_accuracy: 0.9929\n",
      "Epoch 10: early stopping\n"
     ]
    },
    {
     "data": {
      "text/plain": [
       "<keras.callbacks.History at 0x2d953919940>"
      ]
     },
     "execution_count": 20,
     "metadata": {},
     "output_type": "execute_result"
    }
   ],
   "source": [
    "# Let's use first 3000 images for training, last 300 for validation\n",
    "from tensorflow.keras.callbacks import EarlyStopping\n",
    "\n",
    "early_stop = EarlyStopping(monitor='val_loss',  patience=3, verbose=1)\n",
    "# stop if loss does not improve for 3 iterations\n",
    "\n",
    "model.fit(features[:split_point], y_train[:split_point], batch_size=128, epochs=30, \n",
    "              validation_data=(features[split_point:], y_train[split_point:]), callbacks=[early_stop], verbose=1)"
   ]
  },
  {
   "cell_type": "code",
   "execution_count": 21,
   "id": "b104ca38",
   "metadata": {},
   "outputs": [],
   "source": [
    "# save it to disk\n",
    "model.save('model1.h5') # you may try load_model.ipynb to see how it's loaded (not required)"
   ]
  },
  {
   "cell_type": "code",
   "execution_count": 30,
   "id": "c35ca131",
   "metadata": {},
   "outputs": [
    {
     "data": {
      "image/png": "[encoded data removed]",
      "text/plain": [
       "<Figure size 432x288 with 1 Axes>"
      ]
     },
     "metadata": {
      "needs_background": "light"
     },
     "output_type": "display_data"
    }
   ],
   "source": [
    "test_img = get_image('Data/Test/series_16.png')\n",
    "plt.imshow(np.uint8(test_img))\n",
    "plt.show()"
   ]
  },
  {
   "cell_type": "code",
   "execution_count": 31,
   "id": "5e27a7af",
   "metadata": {},
   "outputs": [
    {
     "data": {
      "text/plain": [
       "'series'"
      ]
     },
     "execution_count": 31,
     "metadata": {},
     "output_type": "execute_result"
    }
   ],
   "source": [
    "from tensorflow.keras.applications.imagenet_utils import decode_predictions\n",
    "\n",
    "image_batch = np.expand_dims(test_img, axis=0)\n",
    "image_batch = np.copy(image_batch)\n",
    "\n",
    "image_batch = resnet50.preprocess_input(image_batch)\n",
    "feature_input = model_resnet50.predict(image_batch)\n",
    "predictions = model.predict(feature_input)\n",
    "pos = np.argmax(predictions)\n",
    "breed[pos]"
   ]
  },
  {
   "cell_type": "code",
   "execution_count": 36,
   "id": "92138eb1",
   "metadata": {},
   "outputs": [
    {
     "name": "stdout",
     "output_type": "stream",
     "text": [
      "Image Name:  distribute_0.png  Prediction:  distribute\n",
      "Image Name:  distribute_1.png  Prediction:  distribute\n",
      "Image Name:  distribute_10.png  Prediction:  distribute\n",
      "Image Name:  distribute_11.png  Prediction:  distribute\n",
      "Image Name:  distribute_12.png  Prediction:  distribute\n",
      "Image Name:  distribute_13.png  Prediction:  distribute\n",
      "Image Name:  distribute_14.png  Prediction:  distribute\n",
      "Image Name:  distribute_15.png  Prediction:  distribute\n",
      "Image Name:  distribute_16.png  Prediction:  distribute\n",
      "Image Name:  distribute_17.png  Prediction:  distribute\n",
      "Image Name:  distribute_18.png  Prediction:  distribute\n",
      "Image Name:  distribute_19.png  Prediction:  distribute\n",
      "Image Name:  distribute_2.png  Prediction:  distribute\n",
      "Image Name:  distribute_20.png  Prediction:  distribute\n",
      "Image Name:  distribute_21.png  Prediction:  distribute\n",
      "Image Name:  distribute_22.png  Prediction:  distribute\n",
      "Image Name:  distribute_23.png  Prediction:  distribute\n",
      "Image Name:  distribute_24.png  Prediction:  distribute\n",
      "Image Name:  distribute_25.png  Prediction:  distribute\n",
      "Image Name:  distribute_26.png  Prediction:  distribute\n",
      "Image Name:  distribute_27.png  Prediction:  distribute\n",
      "Image Name:  distribute_28.png  Prediction:  distribute\n",
      "Image Name:  distribute_29.png  Prediction:  distribute\n",
      "Image Name:  distribute_3.png  Prediction:  distribute\n",
      "Image Name:  distribute_30.png  Prediction:  distribute\n",
      "Image Name:  distribute_31.png  Prediction:  distribute\n",
      "Image Name:  distribute_32.png  Prediction:  distribute\n",
      "Image Name:  distribute_33.png  Prediction:  distribute\n",
      "Image Name:  distribute_34.png  Prediction:  distribute\n",
      "Image Name:  distribute_35.png  Prediction:  distribute\n",
      "Image Name:  distribute_36.png  Prediction:  distribute\n",
      "Image Name:  distribute_37.png  Prediction:  distribute\n",
      "Image Name:  distribute_38.png  Prediction:  distribute\n",
      "Image Name:  distribute_39.png  Prediction:  distribute\n",
      "Image Name:  distribute_4.png  Prediction:  distribute\n",
      "Image Name:  distribute_5.png  Prediction:  distribute\n",
      "Image Name:  distribute_6.png  Prediction:  distribute\n",
      "Image Name:  distribute_7.png  Prediction:  distribute\n",
      "Image Name:  distribute_8.png  Prediction:  distribute\n",
      "Image Name:  distribute_9.png  Prediction:  distribute\n",
      "Image Name:  ineq_0.png  Prediction:  ineq\n",
      "Image Name:  ineq_1.png  Prediction:  ineq\n",
      "Image Name:  ineq_10.png  Prediction:  ineq\n",
      "Image Name:  ineq_11.png  Prediction:  ineq\n",
      "Image Name:  ineq_12.png  Prediction:  ineq\n",
      "Image Name:  ineq_13.png  Prediction:  ineq\n",
      "Image Name:  ineq_14.png  Prediction:  ineq\n",
      "Image Name:  ineq_15.png  Prediction:  ineq\n",
      "Image Name:  ineq_16.png  Prediction:  ineq\n",
      "Image Name:  ineq_17.png  Prediction:  ineq\n",
      "Image Name:  ineq_18.png  Prediction:  ineq\n",
      "Image Name:  ineq_19.png  Prediction:  ineq\n",
      "Image Name:  ineq_2.png  Prediction:  ineq\n",
      "Image Name:  ineq_20.png  Prediction:  ineq\n",
      "Image Name:  ineq_21.png  Prediction:  ineq\n",
      "Image Name:  ineq_22.png  Prediction:  ineq\n",
      "Image Name:  ineq_23.png  Prediction:  ineq\n",
      "Image Name:  ineq_24.png  Prediction:  ineq\n",
      "Image Name:  ineq_25.png  Prediction:  ineq\n",
      "Image Name:  ineq_26.png  Prediction:  ineq\n",
      "Image Name:  ineq_27.png  Prediction:  ineq\n",
      "Image Name:  ineq_28.png  Prediction:  ineq\n",
      "Image Name:  ineq_29.png  Prediction:  ineq\n",
      "Image Name:  ineq_3.png  Prediction:  ineq\n",
      "Image Name:  ineq_30.png  Prediction:  ineq\n",
      "Image Name:  ineq_31.png  Prediction:  ineq\n",
      "Image Name:  ineq_32.png  Prediction:  ineq\n",
      "Image Name:  ineq_33.png  Prediction:  ineq\n",
      "Image Name:  ineq_34.png  Prediction:  ineq\n",
      "Image Name:  ineq_35.png  Prediction:  ineq\n",
      "Image Name:  ineq_36.png  Prediction:  ineq\n",
      "Image Name:  ineq_37.png  Prediction:  ineq\n",
      "Image Name:  ineq_38.png  Prediction:  ineq\n",
      "Image Name:  ineq_39.png  Prediction:  ineq\n",
      "Image Name:  ineq_4.png  Prediction:  ineq\n",
      "Image Name:  ineq_5.png  Prediction:  ineq\n",
      "Image Name:  ineq_6.png  Prediction:  ineq\n",
      "Image Name:  ineq_7.png  Prediction:  ineq\n",
      "Image Name:  ineq_8.png  Prediction:  ineq\n",
      "Image Name:  ineq_9.png  Prediction:  ineq\n",
      "Image Name:  int_0.png  Prediction:  integral\n",
      "Image Name:  int_1.png  Prediction:  integral\n",
      "Image Name:  int_10.png  Prediction:  integral\n",
      "Image Name:  int_11.png  Prediction:  integral\n",
      "Image Name:  int_12.png  Prediction:  integral\n",
      "Image Name:  int_13.png  Prediction:  integral\n",
      "Image Name:  int_14.png  Prediction:  integral\n",
      "Image Name:  int_15.png  Prediction:  integral\n",
      "Image Name:  int_16.png  Prediction:  integral\n",
      "Image Name:  int_17.png  Prediction:  integral\n",
      "Image Name:  int_18.png  Prediction:  integral\n",
      "Image Name:  int_19.png  Prediction:  integral\n",
      "Image Name:  int_2.png  Prediction:  integral\n",
      "Image Name:  int_20.png  Prediction:  integral\n",
      "Image Name:  int_21.png  Prediction:  integral\n",
      "Image Name:  int_22.png  Prediction:  integral\n",
      "Image Name:  int_23.png  Prediction:  integral\n",
      "Image Name:  int_24.png  Prediction:  integral\n",
      "Image Name:  int_25.png  Prediction:  integral\n",
      "Image Name:  int_26.png  Prediction:  integral\n",
      "Image Name:  int_27.png  Prediction:  integral\n",
      "Image Name:  int_28.png  Prediction:  integral\n",
      "Image Name:  int_29.png  Prediction:  integral\n",
      "Image Name:  int_3.png  Prediction:  integral\n",
      "Image Name:  int_30.png  Prediction:  integral\n",
      "Image Name:  int_31.png  Prediction:  integral\n",
      "Image Name:  int_32.png  Prediction:  integral\n",
      "Image Name:  int_33.png  Prediction:  integral\n",
      "Image Name:  int_34.png  Prediction:  integral\n",
      "Image Name:  int_35.png  Prediction:  integral\n",
      "Image Name:  int_36.png  Prediction:  integral\n",
      "Image Name:  int_37.png  Prediction:  integral\n",
      "Image Name:  int_38.png  Prediction:  integral\n",
      "Image Name:  int_39.png  Prediction:  integral\n",
      "Image Name:  int_4.png  Prediction:  matrix\n",
      "Image Name:  int_5.png  Prediction:  integral\n",
      "Image Name:  int_6.png  Prediction:  integral\n",
      "Image Name:  int_7.png  Prediction:  integral\n",
      "Image Name:  int_8.png  Prediction:  integral\n",
      "Image Name:  int_9.png  Prediction:  integral\n",
      "Image Name:  limit_0.png  Prediction:  ineq\n",
      "Image Name:  limit_1.png  Prediction:  limit\n",
      "Image Name:  limit_10.png  Prediction:  limit\n",
      "Image Name:  limit_11.png  Prediction:  limit\n",
      "Image Name:  limit_12.png  Prediction:  limit\n",
      "Image Name:  limit_13.png  Prediction:  limit\n",
      "Image Name:  limit_14.png  Prediction:  limit\n",
      "Image Name:  limit_15.png  Prediction:  limit\n",
      "Image Name:  limit_16.png  Prediction:  limit\n",
      "Image Name:  limit_17.png  Prediction:  limit\n",
      "Image Name:  limit_18.png  Prediction:  limit\n",
      "Image Name:  limit_19.png  Prediction:  limit\n",
      "Image Name:  limit_2.png  Prediction:  limit\n",
      "Image Name:  limit_20.png  Prediction:  limit\n",
      "Image Name:  limit_21.png  Prediction:  limit\n",
      "Image Name:  limit_22.png  Prediction:  limit\n",
      "Image Name:  limit_23.png  Prediction:  limit\n",
      "Image Name:  limit_24.png  Prediction:  limit\n",
      "Image Name:  limit_25.png  Prediction:  limit\n",
      "Image Name:  limit_26.png  Prediction:  limit\n",
      "Image Name:  limit_27.png  Prediction:  limit\n",
      "Image Name:  limit_28.png  Prediction:  limit\n",
      "Image Name:  limit_29.png  Prediction:  limit\n",
      "Image Name:  limit_3.png  Prediction:  limit\n",
      "Image Name:  limit_30.png  Prediction:  limit\n",
      "Image Name:  limit_31.png  Prediction:  limit\n",
      "Image Name:  limit_32.png  Prediction:  limit\n",
      "Image Name:  limit_33.png  Prediction:  limit\n",
      "Image Name:  limit_34.png  Prediction:  limit\n",
      "Image Name:  limit_35.png  Prediction:  limit\n",
      "Image Name:  limit_36.png  Prediction:  limit\n",
      "Image Name:  limit_37.png  Prediction:  limit\n",
      "Image Name:  limit_38.png  Prediction:  limit\n",
      "Image Name:  limit_39.png  Prediction:  limit\n",
      "Image Name:  limit_4.png  Prediction:  series\n",
      "Image Name:  limit_5.png  Prediction:  limit\n",
      "Image Name:  limit_6.png  Prediction:  limit\n",
      "Image Name:  limit_7.png  Prediction:  limit\n",
      "Image Name:  limit_8.png  Prediction:  limit\n",
      "Image Name:  limit_9.png  Prediction:  limit\n",
      "Image Name:  mat_0.png  Prediction:  matrix\n",
      "Image Name:  mat_1.png  Prediction:  matrix\n",
      "Image Name:  mat_10.png  Prediction:  matrix\n",
      "Image Name:  mat_11.png  Prediction:  matrix\n",
      "Image Name:  mat_12.png  Prediction:  matrix\n",
      "Image Name:  mat_13.png  Prediction:  matrix\n",
      "Image Name:  mat_14.png  Prediction:  matrix\n",
      "Image Name:  mat_15.png  Prediction:  matrix\n",
      "Image Name:  mat_16.png  Prediction:  matrix\n",
      "Image Name:  mat_17.png  Prediction:  matrix\n",
      "Image Name:  mat_18.png  Prediction:  matrix\n",
      "Image Name:  mat_19.png  Prediction:  matrix\n",
      "Image Name:  mat_2.png  Prediction:  matrix\n"
     ]
    },
    {
     "name": "stdout",
     "output_type": "stream",
     "text": [
      "Image Name:  mat_20.png  Prediction:  matrix\n",
      "Image Name:  mat_21.png  Prediction:  matrix\n",
      "Image Name:  mat_22.png  Prediction:  matrix\n",
      "Image Name:  mat_23.png  Prediction:  matrix\n",
      "Image Name:  mat_24.png  Prediction:  matrix\n",
      "Image Name:  mat_25.png  Prediction:  matrix\n",
      "Image Name:  mat_26.png  Prediction:  matrix\n",
      "Image Name:  mat_27.png  Prediction:  matrix\n",
      "Image Name:  mat_28.png  Prediction:  matrix\n",
      "Image Name:  mat_29.png  Prediction:  matrix\n",
      "Image Name:  mat_3.png  Prediction:  matrix\n",
      "Image Name:  mat_30.png  Prediction:  matrix\n",
      "Image Name:  mat_31.png  Prediction:  matrix\n",
      "Image Name:  mat_32.png  Prediction:  matrix\n",
      "Image Name:  mat_33.png  Prediction:  matrix\n",
      "Image Name:  mat_34.png  Prediction:  matrix\n",
      "Image Name:  mat_35.png  Prediction:  matrix\n",
      "Image Name:  mat_36.png  Prediction:  matrix\n",
      "Image Name:  mat_37.png  Prediction:  matrix\n",
      "Image Name:  mat_38.png  Prediction:  matrix\n",
      "Image Name:  mat_39.png  Prediction:  matrix\n",
      "Image Name:  mat_4.png  Prediction:  matrix\n",
      "Image Name:  mat_5.png  Prediction:  matrix\n",
      "Image Name:  mat_6.png  Prediction:  matrix\n",
      "Image Name:  mat_7.png  Prediction:  matrix\n",
      "Image Name:  mat_8.png  Prediction:  matrix\n",
      "Image Name:  mat_9.png  Prediction:  matrix\n",
      "Image Name:  series_0.png  Prediction:  series\n",
      "Image Name:  series_1.png  Prediction:  series\n",
      "Image Name:  series_10.png  Prediction:  series\n",
      "Image Name:  series_11.png  Prediction:  series\n",
      "Image Name:  series_12.png  Prediction:  limit\n",
      "Image Name:  series_13.png  Prediction:  series\n",
      "Image Name:  series_14.png  Prediction:  series\n",
      "Image Name:  series_15.png  Prediction:  series\n",
      "Image Name:  series_16.png  Prediction:  series\n",
      "Image Name:  series_17.png  Prediction:  series\n",
      "Image Name:  series_18.png  Prediction:  series\n",
      "Image Name:  series_19.png  Prediction:  series\n",
      "Image Name:  series_2.png  Prediction:  series\n",
      "Image Name:  series_20.png  Prediction:  series\n",
      "Image Name:  series_21.png  Prediction:  series\n",
      "Image Name:  series_22.png  Prediction:  series\n",
      "Image Name:  series_23.png  Prediction:  series\n",
      "Image Name:  series_24.png  Prediction:  series\n",
      "Image Name:  series_25.png  Prediction:  series\n",
      "Image Name:  series_26.png  Prediction:  series\n",
      "Image Name:  series_27.png  Prediction:  series\n",
      "Image Name:  series_28.png  Prediction:  series\n",
      "Image Name:  series_29.png  Prediction:  series\n",
      "Image Name:  series_3.png  Prediction:  series\n",
      "Image Name:  series_30.png  Prediction:  series\n",
      "Image Name:  series_31.png  Prediction:  series\n",
      "Image Name:  series_32.png  Prediction:  ineq\n",
      "Image Name:  series_33.png  Prediction:  series\n",
      "Image Name:  series_34.png  Prediction:  series\n",
      "Image Name:  series_35.png  Prediction:  series\n",
      "Image Name:  series_36.png  Prediction:  series\n",
      "Image Name:  series_37.png  Prediction:  series\n",
      "Image Name:  series_38.png  Prediction:  series\n",
      "Image Name:  series_39.png  Prediction:  matrix\n",
      "Image Name:  series_4.png  Prediction:  series\n",
      "Image Name:  series_5.png  Prediction:  series\n",
      "Image Name:  series_6.png  Prediction:  series\n",
      "Image Name:  series_7.png  Prediction:  series\n",
      "Image Name:  series_8.png  Prediction:  series\n",
      "Image Name:  series_9.png  Prediction:  series\n",
      "Image Name:  sqrt_0.png  Prediction:  ineq\n",
      "Image Name:  sqrt_1.png  Prediction:  sqrt\n",
      "Image Name:  sqrt_10.png  Prediction:  sqrt\n",
      "Image Name:  sqrt_11.png  Prediction:  sqrt\n",
      "Image Name:  sqrt_12.png  Prediction:  sqrt\n",
      "Image Name:  sqrt_13.png  Prediction:  sqrt\n",
      "Image Name:  sqrt_14.png  Prediction:  sqrt\n",
      "Image Name:  sqrt_15.png  Prediction:  sqrt\n",
      "Image Name:  sqrt_16.png  Prediction:  sqrt\n",
      "Image Name:  sqrt_17.png  Prediction:  sqrt\n",
      "Image Name:  sqrt_18.png  Prediction:  sqrt\n",
      "Image Name:  sqrt_19.png  Prediction:  sqrt\n",
      "Image Name:  sqrt_2.png  Prediction:  sqrt\n",
      "Image Name:  sqrt_20.png  Prediction:  sqrt\n",
      "Image Name:  sqrt_21.png  Prediction:  sqrt\n",
      "Image Name:  sqrt_22.png  Prediction:  sqrt\n",
      "Image Name:  sqrt_23.png  Prediction:  sqrt\n",
      "Image Name:  sqrt_24.png  Prediction:  sqrt\n",
      "Image Name:  sqrt_25.png  Prediction:  sqrt\n",
      "Image Name:  sqrt_26.png  Prediction:  sqrt\n",
      "Image Name:  sqrt_27.png  Prediction:  sqrt\n",
      "Image Name:  sqrt_28.png  Prediction:  sqrt\n",
      "Image Name:  sqrt_29.png  Prediction:  sqrt\n",
      "Image Name:  sqrt_3.png  Prediction:  sqrt\n",
      "Image Name:  sqrt_30.png  Prediction:  sqrt\n",
      "Image Name:  sqrt_31.png  Prediction:  sqrt\n",
      "Image Name:  sqrt_32.png  Prediction:  sqrt\n",
      "Image Name:  sqrt_33.png  Prediction:  sqrt\n",
      "Image Name:  sqrt_34.png  Prediction:  sqrt\n",
      "Image Name:  sqrt_35.png  Prediction:  sqrt\n",
      "Image Name:  sqrt_36.png  Prediction:  sqrt\n",
      "Image Name:  sqrt_37.png  Prediction:  sqrt\n",
      "Image Name:  sqrt_38.png  Prediction:  sqrt\n",
      "Image Name:  sqrt_39.png  Prediction:  sqrt\n",
      "Image Name:  sqrt_4.png  Prediction:  sqrt\n",
      "Image Name:  sqrt_5.png  Prediction:  sqrt\n",
      "Image Name:  sqrt_6.png  Prediction:  sqrt\n",
      "Image Name:  sqrt_7.png  Prediction:  sqrt\n",
      "Image Name:  sqrt_8.png  Prediction:  sqrt\n",
      "Image Name:  sqrt_9.png  Prediction:  sqrt\n"
     ]
    }
   ],
   "source": [
    "\n",
    "for files in os.listdir('./Data/Test/'):\n",
    "    \n",
    "    if files== 'desktop.ini':\n",
    "        pass\n",
    "    else:    \n",
    "        test_img = get_image(f'Data/Test/{files}')\n",
    "        image_batch = np.expand_dims(test_img, axis=0)\n",
    "        image_batch = np.copy(image_batch)\n",
    "        image_batch = resnet50.preprocess_input(image_batch)\n",
    "        feature_input = model_resnet50.predict(image_batch)\n",
    "        predictions = model.predict(feature_input)\n",
    "        pos = np.argmax(predictions)\n",
    "\n",
    "        print('Image Name: ',files,' Prediction: ',breed[pos])\n"
   ]
  },
  {
   "cell_type": "code",
   "execution_count": null,
   "id": "ce47d93d",
   "metadata": {},
   "outputs": [],
   "source": []
  }
 ],
 "metadata": {
  "kernelspec": {
   "display_name": "Python 3",
   "language": "python",
   "name": "python3"
  },
  "language_info": {
   "codemirror_mode": {
    "name": "ipython",
    "version": 3
   },
   "file_extension": ".py",
   "mimetype": "text/x-python",
   "name": "python",
   "nbconvert_exporter": "python",
   "pygments_lexer": "ipython3",
   "version": "3.8.8"
  }
 },
 "nbformat": 4,
 "nbformat_minor": 5
}
