{
 "cells": [
  {
   "cell_type": "code",
   "execution_count": 1,
   "id": "f5c60563",
   "metadata": {},
   "outputs": [],
   "source": [
    "import sys\n",
    "import tensorflow as tf\n",
    "import tensorflow.keras as keras\n",
    "from tensorflow.keras.applications import resnet50\n",
    "import pandas as pd\n",
    "import numpy as np\n",
    "import os\n",
    "import cv2"
   ]
  },
  {
   "cell_type": "markdown",
   "id": "526c8328",
   "metadata": {},
   "source": [
    "# We first work with resnet_50"
   ]
  },
  {
   "cell_type": "code",
   "execution_count": 2,
   "id": "6ddfaed2",
   "metadata": {},
   "outputs": [
    {
     "data": {
      "text/html": [
       "<div>\n",
       "<style scoped>\n",
       "    .dataframe tbody tr th:only-of-type {\n",
       "        vertical-align: middle;\n",
       "    }\n",
       "\n",
       "    .dataframe tbody tr th {\n",
       "        vertical-align: top;\n",
       "    }\n",
       "\n",
       "    .dataframe thead th {\n",
       "        text-align: right;\n",
       "    }\n",
       "</style>\n",
       "<table border=\"1\" class=\"dataframe\">\n",
       "  <thead>\n",
       "    <tr style=\"text-align: right;\">\n",
       "      <th></th>\n",
       "      <th>Unnamed: 0</th>\n",
       "      <th>id</th>\n",
       "      <th>Type</th>\n",
       "    </tr>\n",
       "  </thead>\n",
       "  <tbody>\n",
       "    <tr>\n",
       "      <th>0</th>\n",
       "      <td>0</td>\n",
       "      <td>distribute_40</td>\n",
       "      <td>distribute</td>\n",
       "    </tr>\n",
       "    <tr>\n",
       "      <th>1</th>\n",
       "      <td>1</td>\n",
       "      <td>distribute_41</td>\n",
       "      <td>distribute</td>\n",
       "    </tr>\n",
       "    <tr>\n",
       "      <th>2</th>\n",
       "      <td>2</td>\n",
       "      <td>distribute_42</td>\n",
       "      <td>distribute</td>\n",
       "    </tr>\n",
       "    <tr>\n",
       "      <th>3</th>\n",
       "      <td>3</td>\n",
       "      <td>distribute_43</td>\n",
       "      <td>distribute</td>\n",
       "    </tr>\n",
       "    <tr>\n",
       "      <th>4</th>\n",
       "      <td>4</td>\n",
       "      <td>distribute_44</td>\n",
       "      <td>distribute</td>\n",
       "    </tr>\n",
       "  </tbody>\n",
       "</table>\n",
       "</div>"
      ],
      "text/plain": [
       "   Unnamed: 0             id        Type\n",
       "0           0  distribute_40  distribute\n",
       "1           1  distribute_41  distribute\n",
       "2           2  distribute_42  distribute\n",
       "3           3  distribute_43  distribute\n",
       "4           4  distribute_44  distribute"
      ]
     },
     "execution_count": 2,
     "metadata": {},
     "output_type": "execute_result"
    }
   ],
   "source": [
    "labels = pd.read_csv('Data/train_label.csv')\n",
    "labels.head()"
   ]
  },
  {
   "cell_type": "code",
   "execution_count": 3,
   "id": "71b999bb",
   "metadata": {},
   "outputs": [
    {
     "data": {
      "text/plain": [
       "limit         360\n",
       "ineq          360\n",
       "integral      360\n",
       "series        360\n",
       "matrix        360\n",
       "distribute    360\n",
       "sqrt          360\n",
       "Name: Type, dtype: int64"
      ]
     },
     "execution_count": 3,
     "metadata": {},
     "output_type": "execute_result"
    }
   ],
   "source": [
    "labels['Type'].value_counts()"
   ]
  },
  {
   "cell_type": "code",
   "execution_count": 4,
   "id": "6186fe7c",
   "metadata": {},
   "outputs": [
    {
     "data": {
      "text/html": [
       "<div>\n",
       "<style scoped>\n",
       "    .dataframe tbody tr th:only-of-type {\n",
       "        vertical-align: middle;\n",
       "    }\n",
       "\n",
       "    .dataframe tbody tr th {\n",
       "        vertical-align: top;\n",
       "    }\n",
       "\n",
       "    .dataframe thead th {\n",
       "        text-align: right;\n",
       "    }\n",
       "</style>\n",
       "<table border=\"1\" class=\"dataframe\">\n",
       "  <thead>\n",
       "    <tr style=\"text-align: right;\">\n",
       "      <th></th>\n",
       "      <th>id</th>\n",
       "      <th>distribute</th>\n",
       "      <th>ineq</th>\n",
       "      <th>integral</th>\n",
       "      <th>limit</th>\n",
       "      <th>matrix</th>\n",
       "      <th>series</th>\n",
       "      <th>sqrt</th>\n",
       "    </tr>\n",
       "  </thead>\n",
       "  <tbody>\n",
       "    <tr>\n",
       "      <th>0</th>\n",
       "      <td>distribute_40</td>\n",
       "      <td>0.142857</td>\n",
       "      <td>0.142857</td>\n",
       "      <td>0.142857</td>\n",
       "      <td>0.142857</td>\n",
       "      <td>0.142857</td>\n",
       "      <td>0.142857</td>\n",
       "      <td>0.142857</td>\n",
       "    </tr>\n",
       "    <tr>\n",
       "      <th>1</th>\n",
       "      <td>distribute_41</td>\n",
       "      <td>0.142857</td>\n",
       "      <td>0.142857</td>\n",
       "      <td>0.142857</td>\n",
       "      <td>0.142857</td>\n",
       "      <td>0.142857</td>\n",
       "      <td>0.142857</td>\n",
       "      <td>0.142857</td>\n",
       "    </tr>\n",
       "    <tr>\n",
       "      <th>2</th>\n",
       "      <td>distribute_42</td>\n",
       "      <td>0.142857</td>\n",
       "      <td>0.142857</td>\n",
       "      <td>0.142857</td>\n",
       "      <td>0.142857</td>\n",
       "      <td>0.142857</td>\n",
       "      <td>0.142857</td>\n",
       "      <td>0.142857</td>\n",
       "    </tr>\n",
       "    <tr>\n",
       "      <th>3</th>\n",
       "      <td>distribute_43</td>\n",
       "      <td>0.142857</td>\n",
       "      <td>0.142857</td>\n",
       "      <td>0.142857</td>\n",
       "      <td>0.142857</td>\n",
       "      <td>0.142857</td>\n",
       "      <td>0.142857</td>\n",
       "      <td>0.142857</td>\n",
       "    </tr>\n",
       "    <tr>\n",
       "      <th>4</th>\n",
       "      <td>distribute_44</td>\n",
       "      <td>0.142857</td>\n",
       "      <td>0.142857</td>\n",
       "      <td>0.142857</td>\n",
       "      <td>0.142857</td>\n",
       "      <td>0.142857</td>\n",
       "      <td>0.142857</td>\n",
       "      <td>0.142857</td>\n",
       "    </tr>\n",
       "  </tbody>\n",
       "</table>\n",
       "</div>"
      ],
      "text/plain": [
       "              id  distribute      ineq  integral     limit    matrix  \\\n",
       "0  distribute_40    0.142857  0.142857  0.142857  0.142857  0.142857   \n",
       "1  distribute_41    0.142857  0.142857  0.142857  0.142857  0.142857   \n",
       "2  distribute_42    0.142857  0.142857  0.142857  0.142857  0.142857   \n",
       "3  distribute_43    0.142857  0.142857  0.142857  0.142857  0.142857   \n",
       "4  distribute_44    0.142857  0.142857  0.142857  0.142857  0.142857   \n",
       "\n",
       "     series      sqrt  \n",
       "0  0.142857  0.142857  \n",
       "1  0.142857  0.142857  \n",
       "2  0.142857  0.142857  \n",
       "3  0.142857  0.142857  \n",
       "4  0.142857  0.142857  "
      ]
     },
     "execution_count": 4,
     "metadata": {},
     "output_type": "execute_result"
    }
   ],
   "source": [
    "sample = pd.read_csv('Data/sample_submission.csv')\n",
    "sample.head()"
   ]
  },
  {
   "cell_type": "code",
   "execution_count": 5,
   "id": "a24dccde",
   "metadata": {},
   "outputs": [
    {
     "name": "stdout",
     "output_type": "stream",
     "text": [
      "num_train_images: 2520\n",
      "Types: Index(['distribute', 'ineq', 'integral', 'limit', 'matrix', 'series', 'sqrt'], dtype='object')\n",
      "num_classes: 7\n"
     ]
    }
   ],
   "source": [
    "# num_train_images = labels.shape[0]\n",
    "num_train_images = 2520  # we choose 3300 images for this assignment. It works for a machine having 8Gb Ram. You can adjust it if your Ram is different. \n",
    "split_point = 2240 # split the data into training data [0:3000] and val data [3000:]\n",
    "print('num_train_images:', num_train_images)\n",
    "types = sample.columns[1:]\n",
    "print('Types:', types)\n",
    "num_classes = len(types)\n",
    "print('num_classes:', num_classes)"
   ]
  },
  {
   "cell_type": "code",
   "execution_count": 6,
   "id": "e9042bee",
   "metadata": {},
   "outputs": [],
   "source": [
    "from tensorflow.keras.preprocessing.image import load_img, img_to_array\n",
    "import numpy as np\n",
    "\n",
    "img_width = 224\n",
    "\n",
    "def get_image(filename):\n",
    "    ########################################################################\n",
    "    # TODO: Your code here...\n",
    "    ########################################################################\n",
    "    original = load_img(filename, target_size=(224,224))\n",
    "    numpy_image = img_to_array(original)\n",
    "    image_batch = np.expand_dims(numpy_image, axis=0)\n",
    "    return image_batch[0]\n"
   ]
  },
  {
   "cell_type": "code",
   "execution_count": 7,
   "id": "da2e137e",
   "metadata": {},
   "outputs": [
    {
     "data": {
      "image/png": "[encoded data removed]",
      "text/plain": [
       "<Figure size 432x288 with 1 Axes>"
      ]
     },
     "metadata": {
      "needs_background": "light"
     },
     "output_type": "display_data"
    }
   ],
   "source": [
    "import matplotlib.pyplot as plt\n",
    "%matplotlib inline\n",
    "\n",
    "image = get_image('Data/train/distribute_41.png')\n",
    "plt.imshow(np.uint8(image))\n",
    "plt.show()"
   ]
  },
  {
   "cell_type": "code",
   "execution_count": 8,
   "id": "b7954af9",
   "metadata": {},
   "outputs": [
    {
     "name": "stdout",
     "output_type": "stream",
     "text": [
      "1000 images loaded\n",
      "2000 images loaded\n"
     ]
    }
   ],
   "source": [
    "x_train = np.zeros((num_train_images, img_width, img_width, 3), dtype=np.uint8)\n",
    "y_train = np.zeros((num_train_images, num_classes), dtype=np.uint8)\n",
    "\n",
    "count = 0\n",
    "\n",
    "for i in range(num_train_images):\n",
    "    x_train[i] = get_image('Data/train/%s.png' % labels['id'][i])\n",
    "    pos_arrays = (types == labels['Type'][i]).nonzero() # recall that types is the array of classes\n",
    "    pos = pos_arrays[0][0]\n",
    "    y_train[i][pos] = 1\n",
    "    count += 1\n",
    "    if(count % 1000 == 0): print(count, 'images loaded')"
   ]
  },
  {
   "cell_type": "code",
   "execution_count": 9,
   "id": "5266be82",
   "metadata": {},
   "outputs": [],
   "source": [
    "from tensorflow.keras.applications import resnet50\n",
    "\n",
    "x_train = resnet50.preprocess_input(x_train) # preprocess the images properly (e.g., minus the mean image)"
   ]
  },
  {
   "cell_type": "code",
   "execution_count": 10,
   "id": "f9d7fcba",
   "metadata": {},
   "outputs": [],
   "source": [
    "model_resnet50 = resnet50.ResNet50(weights='imagenet', include_top=False)\n",
    "# include_top=False --> do not load the last FC layer"
   ]
  },
  {
   "cell_type": "code",
   "execution_count": 11,
   "id": "5c2ed287",
   "metadata": {},
   "outputs": [
    {
     "name": "stdout",
     "output_type": "stream",
     "text": [
      "40/40 [==============================] - 204s 5s/step\n"
     ]
    }
   ],
   "source": [
    "#x_train_mini=np.expand_dims(x_train_test, axis=0)\n",
    "#features = model_resnet50.predict(x_train_test, batch_size=1, verbose=1)\n",
    "features = model_resnet50.predict(x_train, batch_size=64, verbose=1)"
   ]
  },
  {
   "cell_type": "code",
   "execution_count": 12,
   "id": "3c8901b2",
   "metadata": {},
   "outputs": [
    {
     "name": "stdout",
     "output_type": "stream",
     "text": [
      "(None, 2048)\n",
      "(None, 7)\n"
     ]
    }
   ],
   "source": [
    "# Using 7 x 7 x 2048 features as input to an FC layer leads to many parameters, and may overfit for small dataset\n",
    "# Our solution is to use global pooling: pooling over every 7 x 7 images, to obtain 2048 features only\n",
    "# -> ref: https://arxiv.org/pdf/1312.4400.pdf Sec 3.2\n",
    "\n",
    "from tensorflow.keras.layers import Input, Dense, GlobalAveragePooling2D, Dropout, Activation, BatchNormalization\n",
    "\n",
    "# define the network\n",
    "# NOTE:\n",
    "# here we use \"output = Layer(configs) (input)\" + model(inputs, outputs)\n",
    "# you may also use model.add(layer) when building your own sequential model\n",
    "inputs = Input(shape = (7, 7, 2048)) # to take 7 x 7 x 2048 images\n",
    "x = GlobalAveragePooling2D()(inputs) # to convert to 2048 feagures\n",
    "print(x.shape)\n",
    "x = Dropout(0.5)(x) # add a dropout layer\n",
    "x = Dense(500)(x) # add a dense layer, but not adding activation so that we can add batch-norm first\n",
    "x = BatchNormalization()(x)\n",
    "x = Activation(\"relu\")(x)\n",
    "x = Dropout(0.5)(x) # add a dropout layer\n",
    "# Softmax layer to the output classes\n",
    "predictions = Dense(num_classes, activation='softmax')(x) # arg1 is: units = dimensionality of the output space.\n",
    "print(predictions.shape)"
   ]
  },
  {
   "cell_type": "code",
   "execution_count": 13,
   "id": "9240ad03",
   "metadata": {},
   "outputs": [
    {
     "name": "stdout",
     "output_type": "stream",
     "text": [
      "Model: \"model\"\n",
      "_________________________________________________________________\n",
      " Layer (type)                Output Shape              Param #   \n",
      "=================================================================\n",
      " input_2 (InputLayer)        [(None, 7, 7, 2048)]      0         \n",
      "                                                                 \n",
      " global_average_pooling2d (G  (None, 2048)             0         \n",
      " lobalAveragePooling2D)                                          \n",
      "                                                                 \n",
      " dropout (Dropout)           (None, 2048)              0         \n",
      "                                                                 \n",
      " dense (Dense)               (None, 500)               1024500   \n",
      "                                                                 \n",
      " batch_normalization (BatchN  (None, 500)              2000      \n",
      " ormalization)                                                   \n",
      "                                                                 \n",
      " activation (Activation)     (None, 500)               0         \n",
      "                                                                 \n",
      " dropout_1 (Dropout)         (None, 500)               0         \n",
      "                                                                 \n",
      " dense_1 (Dense)             (None, 7)                 3507      \n",
      "                                                                 \n",
      "=================================================================\n",
      "Total params: 1,030,007\n",
      "Trainable params: 1,029,007\n",
      "Non-trainable params: 1,000\n",
      "_________________________________________________________________\n"
     ]
    }
   ],
   "source": [
    "from tensorflow.keras.models import Model\n",
    "\n",
    "model = Model(inputs=inputs, outputs=predictions) # specify what is network input, and what is network output\n",
    "model.summary()"
   ]
  },
  {
   "cell_type": "code",
   "execution_count": 14,
   "id": "0df2f03e",
   "metadata": {},
   "outputs": [],
   "source": [
    "# Assign loss function (over the output), optimizer algorithm, etc.\n",
    "model.compile(loss='categorical_crossentropy', optimizer=\"adam\", metrics=['accuracy'])"
   ]
  },
  {
   "cell_type": "code",
   "execution_count": 15,
   "id": "4f18c995",
   "metadata": {},
   "outputs": [
    {
     "name": "stdout",
     "output_type": "stream",
     "text": [
      "Epoch 1/30\n",
      "18/18 [==============================] - 2s 55ms/step - loss: 1.4636 - accuracy: 0.5031 - val_loss: 1.7556 - val_accuracy: 0.3143\n",
      "Epoch 2/30\n",
      "18/18 [==============================] - 1s 37ms/step - loss: 0.7279 - accuracy: 0.7464 - val_loss: 0.2385 - val_accuracy: 0.9071\n",
      "Epoch 3/30\n",
      "18/18 [==============================] - 1s 37ms/step - loss: 0.5957 - accuracy: 0.7821 - val_loss: 0.0965 - val_accuracy: 0.9571\n",
      "Epoch 4/30\n",
      "18/18 [==============================] - 1s 38ms/step - loss: 0.5113 - accuracy: 0.8138 - val_loss: 0.0525 - val_accuracy: 0.9893\n",
      "Epoch 5/30\n",
      "18/18 [==============================] - 1s 38ms/step - loss: 0.4548 - accuracy: 0.8411 - val_loss: 0.0414 - val_accuracy: 0.9893\n",
      "Epoch 6/30\n",
      "18/18 [==============================] - 1s 42ms/step - loss: 0.4152 - accuracy: 0.8562 - val_loss: 0.0423 - val_accuracy: 0.9929\n",
      "Epoch 7/30\n",
      "18/18 [==============================] - 1s 38ms/step - loss: 0.3619 - accuracy: 0.8737 - val_loss: 0.0391 - val_accuracy: 0.9929\n",
      "Epoch 8/30\n",
      "18/18 [==============================] - 1s 38ms/step - loss: 0.3562 - accuracy: 0.8674 - val_loss: 0.0472 - val_accuracy: 0.9893\n",
      "Epoch 9/30\n",
      "18/18 [==============================] - 1s 38ms/step - loss: 0.3237 - accuracy: 0.8857 - val_loss: 0.0489 - val_accuracy: 0.9929\n",
      "Epoch 10/30\n",
      "18/18 [==============================] - 1s 44ms/step - loss: 0.3258 - accuracy: 0.8830 - val_loss: 0.0509 - val_accuracy: 0.9929\n",
      "Epoch 10: early stopping\n"
     ]
    },
    {
     "data": {
      "text/plain": [
       "<keras.callbacks.History at 0x14e2cb98a00>"
      ]
     },
     "execution_count": 15,
     "metadata": {},
     "output_type": "execute_result"
    }
   ],
   "source": [
    "# Let's use first 3000 images for training, last 300 for validation\n",
    "from tensorflow.keras.callbacks import EarlyStopping\n",
    "\n",
    "early_stop = EarlyStopping(monitor='val_loss',  patience=3, verbose=1)\n",
    "# stop if loss does not improve for 3 iterations\n",
    "\n",
    "model.fit(features[:split_point], y_train[:split_point], batch_size=128, epochs=30, \n",
    "              validation_data=(features[split_point:], y_train[split_point:]), callbacks=[early_stop], verbose=1)"
   ]
  },
  {
   "cell_type": "code",
   "execution_count": 16,
   "id": "b104ca38",
   "metadata": {},
   "outputs": [],
   "source": [
    "# save it to disk\n",
    "model.save('model1.h5') # you may try load_model.ipynb to see how it's loaded (not required)"
   ]
  },
  {
   "cell_type": "code",
   "execution_count": 20,
   "id": "c35ca131",
   "metadata": {},
   "outputs": [
    {
     "data": {
      "image/png": "[encoded data removed]",
      "text/plain": [
       "<Figure size 432x288 with 1 Axes>"
      ]
     },
     "metadata": {
      "needs_background": "light"
     },
     "output_type": "display_data"
    }
   ],
   "source": [
    "test_img = get_image('Data/Test_2/series_15.png')\n",
    "plt.imshow(np.uint8(test_img))\n",
    "plt.show()"
   ]
  },
  {
   "cell_type": "code",
   "execution_count": 21,
   "id": "5e27a7af",
   "metadata": {},
   "outputs": [
    {
     "data": {
      "text/plain": [
       "'series'"
      ]
     },
     "execution_count": 21,
     "metadata": {},
     "output_type": "execute_result"
    }
   ],
   "source": [
    "from tensorflow.keras.applications.imagenet_utils import decode_predictions\n",
    "\n",
    "image_batch = np.expand_dims(test_img, axis=0)\n",
    "image_batch = np.copy(image_batch)\n",
    "\n",
    "image_batch = resnet50.preprocess_input(image_batch)\n",
    "feature_input = model_resnet50.predict(image_batch)\n",
    "predictions = model.predict(feature_input)\n",
    "pos = np.argmax(predictions)\n",
    "types[pos]"
   ]
  },
  {
   "cell_type": "markdown",
   "id": "7d0b52bd",
   "metadata": {},
   "source": [
    "## This is where we test our model\n",
    "\n",
    "- \"Test\" data : from the same pool of data (total data: 2800, Test data: 280)\n",
    "- \"Test_2\" data : similar pool of data but different set (280)\n",
    "- \"Test_3\" data : samples collected from different people"
   ]
  },
  {
   "cell_type": "code",
   "execution_count": 21,
   "id": "92138eb1",
   "metadata": {},
   "outputs": [
    {
     "name": "stdout",
     "output_type": "stream",
     "text": [
      "Image Name:  f_dist_1.png  Prediction:  distribute\n",
      "Image Name:  f_ineq.png  Prediction:  ineq\n",
      "Image Name:  f_int.png  Prediction:  distribute\n",
      "Image Name:  f_lim.png  Prediction:  limit\n",
      "Image Name:  f_matrix.png  Prediction:  matrix\n",
      "Image Name:  f_series.png  Prediction:  series\n",
      "Image Name:  f_sqrt.png  Prediction:  sqrt\n",
      "Image Name:  s_dist3.png  Prediction:  ineq\n",
      "Image Name:  s_ineq3.png  Prediction:  ineq\n",
      "Image Name:  s_int3.png  Prediction:  integral\n",
      "Image Name:  s_limit3.png  Prediction:  limit\n",
      "Image Name:  s_matrix3.png  Prediction:  matrix\n",
      "Image Name:  s_series3.png  Prediction:  series\n",
      "Image Name:  s_sqrt3.png  Prediction:  sqrt\n",
      "Image Name:  T_dist2.png  Prediction:  ineq\n",
      "Image Name:  t_ineq2.png  Prediction:  ineq\n",
      "Image Name:  t_int2.png  Prediction:  integral\n",
      "Image Name:  t_lim2.png  Prediction:  limit\n",
      "Image Name:  t_matrix2.png  Prediction:  integral\n",
      "Image Name:  t_series2.png  Prediction:  ineq\n",
      "Image Name:  t_sqrt2.png  Prediction:  sqrt\n"
     ]
    }
   ],
   "source": [
    "for files in os.listdir('./Data/Test_3/'):\n",
    "    \n",
    "    if files== 'desktop.ini':\n",
    "        pass\n",
    "    else:    \n",
    "        test_img = get_image(f'Data/Test_3/{files}')\n",
    "        image_batch = np.expand_dims(test_img, axis=0)\n",
    "        image_batch = np.copy(image_batch)\n",
    "        image_batch = resnet50.preprocess_input(image_batch)\n",
    "        feature_input = model_resnet50.predict(image_batch)\n",
    "        predictions = model.predict(feature_input)\n",
    "        pos = np.argmax(predictions)\n",
    "\n",
    "        print('Image Name: ',files,' Prediction: ',types[pos])\n"
   ]
  },
  {
   "cell_type": "code",
   "execution_count": 22,
   "id": "5f03ef17",
   "metadata": {},
   "outputs": [],
   "source": [
    "Test_prediction = []\n",
    "for files in os.listdir('./Data/Test_2'):\n",
    "\n",
    "    if files== 'desktop.ini':\n",
    "        pass\n",
    "    else:    \n",
    "        test_img = get_image(f'./Data/Test_2/{files}')\n",
    "        image_batch = np.expand_dims(test_img, axis=0)\n",
    "        image_batch = np.copy(image_batch)\n",
    "        image_batch = resnet50.preprocess_input(image_batch)\n",
    "        feature_input = model_resnet50.predict(image_batch)\n",
    "        predictions = model.predict(feature_input)\n",
    "        pos = np.argmax(predictions)\n",
    "        Test_prediction.append(pos)\n",
    "\n",
    "        #print('Image Name: ',files,' Prediction: ',types[pos])"
   ]
  },
  {
   "cell_type": "code",
   "execution_count": 23,
   "id": "8309c3cf",
   "metadata": {},
   "outputs": [],
   "source": [
    "y_test = pd.read_excel(r'./Data/test_2_label.xlsx',usecols=[1,1])\n",
    "y_test = y_test.to_numpy()\n",
    "y_test = np.squeeze(y_test)"
   ]
  },
  {
   "cell_type": "code",
   "execution_count": 24,
   "id": "53251f0b",
   "metadata": {},
   "outputs": [
    {
     "name": "stdout",
     "output_type": "stream",
     "text": [
      "Test accuracy:  0.7428571428571429\n"
     ]
    }
   ],
   "source": [
    "test_acc = (Test_prediction == y_test).mean()\n",
    "print('Test accuracy: ', test_acc)"
   ]
  },
  {
   "cell_type": "markdown",
   "id": "3adeddd5",
   "metadata": {},
   "source": [
    "### concatenating features from Resnet50 & Vgg16"
   ]
  },
  {
   "cell_type": "code",
   "execution_count": 25,
   "id": "ce47d93d",
   "metadata": {},
   "outputs": [
    {
     "name": "stdout",
     "output_type": "stream",
     "text": [
      "40/40 [==============================] - 195s 5s/step\n",
      "(2520, 7, 7, 2048)\n",
      "40/40 [==============================] - 470s 12s/step\n",
      "(2520, 7, 7, 512)\n"
     ]
    }
   ],
   "source": [
    "from tensorflow.keras.applications import inception_v3\n",
    "from tensorflow.keras.applications import vgg16\n",
    "\n",
    "#getting the features of all three models\n",
    "\n",
    "#Resnet50 - last layer of features\n",
    "resnet50_x_train = resnet50.preprocess_input(x_train.copy())\n",
    "resnet50_model = resnet50.ResNet50(weights='imagenet', include_top=False)\n",
    "resnet50_features = resnet50_model.predict(resnet50_x_train, batch_size=64, verbose=1)\n",
    "print(resnet50_features.shape)\n",
    "\n",
    "#vgg16\n",
    "vgg16_x_train = vgg16.preprocess_input(x_train.copy())\n",
    "vgg16_model = vgg16.VGG16(weights='imagenet', include_top=False)\n",
    "vgg16_features = vgg16_model.predict(vgg16_x_train, batch_size=64, verbose=1)\n",
    "print(vgg16_features.shape)"
   ]
  },
  {
   "cell_type": "code",
   "execution_count": 26,
   "id": "591b0250",
   "metadata": {},
   "outputs": [
    {
     "name": "stdout",
     "output_type": "stream",
     "text": [
      "(2520, 7, 7, 2560)\n"
     ]
    }
   ],
   "source": [
    "concat = np.concatenate([resnet50_features, vgg16_features],axis=3)\n",
    "print(concat.shape)"
   ]
  },
  {
   "cell_type": "code",
   "execution_count": 27,
   "id": "b02133f4",
   "metadata": {},
   "outputs": [
    {
     "name": "stdout",
     "output_type": "stream",
     "text": [
      "(None, 7)\n",
      "Model: \"model_1\"\n",
      "_________________________________________________________________\n",
      " Layer (type)                Output Shape              Param #   \n",
      "=================================================================\n",
      " input_5 (InputLayer)        [(None, 7, 7, 2560)]      0         \n",
      "                                                                 \n",
      " global_average_pooling2d_1   (None, 2560)             0         \n",
      " (GlobalAveragePooling2D)                                        \n",
      "                                                                 \n",
      " dropout_2 (Dropout)         (None, 2560)              0         \n",
      "                                                                 \n",
      " dense_2 (Dense)             (None, 500)               1280500   \n",
      "                                                                 \n",
      " batch_normalization_1 (Batc  (None, 500)              2000      \n",
      " hNormalization)                                                 \n",
      "                                                                 \n",
      " activation_1 (Activation)   (None, 500)               0         \n",
      "                                                                 \n",
      " dropout_3 (Dropout)         (None, 500)               0         \n",
      "                                                                 \n",
      " dense_3 (Dense)             (None, 7)                 3507      \n",
      "                                                                 \n",
      "=================================================================\n",
      "Total params: 1,286,007\n",
      "Trainable params: 1,285,007\n",
      "Non-trainable params: 1,000\n",
      "_________________________________________________________________\n"
     ]
    }
   ],
   "source": [
    "new_model_in = Input(shape=(7,7,2560)) \n",
    "mrg = GlobalAveragePooling2D()(new_model_in)\n",
    "mrg = Dropout(0.5)(mrg)\n",
    "mrg = Dense(500)(mrg) # add a dense layer, but not adding activation so that we can add batch-norm first\n",
    "mrg = BatchNormalization()(mrg)\n",
    "mrg = Activation(\"relu\")(mrg)\n",
    "mrg = Dropout(0.5)(mrg) # add a dropout layer\n",
    "# Softmax layer to the output classes\n",
    "predictions = Dense(num_classes, activation='softmax')(mrg)\n",
    "print(predictions.shape)\n",
    "#model_final=Model(inputs=[model1.input,model2.input],outputs=predictions)\n",
    "new_model = Model(inputs=new_model_in,outputs=predictions)\n",
    "new_model.summary()"
   ]
  },
  {
   "cell_type": "code",
   "execution_count": 28,
   "id": "485b6221",
   "metadata": {},
   "outputs": [],
   "source": [
    "new_model.compile(loss='categorical_crossentropy', optimizer=\"adam\", metrics=['accuracy'])"
   ]
  },
  {
   "cell_type": "code",
   "execution_count": 29,
   "id": "4e64984d",
   "metadata": {},
   "outputs": [
    {
     "name": "stdout",
     "output_type": "stream",
     "text": [
      "Epoch 1/30\n",
      "18/18 [==============================] - 2s 81ms/step - loss: 1.3138 - accuracy: 0.5469 - val_loss: 0.2204 - val_accuracy: 0.8857\n",
      "Epoch 2/30\n",
      "18/18 [==============================] - 1s 51ms/step - loss: 0.6595 - accuracy: 0.7661 - val_loss: 0.0503 - val_accuracy: 0.9857\n",
      "Epoch 3/30\n",
      "18/18 [==============================] - 1s 49ms/step - loss: 0.4815 - accuracy: 0.8304 - val_loss: 0.0189 - val_accuracy: 0.9964\n",
      "Epoch 4/30\n",
      "18/18 [==============================] - 1s 46ms/step - loss: 0.4059 - accuracy: 0.8576 - val_loss: 0.0199 - val_accuracy: 0.9929\n",
      "Epoch 5/30\n",
      "18/18 [==============================] - 1s 45ms/step - loss: 0.3847 - accuracy: 0.8723 - val_loss: 0.0244 - val_accuracy: 0.9929\n",
      "Epoch 6/30\n",
      "18/18 [==============================] - 1s 44ms/step - loss: 0.3362 - accuracy: 0.8808 - val_loss: 0.0254 - val_accuracy: 0.9929\n",
      "Epoch 6: early stopping\n"
     ]
    },
    {
     "data": {
      "text/plain": [
       "<keras.callbacks.History at 0x14e2fa761c0>"
      ]
     },
     "execution_count": 29,
     "metadata": {},
     "output_type": "execute_result"
    }
   ],
   "source": [
    "early_stop = EarlyStopping(monitor='val_loss',  patience=3, verbose=1)\n",
    "# stop if loss does not improve for 3 iterations\n",
    "new_model.fit(concat[:split_point], y_train[:split_point], batch_size=128, epochs=30, \n",
    "              validation_data=(concat[split_point:], y_train[split_point:]), callbacks=[early_stop], verbose=1)"
   ]
  },
  {
   "cell_type": "code",
   "execution_count": 30,
   "id": "7e0478e3",
   "metadata": {},
   "outputs": [],
   "source": [
    "Test_prediction2 = []\n",
    "for files in os.listdir('./Data/Test_2'):\n",
    "\n",
    "    if files== 'desktop.ini':\n",
    "        pass\n",
    "    else:    \n",
    "        test_img = get_image(f'./Data/Test_2/{files}')\n",
    "        image_batch = np.expand_dims(test_img, axis=0)\n",
    "        image_batch = np.copy(image_batch)\n",
    "        \n",
    "        image_batch1 = resnet50.preprocess_input(image_batch.copy())\n",
    "        image_batch2 = vgg16.preprocess_input(image_batch.copy())\n",
    "        feature_input1 = resnet50_model.predict(image_batch1)\n",
    "        feature_input2 = vgg16_model.predict(image_batch2)\n",
    "        concat2 = np.concatenate([feature_input1,feature_input2],axis=3)\n",
    "        predictions = new_model.predict(concat2)\n",
    "        pos = np.argmax(predictions)\n",
    "        Test_prediction2.append(pos)\n",
    "\n",
    "        #print('Image Name: ',files,' Prediction: ',types[pos])"
   ]
  },
  {
   "cell_type": "code",
   "execution_count": 31,
   "id": "101f99c2",
   "metadata": {},
   "outputs": [
    {
     "name": "stdout",
     "output_type": "stream",
     "text": [
      "Test accuracy:  0.6892857142857143\n"
     ]
    }
   ],
   "source": [
    "y_test = pd.read_excel(r'./Data/test_2_label.xlsx',usecols=[1,1])\n",
    "y_test = y_test.to_numpy()\n",
    "y_test = np.squeeze(y_test)\n",
    "test_acc = (Test_prediction2 == y_test).mean()\n",
    "print('Test accuracy: ', test_acc)"
   ]
  },
  {
   "cell_type": "markdown",
   "id": "2980e7d7",
   "metadata": {},
   "source": [
    "### Here we use Xception"
   ]
  },
  {
   "cell_type": "code",
   "execution_count": 32,
   "id": "33e205ff",
   "metadata": {},
   "outputs": [
    {
     "name": "stdout",
     "output_type": "stream",
     "text": [
      "40/40 [==============================] - 192s 5s/step\n",
      "(2520, 7, 7, 2048)\n"
     ]
    }
   ],
   "source": [
    "from tensorflow.keras.applications import xception\n",
    "\n",
    "#getting the features of all three models\n",
    "\n",
    "#Resnet50 - last layer of features\n",
    "xception_x_train = xception.preprocess_input(x_train.copy())\n",
    "xception_model = xception.Xception(weights='imagenet', include_top=False)\n",
    "xception_features = xception_model.predict(xception_x_train, batch_size=64, verbose=1)\n",
    "print(xception_features.shape)\n"
   ]
  },
  {
   "cell_type": "code",
   "execution_count": 33,
   "id": "de82442f",
   "metadata": {},
   "outputs": [
    {
     "data": {
      "text/plain": [
       "(2520, 7, 7, 2048)"
      ]
     },
     "execution_count": 33,
     "metadata": {},
     "output_type": "execute_result"
    }
   ],
   "source": [
    "xception_features.shape"
   ]
  },
  {
   "cell_type": "code",
   "execution_count": 34,
   "id": "9c9b4b48",
   "metadata": {},
   "outputs": [
    {
     "name": "stdout",
     "output_type": "stream",
     "text": [
      "(None, 2048)\n",
      "(None, 7)\n"
     ]
    }
   ],
   "source": [
    "inputs = Input(shape = (7, 7, 2048)) # to take 7 x 7 x 2048 images\n",
    "x = GlobalAveragePooling2D()(inputs) # to convert to 2048 feagures\n",
    "print(x.shape)\n",
    "x = Dropout(0.5)(x) # add a dropout layer\n",
    "x = Dense(500)(x) # add a dense layer, but not adding activation so that we can add batch-norm first\n",
    "x = BatchNormalization()(x)\n",
    "x = Activation(\"relu\")(x)\n",
    "x = Dropout(0.5)(x) # add a dropout layer\n",
    "# Softmax layer to the output classes\n",
    "predictions = Dense(num_classes, activation='softmax')(x) # arg1 is: units = dimensionality of the output space.\n",
    "print(predictions.shape)"
   ]
  },
  {
   "cell_type": "code",
   "execution_count": 35,
   "id": "f78ce39c",
   "metadata": {},
   "outputs": [
    {
     "name": "stdout",
     "output_type": "stream",
     "text": [
      "Model: \"model_2\"\n",
      "_________________________________________________________________\n",
      " Layer (type)                Output Shape              Param #   \n",
      "=================================================================\n",
      " input_7 (InputLayer)        [(None, 7, 7, 2048)]      0         \n",
      "                                                                 \n",
      " global_average_pooling2d_2   (None, 2048)             0         \n",
      " (GlobalAveragePooling2D)                                        \n",
      "                                                                 \n",
      " dropout_4 (Dropout)         (None, 2048)              0         \n",
      "                                                                 \n",
      " dense_4 (Dense)             (None, 500)               1024500   \n",
      "                                                                 \n",
      " batch_normalization_6 (Batc  (None, 500)              2000      \n",
      " hNormalization)                                                 \n",
      "                                                                 \n",
      " activation_2 (Activation)   (None, 500)               0         \n",
      "                                                                 \n",
      " dropout_5 (Dropout)         (None, 500)               0         \n",
      "                                                                 \n",
      " dense_5 (Dense)             (None, 7)                 3507      \n",
      "                                                                 \n",
      "=================================================================\n",
      "Total params: 1,030,007\n",
      "Trainable params: 1,029,007\n",
      "Non-trainable params: 1,000\n",
      "_________________________________________________________________\n"
     ]
    }
   ],
   "source": [
    "model_x = Model(inputs=inputs, outputs=predictions) # specify what is network input, and what is network output\n",
    "model_x.summary()"
   ]
  },
  {
   "cell_type": "code",
   "execution_count": 36,
   "id": "a966459f",
   "metadata": {},
   "outputs": [],
   "source": [
    "model_x.compile(loss='categorical_crossentropy', optimizer=\"adam\", metrics=['accuracy'])"
   ]
  },
  {
   "cell_type": "code",
   "execution_count": 37,
   "id": "dcca5e1a",
   "metadata": {},
   "outputs": [
    {
     "name": "stdout",
     "output_type": "stream",
     "text": [
      "Epoch 1/30\n",
      "18/18 [==============================] - 2s 49ms/step - loss: 1.4010 - accuracy: 0.5326 - val_loss: 1.8946 - val_accuracy: 0.1500\n",
      "Epoch 2/30\n",
      "18/18 [==============================] - 1s 36ms/step - loss: 0.7665 - accuracy: 0.7312 - val_loss: 0.9696 - val_accuracy: 0.6821\n",
      "Epoch 3/30\n",
      "18/18 [==============================] - 1s 35ms/step - loss: 0.5807 - accuracy: 0.7893 - val_loss: 0.6109 - val_accuracy: 0.8750\n",
      "Epoch 4/30\n",
      "18/18 [==============================] - 1s 36ms/step - loss: 0.5352 - accuracy: 0.8112 - val_loss: 0.5362 - val_accuracy: 0.8821\n",
      "Epoch 5/30\n",
      "18/18 [==============================] - 1s 35ms/step - loss: 0.4810 - accuracy: 0.8272 - val_loss: 0.4880 - val_accuracy: 0.8857\n",
      "Epoch 6/30\n",
      "18/18 [==============================] - 1s 36ms/step - loss: 0.4278 - accuracy: 0.8536 - val_loss: 0.4463 - val_accuracy: 0.8536\n",
      "Epoch 7/30\n",
      "18/18 [==============================] - 1s 37ms/step - loss: 0.4083 - accuracy: 0.8562 - val_loss: 0.4617 - val_accuracy: 0.8464\n",
      "Epoch 8/30\n",
      "18/18 [==============================] - 1s 35ms/step - loss: 0.3908 - accuracy: 0.8598 - val_loss: 0.4769 - val_accuracy: 0.8429\n",
      "Epoch 9/30\n",
      "18/18 [==============================] - 1s 37ms/step - loss: 0.3468 - accuracy: 0.8772 - val_loss: 0.3942 - val_accuracy: 0.8607\n",
      "Epoch 10/30\n",
      "18/18 [==============================] - 1s 36ms/step - loss: 0.3386 - accuracy: 0.8795 - val_loss: 0.3424 - val_accuracy: 0.8714\n",
      "Epoch 11/30\n",
      "18/18 [==============================] - 1s 34ms/step - loss: 0.3303 - accuracy: 0.8826 - val_loss: 0.3976 - val_accuracy: 0.8357\n",
      "Epoch 12/30\n",
      "18/18 [==============================] - 1s 39ms/step - loss: 0.2909 - accuracy: 0.9013 - val_loss: 0.3421 - val_accuracy: 0.8607\n",
      "Epoch 13/30\n",
      "18/18 [==============================] - 1s 34ms/step - loss: 0.2946 - accuracy: 0.9004 - val_loss: 0.2486 - val_accuracy: 0.9286\n",
      "Epoch 14/30\n",
      "18/18 [==============================] - 1s 39ms/step - loss: 0.2876 - accuracy: 0.9013 - val_loss: 0.2432 - val_accuracy: 0.9179\n",
      "Epoch 15/30\n",
      "18/18 [==============================] - 1s 35ms/step - loss: 0.2807 - accuracy: 0.8964 - val_loss: 0.2861 - val_accuracy: 0.9000\n",
      "Epoch 16/30\n",
      "18/18 [==============================] - 1s 35ms/step - loss: 0.2764 - accuracy: 0.9040 - val_loss: 0.2119 - val_accuracy: 0.9250\n",
      "Epoch 17/30\n",
      "18/18 [==============================] - 1s 35ms/step - loss: 0.2504 - accuracy: 0.9121 - val_loss: 0.2342 - val_accuracy: 0.9250\n",
      "Epoch 18/30\n",
      "18/18 [==============================] - 1s 36ms/step - loss: 0.2731 - accuracy: 0.9076 - val_loss: 0.2825 - val_accuracy: 0.9036\n",
      "Epoch 19/30\n",
      "18/18 [==============================] - 1s 35ms/step - loss: 0.2454 - accuracy: 0.9143 - val_loss: 0.2435 - val_accuracy: 0.9071\n",
      "Epoch 19: early stopping\n"
     ]
    },
    {
     "data": {
      "text/plain": [
       "<keras.callbacks.History at 0x14e39c3be20>"
      ]
     },
     "execution_count": 37,
     "metadata": {},
     "output_type": "execute_result"
    }
   ],
   "source": [
    "early_stop = EarlyStopping(monitor='val_loss',  patience=3, verbose=1)\n",
    "# stop if loss does not improve for 3 iterations\n",
    "model_x.fit(xception_features[:split_point], y_train[:split_point], batch_size=128, epochs=30, \n",
    "              validation_data=(xception_features[split_point:], y_train[split_point:]), callbacks=[early_stop], verbose=1)"
   ]
  },
  {
   "cell_type": "code",
   "execution_count": 38,
   "id": "5949358a",
   "metadata": {},
   "outputs": [],
   "source": [
    "model_x.save('modelx.h5')"
   ]
  },
  {
   "cell_type": "code",
   "execution_count": 39,
   "id": "4290d440",
   "metadata": {},
   "outputs": [],
   "source": [
    "Test_prediction3 = []\n",
    "for files in os.listdir('./Data/Test_2'):\n",
    "\n",
    "    if files== 'desktop.ini':\n",
    "        pass\n",
    "    else:    \n",
    "        test_img = get_image(f'./Data/Test_2/{files}')\n",
    "        image_batch = np.expand_dims(test_img, axis=0)\n",
    "        image_batch = np.copy(image_batch)\n",
    "        image_batch = xception.preprocess_input(image_batch)\n",
    "        feature_input = xception_model.predict(image_batch)\n",
    "        predictions = model_x.predict(feature_input)\n",
    "        pos = np.argmax(predictions)\n",
    "        Test_prediction3.append(pos)\n"
   ]
  },
  {
   "cell_type": "code",
   "execution_count": 41,
   "id": "8e362601",
   "metadata": {},
   "outputs": [
    {
     "name": "stdout",
     "output_type": "stream",
     "text": [
      "Test accuracy:  0.6428571428571429\n"
     ]
    }
   ],
   "source": [
    "test_acc = (Test_prediction3 == y_test).mean()\n",
    "print('Test accuracy: ', test_acc)"
   ]
  },
  {
   "cell_type": "markdown",
   "id": "57657caf",
   "metadata": {},
   "source": [
    "### VGG16 only"
   ]
  },
  {
   "cell_type": "code",
   "execution_count": 40,
   "id": "5596fa70",
   "metadata": {},
   "outputs": [
    {
     "name": "stdout",
     "output_type": "stream",
     "text": [
      "40/40 [==============================] - 433s 11s/step\n",
      "(2520, 7, 7, 512)\n"
     ]
    }
   ],
   "source": [
    "#vgg16\n",
    "vgg16_x_train = vgg16.preprocess_input(x_train.copy())\n",
    "vgg16_model = vgg16.VGG16(weights='imagenet', include_top=False)\n",
    "vgg16_features = vgg16_model.predict(vgg16_x_train, batch_size=64, verbose=1)\n",
    "print(vgg16_features.shape)"
   ]
  },
  {
   "cell_type": "code",
   "execution_count": 42,
   "id": "b2113983",
   "metadata": {},
   "outputs": [
    {
     "name": "stdout",
     "output_type": "stream",
     "text": [
      "(None, 512)\n",
      "(None, 7)\n"
     ]
    }
   ],
   "source": [
    "inputs = Input(shape = (7, 7, 512)) # to take 7 x 7 x 2048 images\n",
    "x = GlobalAveragePooling2D()(inputs) # to convert to 2048 feagures\n",
    "print(x.shape)\n",
    "x = Dropout(0.5)(x) # add a dropout layer\n",
    "x = Dense(500)(x) # add a dense layer, but not adding activation so that we can add batch-norm first\n",
    "x = BatchNormalization()(x)\n",
    "x = Activation(\"relu\")(x)\n",
    "x = Dropout(0.5)(x) # add a dropout layer\n",
    "# Softmax layer to the output classes\n",
    "predictions = Dense(num_classes, activation='softmax')(x) # arg1 is: units = dimensionality of the output space.\n",
    "print(predictions.shape)"
   ]
  },
  {
   "cell_type": "code",
   "execution_count": 43,
   "id": "2c9a47ae",
   "metadata": {},
   "outputs": [
    {
     "name": "stdout",
     "output_type": "stream",
     "text": [
      "Model: \"model_3\"\n",
      "_________________________________________________________________\n",
      " Layer (type)                Output Shape              Param #   \n",
      "=================================================================\n",
      " input_9 (InputLayer)        [(None, 7, 7, 512)]       0         \n",
      "                                                                 \n",
      " global_average_pooling2d_3   (None, 512)              0         \n",
      " (GlobalAveragePooling2D)                                        \n",
      "                                                                 \n",
      " dropout_6 (Dropout)         (None, 512)               0         \n",
      "                                                                 \n",
      " dense_6 (Dense)             (None, 500)               256500    \n",
      "                                                                 \n",
      " batch_normalization_7 (Batc  (None, 500)              2000      \n",
      " hNormalization)                                                 \n",
      "                                                                 \n",
      " activation_3 (Activation)   (None, 500)               0         \n",
      "                                                                 \n",
      " dropout_7 (Dropout)         (None, 500)               0         \n",
      "                                                                 \n",
      " dense_7 (Dense)             (None, 7)                 3507      \n",
      "                                                                 \n",
      "=================================================================\n",
      "Total params: 262,007\n",
      "Trainable params: 261,007\n",
      "Non-trainable params: 1,000\n",
      "_________________________________________________________________\n"
     ]
    }
   ],
   "source": [
    "model_v = Model(inputs=inputs, outputs=predictions) # specify what is network input, and what is network output\n",
    "model_v.summary()"
   ]
  },
  {
   "cell_type": "code",
   "execution_count": 44,
   "id": "c83173fc",
   "metadata": {},
   "outputs": [],
   "source": [
    "model_v.compile(loss='categorical_crossentropy', optimizer=\"adam\", metrics=['accuracy'])"
   ]
  },
  {
   "cell_type": "code",
   "execution_count": 45,
   "id": "2b3721d5",
   "metadata": {},
   "outputs": [
    {
     "name": "stdout",
     "output_type": "stream",
     "text": [
      "Epoch 1/30\n",
      "18/18 [==============================] - 1s 23ms/step - loss: 1.7974 - accuracy: 0.3482 - val_loss: 2.9429 - val_accuracy: 0.0964\n",
      "Epoch 2/30\n",
      "18/18 [==============================] - 0s 13ms/step - loss: 1.1911 - accuracy: 0.5442 - val_loss: 0.3999 - val_accuracy: 0.8714\n",
      "Epoch 3/30\n",
      "18/18 [==============================] - 0s 13ms/step - loss: 1.0248 - accuracy: 0.6237 - val_loss: 0.1720 - val_accuracy: 0.9536\n",
      "Epoch 4/30\n",
      "18/18 [==============================] - 0s 13ms/step - loss: 0.9076 - accuracy: 0.6607 - val_loss: 0.1233 - val_accuracy: 0.9821\n",
      "Epoch 5/30\n",
      "18/18 [==============================] - 0s 13ms/step - loss: 0.8716 - accuracy: 0.6871 - val_loss: 0.0623 - val_accuracy: 0.9929\n",
      "Epoch 6/30\n",
      "18/18 [==============================] - 0s 13ms/step - loss: 0.7884 - accuracy: 0.7071 - val_loss: 0.0474 - val_accuracy: 0.9929\n",
      "Epoch 7/30\n",
      "18/18 [==============================] - 0s 12ms/step - loss: 0.7667 - accuracy: 0.7205 - val_loss: 0.0422 - val_accuracy: 0.9929\n",
      "Epoch 8/30\n",
      "18/18 [==============================] - 0s 13ms/step - loss: 0.7281 - accuracy: 0.7353 - val_loss: 0.0386 - val_accuracy: 0.9929\n",
      "Epoch 9/30\n",
      "18/18 [==============================] - 0s 13ms/step - loss: 0.7141 - accuracy: 0.7473 - val_loss: 0.0430 - val_accuracy: 0.9929\n",
      "Epoch 10/30\n",
      "18/18 [==============================] - 0s 13ms/step - loss: 0.6766 - accuracy: 0.7522 - val_loss: 0.0417 - val_accuracy: 0.9929\n",
      "Epoch 11/30\n",
      "18/18 [==============================] - 0s 13ms/step - loss: 0.6410 - accuracy: 0.7696 - val_loss: 0.0373 - val_accuracy: 0.9929\n",
      "Epoch 12/30\n",
      "18/18 [==============================] - 0s 15ms/step - loss: 0.6144 - accuracy: 0.7799 - val_loss: 0.0355 - val_accuracy: 0.9929\n",
      "Epoch 13/30\n",
      "18/18 [==============================] - 0s 14ms/step - loss: 0.6101 - accuracy: 0.7804 - val_loss: 0.0298 - val_accuracy: 0.9929\n",
      "Epoch 14/30\n",
      "18/18 [==============================] - 0s 17ms/step - loss: 0.5868 - accuracy: 0.7866 - val_loss: 0.0314 - val_accuracy: 0.9929\n",
      "Epoch 15/30\n",
      "18/18 [==============================] - 0s 13ms/step - loss: 0.5864 - accuracy: 0.7915 - val_loss: 0.0335 - val_accuracy: 0.9929\n",
      "Epoch 16/30\n",
      "18/18 [==============================] - 0s 14ms/step - loss: 0.5493 - accuracy: 0.8094 - val_loss: 0.0333 - val_accuracy: 0.9929\n",
      "Epoch 16: early stopping\n"
     ]
    },
    {
     "data": {
      "text/plain": [
       "<keras.callbacks.History at 0x14eefaecb20>"
      ]
     },
     "execution_count": 45,
     "metadata": {},
     "output_type": "execute_result"
    }
   ],
   "source": [
    "early_stop = EarlyStopping(monitor='val_loss',  patience=3, verbose=1)\n",
    "# stop if loss does not improve for 3 iterations\n",
    "model_v.fit(vgg16_features[:split_point], y_train[:split_point], batch_size=128, epochs=30, \n",
    "              validation_data=(vgg16_features[split_point:], y_train[split_point:]), callbacks=[early_stop], verbose=1)"
   ]
  },
  {
   "cell_type": "code",
   "execution_count": 46,
   "id": "220912ff",
   "metadata": {},
   "outputs": [],
   "source": [
    "model_v.save('modelv.h5')"
   ]
  },
  {
   "cell_type": "code",
   "execution_count": 47,
   "id": "85a76a05",
   "metadata": {},
   "outputs": [],
   "source": [
    "Test_prediction4 = []\n",
    "for files in os.listdir('./Data/Test_2'):\n",
    "\n",
    "    if files== 'desktop.ini':\n",
    "        pass\n",
    "    else:    \n",
    "        test_img = get_image(f'./Data/Test_2/{files}')\n",
    "        image_batch = np.expand_dims(test_img, axis=0)\n",
    "        image_batch = np.copy(image_batch)\n",
    "        image_batch = vgg16.preprocess_input(image_batch)\n",
    "        feature_input = vgg16_model.predict(image_batch)\n",
    "        predictions = model_v.predict(feature_input)\n",
    "        pos = np.argmax(predictions)\n",
    "        Test_prediction4.append(pos)\n"
   ]
  },
  {
   "cell_type": "code",
   "execution_count": 48,
   "id": "52c35e3f",
   "metadata": {},
   "outputs": [
    {
     "name": "stdout",
     "output_type": "stream",
     "text": [
      "Test accuracy:  0.6535714285714286\n"
     ]
    }
   ],
   "source": [
    "test_acc = (Test_prediction4 == y_test).mean()\n",
    "print('Test accuracy: ', test_acc)"
   ]
  },
  {
   "cell_type": "markdown",
   "id": "e80b99e7",
   "metadata": {},
   "source": [
    "### We will now use Inception"
   ]
  },
  {
   "cell_type": "code",
   "execution_count": 49,
   "id": "9e1012cc",
   "metadata": {},
   "outputs": [
    {
     "name": "stdout",
     "output_type": "stream",
     "text": [
      "40/40 [==============================] - 104s 3s/step\n",
      "(2520, 5, 5, 2048)\n"
     ]
    }
   ],
   "source": [
    "from tensorflow.keras.applications import inception_v3\n",
    "inceptionV3_x_train = inception_v3.preprocess_input(x_train.copy())\n",
    "inceptionV3_model = inception_v3.InceptionV3(weights='imagenet', include_top=False)\n",
    "inceptionV3_features = inceptionV3_model.predict(inceptionV3_x_train, batch_size=64, verbose=1)\n",
    "print(inceptionV3_features.shape)"
   ]
  },
  {
   "cell_type": "code",
   "execution_count": 50,
   "id": "283d6470",
   "metadata": {},
   "outputs": [
    {
     "name": "stdout",
     "output_type": "stream",
     "text": [
      "(None, 2048)\n",
      "(None, 7)\n"
     ]
    }
   ],
   "source": [
    "inputs = Input(shape = (5, 5, 2048)) # to take 7 x 7 x 2048 images\n",
    "x = GlobalAveragePooling2D()(inputs) # to convert to 2048 feagures\n",
    "print(x.shape)\n",
    "x = Dropout(0.5)(x) # add a dropout layer\n",
    "x = Dense(500)(x) # add a dense layer, but not adding activation so that we can add batch-norm first\n",
    "x = BatchNormalization()(x)\n",
    "x = Activation(\"relu\")(x)\n",
    "x = Dropout(0.5)(x) # add a dropout layer\n",
    "# Softmax layer to the output classes\n",
    "predictions = Dense(num_classes, activation='softmax')(x) # arg1 is: units = dimensionality of the output space.\n",
    "print(predictions.shape)"
   ]
  },
  {
   "cell_type": "code",
   "execution_count": 53,
   "id": "0fb0fa72",
   "metadata": {},
   "outputs": [
    {
     "name": "stdout",
     "output_type": "stream",
     "text": [
      "Model: \"model_4\"\n",
      "_________________________________________________________________\n",
      " Layer (type)                Output Shape              Param #   \n",
      "=================================================================\n",
      " input_11 (InputLayer)       [(None, 5, 5, 2048)]      0         \n",
      "                                                                 \n",
      " global_average_pooling2d_4   (None, 2048)             0         \n",
      " (GlobalAveragePooling2D)                                        \n",
      "                                                                 \n",
      " dropout_8 (Dropout)         (None, 2048)              0         \n",
      "                                                                 \n",
      " dense_8 (Dense)             (None, 500)               1024500   \n",
      "                                                                 \n",
      " batch_normalization_102 (Ba  (None, 500)              2000      \n",
      " tchNormalization)                                               \n",
      "                                                                 \n",
      " activation_98 (Activation)  (None, 500)               0         \n",
      "                                                                 \n",
      " dropout_9 (Dropout)         (None, 500)               0         \n",
      "                                                                 \n",
      " dense_9 (Dense)             (None, 7)                 3507      \n",
      "                                                                 \n",
      "=================================================================\n",
      "Total params: 1,030,007\n",
      "Trainable params: 1,029,007\n",
      "Non-trainable params: 1,000\n",
      "_________________________________________________________________\n"
     ]
    }
   ],
   "source": [
    "model_i = Model(inputs=inputs, outputs=predictions) # specify what is network input, and what is network output\n",
    "model_i.summary()"
   ]
  },
  {
   "cell_type": "code",
   "execution_count": 54,
   "id": "811391c8",
   "metadata": {},
   "outputs": [],
   "source": [
    "model_i.compile(loss='categorical_crossentropy', optimizer=\"adam\", metrics=['accuracy'])"
   ]
  },
  {
   "cell_type": "code",
   "execution_count": 55,
   "id": "293ecc60",
   "metadata": {},
   "outputs": [
    {
     "name": "stdout",
     "output_type": "stream",
     "text": [
      "Epoch 1/30\n",
      "18/18 [==============================] - 1s 36ms/step - loss: 1.3626 - accuracy: 0.5205 - val_loss: 1.0535 - val_accuracy: 0.6679\n",
      "Epoch 2/30\n",
      "18/18 [==============================] - 0s 25ms/step - loss: 0.7764 - accuracy: 0.7254 - val_loss: 0.3698 - val_accuracy: 0.8893\n",
      "Epoch 3/30\n",
      "18/18 [==============================] - 0s 27ms/step - loss: 0.6273 - accuracy: 0.7710 - val_loss: 0.1912 - val_accuracy: 0.9500\n",
      "Epoch 4/30\n",
      "18/18 [==============================] - 0s 25ms/step - loss: 0.5509 - accuracy: 0.8107 - val_loss: 0.1637 - val_accuracy: 0.9571\n",
      "Epoch 5/30\n",
      "18/18 [==============================] - 0s 26ms/step - loss: 0.5022 - accuracy: 0.8196 - val_loss: 0.1384 - val_accuracy: 0.9643\n",
      "Epoch 6/30\n",
      "18/18 [==============================] - 0s 26ms/step - loss: 0.4638 - accuracy: 0.8281 - val_loss: 0.1611 - val_accuracy: 0.9643\n",
      "Epoch 7/30\n",
      "18/18 [==============================] - 0s 26ms/step - loss: 0.4305 - accuracy: 0.8455 - val_loss: 0.0816 - val_accuracy: 0.9857\n",
      "Epoch 8/30\n",
      "18/18 [==============================] - 0s 27ms/step - loss: 0.3805 - accuracy: 0.8621 - val_loss: 0.1222 - val_accuracy: 0.9607\n",
      "Epoch 9/30\n",
      "18/18 [==============================] - 0s 28ms/step - loss: 0.3638 - accuracy: 0.8741 - val_loss: 0.1200 - val_accuracy: 0.9607\n",
      "Epoch 10/30\n",
      "18/18 [==============================] - 1s 30ms/step - loss: 0.3416 - accuracy: 0.8763 - val_loss: 0.0934 - val_accuracy: 0.9714\n",
      "Epoch 10: early stopping\n"
     ]
    },
    {
     "data": {
      "text/plain": [
       "<keras.callbacks.History at 0x14e32d39be0>"
      ]
     },
     "execution_count": 55,
     "metadata": {},
     "output_type": "execute_result"
    }
   ],
   "source": [
    "early_stop = EarlyStopping(monitor='val_loss',  patience=3, verbose=1)\n",
    "# stop if loss does not improve for 3 iterations\n",
    "model_i.fit(inceptionV3_features[:split_point], y_train[:split_point], batch_size=128, epochs=30, \n",
    "              validation_data=(inceptionV3_features[split_point:], y_train[split_point:]), callbacks=[early_stop], verbose=1)"
   ]
  },
  {
   "cell_type": "code",
   "execution_count": 56,
   "id": "f7a705f3",
   "metadata": {},
   "outputs": [],
   "source": [
    "model_i.save('modeli.h5')"
   ]
  },
  {
   "cell_type": "code",
   "execution_count": 57,
   "id": "1b2d206e",
   "metadata": {},
   "outputs": [],
   "source": [
    "Test_prediction5 = []\n",
    "for files in os.listdir('./Data/Test_2'):\n",
    "\n",
    "    if files== 'desktop.ini':\n",
    "        pass\n",
    "    else:    \n",
    "        test_img = get_image(f'./Data/Test_2/{files}')\n",
    "        image_batch = np.expand_dims(test_img, axis=0)\n",
    "        image_batch = np.copy(image_batch)\n",
    "        image_batch = inception_v3.preprocess_input(image_batch)\n",
    "        feature_input = inceptionV3_model.predict(image_batch)\n",
    "        predictions = model_i.predict(feature_input)\n",
    "        pos = np.argmax(predictions)\n",
    "        Test_prediction5.append(pos)\n"
   ]
  },
  {
   "cell_type": "code",
   "execution_count": 58,
   "id": "f3af23db",
   "metadata": {},
   "outputs": [
    {
     "name": "stdout",
     "output_type": "stream",
     "text": [
      "Test accuracy:  0.6\n"
     ]
    }
   ],
   "source": [
    "test_acc = (Test_prediction5 == y_test).mean()\n",
    "print('Test accuracy: ', test_acc)"
   ]
  },
  {
   "cell_type": "markdown",
   "id": "9022b48d",
   "metadata": {},
   "source": [
    "### Resnet with tanh activation funciton"
   ]
  },
  {
   "cell_type": "code",
   "execution_count": 60,
   "id": "ec7bda5e",
   "metadata": {},
   "outputs": [
    {
     "name": "stdout",
     "output_type": "stream",
     "text": [
      "40/40 [==============================] - 196s 5s/step\n",
      "(2520, 7, 7, 2048)\n"
     ]
    }
   ],
   "source": [
    "from tensorflow.keras.applications import resnet50\n",
    "resnet_tanh_x_train = resnet50.preprocess_input(x_train.copy())\n",
    "resnet_tanh_model = resnet50.ResNet50(weights='imagenet', include_top=False)\n",
    "resnet_tanh_features = resnet_tanh_model.predict(resnet_tanh_x_train, batch_size=64, verbose=1)\n",
    "print(resnet_tanh_features.shape)"
   ]
  },
  {
   "cell_type": "code",
   "execution_count": 61,
   "id": "fc185e70",
   "metadata": {},
   "outputs": [
    {
     "name": "stdout",
     "output_type": "stream",
     "text": [
      "(None, 2048)\n",
      "(None, 7)\n"
     ]
    }
   ],
   "source": [
    "from tensorflow.keras.layers import Input, Dense, GlobalAveragePooling2D, Dropout, Activation, BatchNormalization\n",
    "\n",
    "inputs = Input(shape = (7, 7, 2048)) # to take 7 x 7 x 2048 images\n",
    "x = GlobalAveragePooling2D()(inputs) # to convert to 2048 feagures\n",
    "print(x.shape)\n",
    "x = Dropout(0.5)(x) # add a dropout layer\n",
    "x = Dense(500)(x) # add a dense layer, but not adding activation so that we can add batch-norm first\n",
    "x = BatchNormalization()(x)\n",
    "x = Activation(\"tanh\")(x)\n",
    "x = Dropout(0.5)(x) # add a dropout layer\n",
    "# Softmax layer to the output classes\n",
    "predictions = Dense(num_classes, activation='softmax')(x) # arg1 is: units = dimensionality of the output space.\n",
    "print(predictions.shape)"
   ]
  },
  {
   "cell_type": "code",
   "execution_count": 62,
   "id": "98588e9c",
   "metadata": {},
   "outputs": [
    {
     "name": "stdout",
     "output_type": "stream",
     "text": [
      "Model: \"model_5\"\n",
      "_________________________________________________________________\n",
      " Layer (type)                Output Shape              Param #   \n",
      "=================================================================\n",
      " input_14 (InputLayer)       [(None, 7, 7, 2048)]      0         \n",
      "                                                                 \n",
      " global_average_pooling2d_5   (None, 2048)             0         \n",
      " (GlobalAveragePooling2D)                                        \n",
      "                                                                 \n",
      " dropout_10 (Dropout)        (None, 2048)              0         \n",
      "                                                                 \n",
      " dense_10 (Dense)            (None, 500)               1024500   \n",
      "                                                                 \n",
      " batch_normalization_103 (Ba  (None, 500)              2000      \n",
      " tchNormalization)                                               \n",
      "                                                                 \n",
      " activation_99 (Activation)  (None, 500)               0         \n",
      "                                                                 \n",
      " dropout_11 (Dropout)        (None, 500)               0         \n",
      "                                                                 \n",
      " dense_11 (Dense)            (None, 7)                 3507      \n",
      "                                                                 \n",
      "=================================================================\n",
      "Total params: 1,030,007\n",
      "Trainable params: 1,029,007\n",
      "Non-trainable params: 1,000\n",
      "_________________________________________________________________\n"
     ]
    }
   ],
   "source": [
    "from tensorflow.keras.models import Model\n",
    "model_tanh = Model(inputs=inputs, outputs=predictions) # specify what is network input, and what is network output\n",
    "model_tanh.summary()"
   ]
  },
  {
   "cell_type": "code",
   "execution_count": 63,
   "id": "8a1c6f95",
   "metadata": {},
   "outputs": [],
   "source": [
    "model_tanh.compile(loss='categorical_crossentropy', optimizer=\"adam\", metrics=['accuracy'])"
   ]
  },
  {
   "cell_type": "code",
   "execution_count": 64,
   "id": "05f008f3",
   "metadata": {},
   "outputs": [
    {
     "name": "stdout",
     "output_type": "stream",
     "text": [
      "Epoch 1/30\n",
      "18/18 [==============================] - 3s 55ms/step - loss: 1.2176 - accuracy: 0.5701 - val_loss: 0.5353 - val_accuracy: 0.7643\n",
      "Epoch 2/30\n",
      "18/18 [==============================] - 1s 37ms/step - loss: 0.6521 - accuracy: 0.7741 - val_loss: 0.0368 - val_accuracy: 0.9857\n",
      "Epoch 3/30\n",
      "18/18 [==============================] - 1s 38ms/step - loss: 0.4998 - accuracy: 0.8295 - val_loss: 0.0293 - val_accuracy: 0.9929\n",
      "Epoch 4/30\n",
      "18/18 [==============================] - 1s 40ms/step - loss: 0.4512 - accuracy: 0.8402 - val_loss: 0.0355 - val_accuracy: 0.9964\n",
      "Epoch 5/30\n",
      "18/18 [==============================] - 1s 35ms/step - loss: 0.3991 - accuracy: 0.8647 - val_loss: 0.0399 - val_accuracy: 0.9929\n",
      "Epoch 6/30\n",
      "18/18 [==============================] - 1s 37ms/step - loss: 0.3496 - accuracy: 0.8759 - val_loss: 0.0365 - val_accuracy: 0.9929\n",
      "Epoch 6: early stopping\n"
     ]
    },
    {
     "data": {
      "text/plain": [
       "<keras.callbacks.History at 0x14efa021e50>"
      ]
     },
     "execution_count": 64,
     "metadata": {},
     "output_type": "execute_result"
    }
   ],
   "source": [
    "early_stop = EarlyStopping(monitor='val_loss',  patience=3, verbose=1)\n",
    "# stop if loss does not improve for 3 iterations\n",
    "\n",
    "model_tanh.fit(resnet_tanh_features[:split_point], y_train[:split_point], batch_size=128, epochs=30, \n",
    "              validation_data=(resnet_tanh_features[split_point:], y_train[split_point:]), callbacks=[early_stop], verbose=1)"
   ]
  },
  {
   "cell_type": "code",
   "execution_count": 65,
   "id": "0b35afe8",
   "metadata": {},
   "outputs": [],
   "source": [
    "model_tanh.save('model_tanh.h5') # you may try load_model.ipynb to see how it's loaded (not required)"
   ]
  },
  {
   "cell_type": "code",
   "execution_count": 66,
   "id": "a17e41ee",
   "metadata": {},
   "outputs": [],
   "source": [
    "Test_prediction6 = []\n",
    "for files in os.listdir('./Data/Test_2'):\n",
    "\n",
    "    if files== 'desktop.ini':\n",
    "        pass\n",
    "    else:    \n",
    "        test_img = get_image(f'./Data/Test_2/{files}')\n",
    "        image_batch = np.expand_dims(test_img, axis=0)\n",
    "        image_batch = np.copy(image_batch)\n",
    "        image_batch = resnet50.preprocess_input(image_batch)\n",
    "        feature_input = resnet_tanh_model.predict(image_batch)\n",
    "        predictions = model_tanh.predict(feature_input)\n",
    "        pos = np.argmax(predictions)\n",
    "        Test_prediction6.append(pos)\n"
   ]
  },
  {
   "cell_type": "code",
   "execution_count": 68,
   "id": "763a4fc8",
   "metadata": {},
   "outputs": [
    {
     "name": "stdout",
     "output_type": "stream",
     "text": [
      "Test accuracy:  0.675\n"
     ]
    }
   ],
   "source": [
    "y_test = pd.read_excel(r'./Data/test_2_label.xlsx',usecols=[1,1])\n",
    "y_test = y_test.to_numpy()\n",
    "y_test = np.squeeze(y_test)\n",
    "test_acc = (Test_prediction6 == y_test).mean()\n",
    "print('Test accuracy: ', test_acc)"
   ]
  },
  {
   "cell_type": "markdown",
   "id": "b50a858b",
   "metadata": {},
   "source": [
    "### Resnet with RELU"
   ]
  },
  {
   "cell_type": "code",
   "execution_count": 69,
   "id": "1e5e8b98",
   "metadata": {},
   "outputs": [
    {
     "name": "stdout",
     "output_type": "stream",
     "text": [
      "40/40 [==============================] - 189s 5s/step\n",
      "(2520, 7, 7, 2048)\n"
     ]
    }
   ],
   "source": [
    "from tensorflow.keras.applications import resnet50\n",
    "resnet_relu_x_train = resnet50.preprocess_input(x_train.copy())\n",
    "resnet_relu_model = resnet50.ResNet50(weights='imagenet', include_top=False)\n",
    "resnet_relu_features = resnet_relu_model.predict(resnet_relu_x_train, batch_size=64, verbose=1)\n",
    "print(resnet_relu_features.shape)\n"
   ]
  },
  {
   "cell_type": "code",
   "execution_count": 70,
   "id": "c78e56e3",
   "metadata": {},
   "outputs": [
    {
     "name": "stdout",
     "output_type": "stream",
     "text": [
      "(None, 2048)\n",
      "(None, 7)\n"
     ]
    }
   ],
   "source": [
    "inputs = Input(shape = (7, 7, 2048)) # to take 7 x 7 x 2048 images\n",
    "x = GlobalAveragePooling2D()(inputs) # to convert to 2048 feagures\n",
    "print(x.shape)\n",
    "x = Dropout(0.5)(x) # add a dropout layer\n",
    "x = Dense(500)(x) # add a dense layer, but not adding activation so that we can add batch-norm first\n",
    "x = BatchNormalization()(x)\n",
    "x = Activation(\"relu\")(x)\n",
    "x = Dropout(0.5)(x) # add a dropout layer\n",
    "# Softmax layer to the output classes\n",
    "predictions = Dense(num_classes, activation='softmax')(x) # arg1 is: units = dimensionality of the output space.\n",
    "print(predictions.shape)"
   ]
  },
  {
   "cell_type": "code",
   "execution_count": 71,
   "id": "70d2d224",
   "metadata": {},
   "outputs": [
    {
     "name": "stdout",
     "output_type": "stream",
     "text": [
      "Model: \"model_6\"\n",
      "_________________________________________________________________\n",
      " Layer (type)                Output Shape              Param #   \n",
      "=================================================================\n",
      " input_16 (InputLayer)       [(None, 7, 7, 2048)]      0         \n",
      "                                                                 \n",
      " global_average_pooling2d_6   (None, 2048)             0         \n",
      " (GlobalAveragePooling2D)                                        \n",
      "                                                                 \n",
      " dropout_12 (Dropout)        (None, 2048)              0         \n",
      "                                                                 \n",
      " dense_12 (Dense)            (None, 500)               1024500   \n",
      "                                                                 \n",
      " batch_normalization_104 (Ba  (None, 500)              2000      \n",
      " tchNormalization)                                               \n",
      "                                                                 \n",
      " activation_100 (Activation)  (None, 500)              0         \n",
      "                                                                 \n",
      " dropout_13 (Dropout)        (None, 500)               0         \n",
      "                                                                 \n",
      " dense_13 (Dense)            (None, 7)                 3507      \n",
      "                                                                 \n",
      "=================================================================\n",
      "Total params: 1,030,007\n",
      "Trainable params: 1,029,007\n",
      "Non-trainable params: 1,000\n",
      "_________________________________________________________________\n"
     ]
    }
   ],
   "source": [
    "model_relu = Model(inputs=inputs, outputs=predictions) # specify what is network input, and what is network output\n",
    "model_relu.summary()\n"
   ]
  },
  {
   "cell_type": "code",
   "execution_count": 72,
   "id": "9f239478",
   "metadata": {},
   "outputs": [],
   "source": [
    "model_relu.compile(loss='categorical_crossentropy', optimizer=\"adam\", metrics=['accuracy'])"
   ]
  },
  {
   "cell_type": "code",
   "execution_count": 73,
   "id": "d3173767",
   "metadata": {},
   "outputs": [
    {
     "name": "stdout",
     "output_type": "stream",
     "text": [
      "Epoch 1/30\n",
      "18/18 [==============================] - 2s 45ms/step - loss: 1.3583 - accuracy: 0.5277 - val_loss: 1.4639 - val_accuracy: 0.5143\n",
      "Epoch 2/30\n",
      "18/18 [==============================] - 1s 34ms/step - loss: 0.7015 - accuracy: 0.7473 - val_loss: 0.1959 - val_accuracy: 0.9464\n",
      "Epoch 3/30\n",
      "18/18 [==============================] - 1s 34ms/step - loss: 0.5539 - accuracy: 0.8094 - val_loss: 0.0961 - val_accuracy: 0.9607\n",
      "Epoch 4/30\n",
      "18/18 [==============================] - 1s 34ms/step - loss: 0.4642 - accuracy: 0.8384 - val_loss: 0.0702 - val_accuracy: 0.9750\n",
      "Epoch 5/30\n",
      "18/18 [==============================] - 1s 35ms/step - loss: 0.4168 - accuracy: 0.8522 - val_loss: 0.0468 - val_accuracy: 0.9857\n",
      "Epoch 6/30\n",
      "18/18 [==============================] - 1s 35ms/step - loss: 0.3980 - accuracy: 0.8594 - val_loss: 0.0325 - val_accuracy: 0.9929\n",
      "Epoch 7/30\n",
      "18/18 [==============================] - 1s 44ms/step - loss: 0.3788 - accuracy: 0.8746 - val_loss: 0.0398 - val_accuracy: 0.9929\n",
      "Epoch 8/30\n",
      "18/18 [==============================] - 1s 31ms/step - loss: 0.3312 - accuracy: 0.8853 - val_loss: 0.0390 - val_accuracy: 0.9929\n",
      "Epoch 9/30\n",
      "18/18 [==============================] - 1s 31ms/step - loss: 0.3226 - accuracy: 0.8871 - val_loss: 0.0428 - val_accuracy: 0.9929\n",
      "Epoch 9: early stopping\n"
     ]
    },
    {
     "data": {
      "text/plain": [
       "<keras.callbacks.History at 0x1500313c430>"
      ]
     },
     "execution_count": 73,
     "metadata": {},
     "output_type": "execute_result"
    }
   ],
   "source": [
    "early_stop = EarlyStopping(monitor='val_loss',  patience=3, verbose=1)\n",
    "# stop if loss does not improve for 3 iterations\n",
    "\n",
    "model_relu.fit(resnet_relu_features[:split_point], y_train[:split_point], batch_size=128, epochs=30, \n",
    "              validation_data=(resnet_relu_features[split_point:], y_train[split_point:]), callbacks=[early_stop], verbose=1)\n"
   ]
  },
  {
   "cell_type": "code",
   "execution_count": 74,
   "id": "e0ffbfba",
   "metadata": {},
   "outputs": [],
   "source": [
    "model_relu.save('model_soft.h5') # you may try load_model.ipynb to see how it's loaded (not required)"
   ]
  },
  {
   "cell_type": "code",
   "execution_count": 75,
   "id": "d9a1fad8",
   "metadata": {},
   "outputs": [],
   "source": [
    "Test_prediction9 = []\n",
    "for files in os.listdir('./Data/Test_2'):\n",
    "\n",
    "    if files== 'desktop.ini':\n",
    "        pass\n",
    "    else:    \n",
    "        test_img = get_image(f'./Data/Test_2/{files}')\n",
    "        image_batch = np.expand_dims(test_img, axis=0)\n",
    "        image_batch = np.copy(image_batch)\n",
    "        image_batch = resnet50.preprocess_input(image_batch)\n",
    "        feature_input = resnet_relu_model.predict(image_batch)\n",
    "        predictions = model_relu.predict(feature_input)\n",
    "        pos = np.argmax(predictions)\n",
    "        Test_prediction9.append(pos)\n"
   ]
  },
  {
   "cell_type": "code",
   "execution_count": 76,
   "id": "05219d3b",
   "metadata": {},
   "outputs": [
    {
     "name": "stdout",
     "output_type": "stream",
     "text": [
      "Test accuracy:  0.6821428571428572\n"
     ]
    }
   ],
   "source": [
    "test_acc = (Test_prediction9 == y_test).mean()\n",
    "print('Test accuracy: ', test_acc)\n"
   ]
  },
  {
   "cell_type": "markdown",
   "id": "f2ab49f7",
   "metadata": {},
   "source": [
    "### Resnet with softmax"
   ]
  },
  {
   "cell_type": "code",
   "execution_count": 77,
   "id": "3d2abbf5",
   "metadata": {},
   "outputs": [
    {
     "name": "stdout",
     "output_type": "stream",
     "text": [
      "40/40 [==============================] - 182s 5s/step\n",
      "(2520, 7, 7, 2048)\n"
     ]
    }
   ],
   "source": [
    "from tensorflow.keras.applications import resnet50\n",
    "resnet_soft_x_train = resnet50.preprocess_input(x_train.copy())\n",
    "resnet_soft_model = resnet50.ResNet50(weights='imagenet', include_top=False)\n",
    "resnet_soft_features = resnet_soft_model.predict(resnet_soft_x_train, batch_size=64, verbose=1)\n",
    "print(resnet_soft_features.shape)"
   ]
  },
  {
   "cell_type": "code",
   "execution_count": 78,
   "id": "ca6ef4e9",
   "metadata": {},
   "outputs": [
    {
     "name": "stdout",
     "output_type": "stream",
     "text": [
      "(None, 2048)\n",
      "(None, 7)\n"
     ]
    }
   ],
   "source": [
    "inputs = Input(shape = (7, 7, 2048)) # to take 7 x 7 x 2048 images\n",
    "x = GlobalAveragePooling2D()(inputs) # to convert to 2048 feagures\n",
    "print(x.shape)\n",
    "x = Dropout(0.5)(x) # add a dropout layer\n",
    "x = Dense(500)(x) # add a dense layer, but not adding activation so that we can add batch-norm first\n",
    "x = BatchNormalization()(x)\n",
    "x = Activation(\"softmax\")(x)\n",
    "x = Dropout(0.5)(x) # add a dropout layer\n",
    "# Softmax layer to the output classes\n",
    "predictions = Dense(num_classes, activation='softmax')(x) # arg1 is: units = dimensionality of the output space.\n",
    "print(predictions.shape)"
   ]
  },
  {
   "cell_type": "code",
   "execution_count": 79,
   "id": "b65856f4",
   "metadata": {},
   "outputs": [
    {
     "name": "stdout",
     "output_type": "stream",
     "text": [
      "Model: \"model_7\"\n",
      "_________________________________________________________________\n",
      " Layer (type)                Output Shape              Param #   \n",
      "=================================================================\n",
      " input_18 (InputLayer)       [(None, 7, 7, 2048)]      0         \n",
      "                                                                 \n",
      " global_average_pooling2d_7   (None, 2048)             0         \n",
      " (GlobalAveragePooling2D)                                        \n",
      "                                                                 \n",
      " dropout_14 (Dropout)        (None, 2048)              0         \n",
      "                                                                 \n",
      " dense_14 (Dense)            (None, 500)               1024500   \n",
      "                                                                 \n",
      " batch_normalization_105 (Ba  (None, 500)              2000      \n",
      " tchNormalization)                                               \n",
      "                                                                 \n",
      " activation_101 (Activation)  (None, 500)              0         \n",
      "                                                                 \n",
      " dropout_15 (Dropout)        (None, 500)               0         \n",
      "                                                                 \n",
      " dense_15 (Dense)            (None, 7)                 3507      \n",
      "                                                                 \n",
      "=================================================================\n",
      "Total params: 1,030,007\n",
      "Trainable params: 1,029,007\n",
      "Non-trainable params: 1,000\n",
      "_________________________________________________________________\n"
     ]
    }
   ],
   "source": [
    "model_soft = Model(inputs=inputs, outputs=predictions) # specify what is network input, and what is network output\n",
    "model_soft.summary()"
   ]
  },
  {
   "cell_type": "code",
   "execution_count": 80,
   "id": "13a3cfdf",
   "metadata": {},
   "outputs": [],
   "source": [
    "model_soft.compile(loss='categorical_crossentropy', optimizer=\"adam\", metrics=['accuracy'])"
   ]
  },
  {
   "cell_type": "code",
   "execution_count": 81,
   "id": "481e3a3f",
   "metadata": {},
   "outputs": [
    {
     "name": "stdout",
     "output_type": "stream",
     "text": [
      "Epoch 1/30\n",
      "18/18 [==============================] - 2s 53ms/step - loss: 1.9338 - accuracy: 0.4121 - val_loss: 1.9603 - val_accuracy: 0.0000e+00\n",
      "Epoch 2/30\n",
      "18/18 [==============================] - 1s 37ms/step - loss: 1.9139 - accuracy: 0.5884 - val_loss: 1.9857 - val_accuracy: 0.0000e+00\n",
      "Epoch 3/30\n",
      "18/18 [==============================] - 1s 37ms/step - loss: 1.8978 - accuracy: 0.6643 - val_loss: 2.0097 - val_accuracy: 0.0000e+00\n",
      "Epoch 4/30\n",
      "18/18 [==============================] - 1s 36ms/step - loss: 1.8822 - accuracy: 0.7272 - val_loss: 2.0332 - val_accuracy: 0.0000e+00\n",
      "Epoch 4: early stopping\n"
     ]
    },
    {
     "data": {
      "text/plain": [
       "<keras.callbacks.History at 0x150089612b0>"
      ]
     },
     "execution_count": 81,
     "metadata": {},
     "output_type": "execute_result"
    }
   ],
   "source": [
    "early_stop = EarlyStopping(monitor='val_loss',  patience=3, verbose=1)\n",
    "# stop if loss does not improve for 3 iterations\n",
    "\n",
    "model_soft.fit(resnet_soft_features[:split_point], y_train[:split_point], batch_size=128, epochs=30, \n",
    "              validation_data=(resnet_soft_features[split_point:], y_train[split_point:]), callbacks=[early_stop], verbose=1)"
   ]
  },
  {
   "cell_type": "code",
   "execution_count": 82,
   "id": "99bcdbca",
   "metadata": {},
   "outputs": [],
   "source": [
    "model_soft.save('model_soft.h5') # you may try load_model.ipynb to see how it's loaded (not required)"
   ]
  },
  {
   "cell_type": "code",
   "execution_count": 83,
   "id": "3d7dc343",
   "metadata": {},
   "outputs": [],
   "source": [
    "Test_prediction6 = []\n",
    "for files in os.listdir('./Data/Test_2'):\n",
    "\n",
    "    if files== 'desktop.ini':\n",
    "        pass\n",
    "    else:    \n",
    "        test_img = get_image(f'./Data/Test_2/{files}')\n",
    "        image_batch = np.expand_dims(test_img, axis=0)\n",
    "        image_batch = np.copy(image_batch)\n",
    "        image_batch = resnet50.preprocess_input(image_batch)\n",
    "        feature_input = resnet_soft_model.predict(image_batch)\n",
    "        predictions = model_soft.predict(feature_input)\n",
    "        pos = np.argmax(predictions)\n",
    "        Test_prediction6.append(pos)\n"
   ]
  },
  {
   "cell_type": "code",
   "execution_count": 84,
   "id": "3663ab2c",
   "metadata": {},
   "outputs": [
    {
     "name": "stdout",
     "output_type": "stream",
     "text": [
      "Test accuracy:  0.41785714285714287\n"
     ]
    }
   ],
   "source": [
    "test_acc = (Test_prediction6 == y_test).mean()\n",
    "print('Test accuracy: ', test_acc)"
   ]
  },
  {
   "cell_type": "markdown",
   "id": "cfc8d757",
   "metadata": {},
   "source": [
    "### Resnet with elu"
   ]
  },
  {
   "cell_type": "code",
   "execution_count": 85,
   "id": "8bc30dde",
   "metadata": {},
   "outputs": [
    {
     "name": "stdout",
     "output_type": "stream",
     "text": [
      "40/40 [==============================] - 182s 4s/step\n",
      "(2520, 7, 7, 2048)\n"
     ]
    }
   ],
   "source": [
    "from tensorflow.keras.applications import resnet50\n",
    "resnet_elu_x_train = resnet50.preprocess_input(x_train.copy())\n",
    "resnet_elu_model = resnet50.ResNet50(weights='imagenet', include_top=False)\n",
    "resnet_elu_features = resnet_elu_model.predict(resnet_elu_x_train, batch_size=64, verbose=1)\n",
    "print(resnet_elu_features.shape)\n"
   ]
  },
  {
   "cell_type": "code",
   "execution_count": 86,
   "id": "57b60e32",
   "metadata": {},
   "outputs": [
    {
     "name": "stdout",
     "output_type": "stream",
     "text": [
      "(None, 2048)\n",
      "(None, 7)\n"
     ]
    }
   ],
   "source": [
    "inputs = Input(shape = (7, 7, 2048)) # to take 7 x 7 x 2048 images\n",
    "x = GlobalAveragePooling2D()(inputs) # to convert to 2048 feagures\n",
    "print(x.shape)\n",
    "x = Dropout(0.5)(x) # add a dropout layer\n",
    "x = Dense(500)(x) # add a dense layer, but not adding activation so that we can add batch-norm first\n",
    "x = BatchNormalization()(x)\n",
    "x = Activation(\"elu\")(x)\n",
    "x = Dropout(0.5)(x) # add a dropout layer\n",
    "# Softmax layer to the output classes\n",
    "predictions = Dense(num_classes, activation='softmax')(x) # arg1 is: units = dimensionality of the output space.\n",
    "print(predictions.shape)\n"
   ]
  },
  {
   "cell_type": "code",
   "execution_count": 87,
   "id": "6ef81ab4",
   "metadata": {},
   "outputs": [
    {
     "name": "stdout",
     "output_type": "stream",
     "text": [
      "Model: \"model_8\"\n",
      "_________________________________________________________________\n",
      " Layer (type)                Output Shape              Param #   \n",
      "=================================================================\n",
      " input_20 (InputLayer)       [(None, 7, 7, 2048)]      0         \n",
      "                                                                 \n",
      " global_average_pooling2d_8   (None, 2048)             0         \n",
      " (GlobalAveragePooling2D)                                        \n",
      "                                                                 \n",
      " dropout_16 (Dropout)        (None, 2048)              0         \n",
      "                                                                 \n",
      " dense_16 (Dense)            (None, 500)               1024500   \n",
      "                                                                 \n",
      " batch_normalization_106 (Ba  (None, 500)              2000      \n",
      " tchNormalization)                                               \n",
      "                                                                 \n",
      " activation_102 (Activation)  (None, 500)              0         \n",
      "                                                                 \n",
      " dropout_17 (Dropout)        (None, 500)               0         \n",
      "                                                                 \n",
      " dense_17 (Dense)            (None, 7)                 3507      \n",
      "                                                                 \n",
      "=================================================================\n",
      "Total params: 1,030,007\n",
      "Trainable params: 1,029,007\n",
      "Non-trainable params: 1,000\n",
      "_________________________________________________________________\n"
     ]
    }
   ],
   "source": [
    "model_elu = Model(inputs=inputs, outputs=predictions) # specify what is network input, and what is network output\n",
    "model_elu.summary()\n"
   ]
  },
  {
   "cell_type": "code",
   "execution_count": 88,
   "id": "cfe8e0c1",
   "metadata": {},
   "outputs": [],
   "source": [
    "model_elu.compile(loss='categorical_crossentropy', optimizer=\"adam\", metrics=['accuracy'])"
   ]
  },
  {
   "cell_type": "code",
   "execution_count": 89,
   "id": "e5267af2",
   "metadata": {},
   "outputs": [
    {
     "name": "stdout",
     "output_type": "stream",
     "text": [
      "Epoch 1/30\n",
      "18/18 [==============================] - 2s 46ms/step - loss: 1.3365 - accuracy: 0.5603 - val_loss: 0.8229 - val_accuracy: 0.7250\n",
      "Epoch 2/30\n",
      "18/18 [==============================] - 1s 34ms/step - loss: 0.6598 - accuracy: 0.7839 - val_loss: 0.0966 - val_accuracy: 0.9536\n",
      "Epoch 3/30\n",
      "18/18 [==============================] - 1s 36ms/step - loss: 0.5395 - accuracy: 0.8129 - val_loss: 0.0178 - val_accuracy: 0.9964\n",
      "Epoch 4/30\n",
      "18/18 [==============================] - 1s 35ms/step - loss: 0.4257 - accuracy: 0.8504 - val_loss: 0.0272 - val_accuracy: 0.9964\n",
      "Epoch 5/30\n",
      "18/18 [==============================] - 1s 36ms/step - loss: 0.4209 - accuracy: 0.8549 - val_loss: 0.0268 - val_accuracy: 0.9929\n",
      "Epoch 6/30\n",
      "18/18 [==============================] - 1s 38ms/step - loss: 0.3866 - accuracy: 0.8665 - val_loss: 0.0273 - val_accuracy: 0.9929\n",
      "Epoch 6: early stopping\n"
     ]
    },
    {
     "data": {
      "text/plain": [
       "<keras.callbacks.History at 0x150aca65ac0>"
      ]
     },
     "execution_count": 89,
     "metadata": {},
     "output_type": "execute_result"
    }
   ],
   "source": [
    "early_stop = EarlyStopping(monitor='val_loss',  patience=3, verbose=1)\n",
    "# stop if loss does not improve for 3 iterations\n",
    "\n",
    "model_elu.fit(resnet_elu_features[:split_point], y_train[:split_point], batch_size=128, epochs=30, \n",
    "              validation_data=(resnet_elu_features[split_point:], y_train[split_point:]), callbacks=[early_stop], verbose=1)\n"
   ]
  },
  {
   "cell_type": "code",
   "execution_count": 90,
   "id": "d1cf9876",
   "metadata": {},
   "outputs": [],
   "source": [
    "model_elu.save('model_elu.h5') # you may try load_model.ipynb to see how it's loaded (not required)"
   ]
  },
  {
   "cell_type": "code",
   "execution_count": 91,
   "id": "8864f6ce",
   "metadata": {},
   "outputs": [],
   "source": [
    "Test_prediction6 = []\n",
    "for files in os.listdir('./Data/Test_2'):\n",
    "\n",
    "    if files== 'desktop.ini':\n",
    "        pass\n",
    "    else:    \n",
    "        test_img = get_image(f'./Data/Test_2/{files}')\n",
    "        image_batch = np.expand_dims(test_img, axis=0)\n",
    "        image_batch = np.copy(image_batch)\n",
    "        image_batch = resnet50.preprocess_input(image_batch)\n",
    "        feature_input = resnet_elu_model.predict(image_batch)\n",
    "        predictions = model_elu.predict(feature_input)\n",
    "        pos = np.argmax(predictions)\n",
    "        Test_prediction6.append(pos)\n"
   ]
  },
  {
   "cell_type": "code",
   "execution_count": 92,
   "id": "131440a7",
   "metadata": {},
   "outputs": [
    {
     "name": "stdout",
     "output_type": "stream",
     "text": [
      "Test accuracy:  0.6642857142857143\n"
     ]
    }
   ],
   "source": [
    "test_acc = (Test_prediction6 == y_test).mean()\n",
    "print('Test accuracy: ', test_acc)\n"
   ]
  },
  {
   "cell_type": "markdown",
   "id": "73a58f57",
   "metadata": {},
   "source": [
    "### Resnet with exponential"
   ]
  },
  {
   "cell_type": "code",
   "execution_count": 93,
   "id": "50bee9da",
   "metadata": {},
   "outputs": [
    {
     "name": "stdout",
     "output_type": "stream",
     "text": [
      "40/40 [==============================] - 181s 4s/step\n",
      "(2520, 7, 7, 2048)\n"
     ]
    }
   ],
   "source": [
    "from tensorflow.keras.applications import resnet50\n",
    "resnet_expo_x_train = resnet50.preprocess_input(x_train.copy())\n",
    "resnet_expo_model = resnet50.ResNet50(weights='imagenet', include_top=False)\n",
    "resnet_expo_features = resnet_expo_model.predict(resnet_expo_x_train, batch_size=64, verbose=1)\n",
    "print(resnet_expo_features.shape)\n"
   ]
  },
  {
   "cell_type": "code",
   "execution_count": 94,
   "id": "8dac333d",
   "metadata": {},
   "outputs": [
    {
     "name": "stdout",
     "output_type": "stream",
     "text": [
      "(None, 2048)\n",
      "(None, 7)\n"
     ]
    }
   ],
   "source": [
    "inputs = Input(shape = (7, 7, 2048)) # to take 7 x 7 x 2048 images\n",
    "x = GlobalAveragePooling2D()(inputs) # to convert to 2048 feagures\n",
    "print(x.shape)\n",
    "x = Dropout(0.5)(x) # add a dropout layer\n",
    "x = Dense(500)(x) # add a dense layer, but not adding activation so that we can add batch-norm first\n",
    "x = BatchNormalization()(x)\n",
    "x = Activation(\"exponential\")(x)\n",
    "x = Dropout(0.5)(x) # add a dropout layer\n",
    "# Softmax layer to the output classes\n",
    "predictions = Dense(num_classes, activation='softmax')(x) # arg1 is: units = dimensionality of the output space.\n",
    "print(predictions.shape)"
   ]
  },
  {
   "cell_type": "code",
   "execution_count": 95,
   "id": "afbe03e6",
   "metadata": {},
   "outputs": [
    {
     "name": "stdout",
     "output_type": "stream",
     "text": [
      "Model: \"model_9\"\n",
      "_________________________________________________________________\n",
      " Layer (type)                Output Shape              Param #   \n",
      "=================================================================\n",
      " input_22 (InputLayer)       [(None, 7, 7, 2048)]      0         \n",
      "                                                                 \n",
      " global_average_pooling2d_9   (None, 2048)             0         \n",
      " (GlobalAveragePooling2D)                                        \n",
      "                                                                 \n",
      " dropout_18 (Dropout)        (None, 2048)              0         \n",
      "                                                                 \n",
      " dense_18 (Dense)            (None, 500)               1024500   \n",
      "                                                                 \n",
      " batch_normalization_107 (Ba  (None, 500)              2000      \n",
      " tchNormalization)                                               \n",
      "                                                                 \n",
      " activation_103 (Activation)  (None, 500)              0         \n",
      "                                                                 \n",
      " dropout_19 (Dropout)        (None, 500)               0         \n",
      "                                                                 \n",
      " dense_19 (Dense)            (None, 7)                 3507      \n",
      "                                                                 \n",
      "=================================================================\n",
      "Total params: 1,030,007\n",
      "Trainable params: 1,029,007\n",
      "Non-trainable params: 1,000\n",
      "_________________________________________________________________\n"
     ]
    }
   ],
   "source": [
    "model_expo = Model(inputs=inputs, outputs=predictions) # specify what is network input, and what is network output\n",
    "model_expo.summary()\n"
   ]
  },
  {
   "cell_type": "code",
   "execution_count": 96,
   "id": "0846c6d5",
   "metadata": {},
   "outputs": [],
   "source": [
    "model_expo.compile(loss='categorical_crossentropy', optimizer=\"adam\", metrics=['accuracy'])"
   ]
  },
  {
   "cell_type": "code",
   "execution_count": 97,
   "id": "813a0b76",
   "metadata": {},
   "outputs": [
    {
     "name": "stdout",
     "output_type": "stream",
     "text": [
      "Epoch 1/30\n",
      "18/18 [==============================] - 1s 46ms/step - loss: 3.4464 - accuracy: 0.4652 - val_loss: 2.3774 - val_accuracy: 0.7179\n",
      "Epoch 2/30\n",
      "18/18 [==============================] - 1s 34ms/step - loss: 1.6544 - accuracy: 0.6683 - val_loss: 0.6338 - val_accuracy: 0.9071\n",
      "Epoch 3/30\n",
      "18/18 [==============================] - 1s 34ms/step - loss: 1.2241 - accuracy: 0.7321 - val_loss: 0.2070 - val_accuracy: 0.9643\n",
      "Epoch 4/30\n",
      "18/18 [==============================] - 1s 35ms/step - loss: 1.0096 - accuracy: 0.7661 - val_loss: 0.1569 - val_accuracy: 0.9679\n",
      "Epoch 5/30\n",
      "18/18 [==============================] - 1s 35ms/step - loss: 0.9016 - accuracy: 0.7777 - val_loss: 0.1205 - val_accuracy: 0.9750\n",
      "Epoch 6/30\n",
      "18/18 [==============================] - 1s 35ms/step - loss: 0.8269 - accuracy: 0.7969 - val_loss: 0.1039 - val_accuracy: 0.9821\n",
      "Epoch 7/30\n",
      "18/18 [==============================] - 1s 38ms/step - loss: 0.7586 - accuracy: 0.8085 - val_loss: 0.0920 - val_accuracy: 0.9821\n",
      "Epoch 8/30\n",
      "18/18 [==============================] - 1s 36ms/step - loss: 0.7239 - accuracy: 0.8107 - val_loss: 0.0704 - val_accuracy: 0.9929\n",
      "Epoch 9/30\n",
      "18/18 [==============================] - 1s 36ms/step - loss: 0.6311 - accuracy: 0.8259 - val_loss: 0.0810 - val_accuracy: 0.9929\n",
      "Epoch 10/30\n",
      "18/18 [==============================] - 1s 39ms/step - loss: 0.5608 - accuracy: 0.8446 - val_loss: 0.0884 - val_accuracy: 0.9929\n",
      "Epoch 11/30\n",
      "18/18 [==============================] - 1s 35ms/step - loss: 0.5562 - accuracy: 0.8469 - val_loss: 0.0731 - val_accuracy: 0.9929\n",
      "Epoch 11: early stopping\n"
     ]
    },
    {
     "data": {
      "text/plain": [
       "<keras.callbacks.History at 0x1500338ca30>"
      ]
     },
     "execution_count": 97,
     "metadata": {},
     "output_type": "execute_result"
    }
   ],
   "source": [
    "early_stop = EarlyStopping(monitor='val_loss',  patience=3, verbose=1)\n",
    "# stop if loss does not improve for 3 iterations\n",
    "\n",
    "model_expo.fit(resnet_expo_features[:split_point], y_train[:split_point], batch_size=128, epochs=30, \n",
    "              validation_data=(resnet_expo_features[split_point:], y_train[split_point:]), callbacks=[early_stop], verbose=1)\n"
   ]
  },
  {
   "cell_type": "code",
   "execution_count": 98,
   "id": "f8176ce6",
   "metadata": {},
   "outputs": [],
   "source": [
    "model_expo.save('model_expo.h5') # you may try load_model.ipynb to see how it's loaded (not required)"
   ]
  },
  {
   "cell_type": "code",
   "execution_count": 99,
   "id": "fb6de73d",
   "metadata": {},
   "outputs": [],
   "source": [
    "Test_prediction7 = []\n",
    "for files in os.listdir('./Data/Test_2'):\n",
    "\n",
    "    if files== 'desktop.ini':\n",
    "        pass\n",
    "    else:    \n",
    "        test_img = get_image(f'./Data/Test_2/{files}')\n",
    "        image_batch = np.expand_dims(test_img, axis=0)\n",
    "        image_batch = np.copy(image_batch)\n",
    "        image_batch = resnet50.preprocess_input(image_batch)\n",
    "        feature_input = resnet_expo_model.predict(image_batch)\n",
    "        predictions = model_expo.predict(feature_input)\n",
    "        pos = np.argmax(predictions)\n",
    "        Test_prediction7.append(pos)\n"
   ]
  },
  {
   "cell_type": "code",
   "execution_count": 100,
   "id": "eb43a89b",
   "metadata": {},
   "outputs": [
    {
     "name": "stdout",
     "output_type": "stream",
     "text": [
      "Test accuracy:  0.7\n"
     ]
    }
   ],
   "source": [
    "test_acc = (Test_prediction7 == y_test).mean()\n",
    "print('Test accuracy: ', test_acc)\n"
   ]
  },
  {
   "cell_type": "markdown",
   "id": "3440bfad",
   "metadata": {},
   "source": [
    "### Using SGD"
   ]
  },
  {
   "cell_type": "code",
   "execution_count": 101,
   "id": "da998eda",
   "metadata": {},
   "outputs": [
    {
     "name": "stdout",
     "output_type": "stream",
     "text": [
      "40/40 [==============================] - 179s 4s/step\n",
      "(2520, 7, 7, 2048)\n"
     ]
    }
   ],
   "source": [
    "from tensorflow.keras.applications import resnet50\n",
    "resnet_sgd_x_train = resnet50.preprocess_input(x_train.copy())\n",
    "resnet_sgd_model = resnet50.ResNet50(weights='imagenet', include_top=False)\n",
    "resnet_sgd_features = resnet_sgd_model.predict(resnet_sgd_x_train, batch_size=64, verbose=1)\n",
    "print(resnet_sgd_features.shape)\n"
   ]
  },
  {
   "cell_type": "code",
   "execution_count": 102,
   "id": "72df2261",
   "metadata": {},
   "outputs": [
    {
     "name": "stdout",
     "output_type": "stream",
     "text": [
      "(None, 2048)\n",
      "(None, 7)\n"
     ]
    }
   ],
   "source": [
    "inputs = Input(shape = (7, 7, 2048)) # to take 7 x 7 x 2048 images\n",
    "x = GlobalAveragePooling2D()(inputs) # to convert to 2048 feagures\n",
    "print(x.shape)\n",
    "x = Dropout(0.5)(x) # add a dropout layer\n",
    "x = Dense(500)(x) # add a dense layer, but not adding activation so that we can add batch-norm first\n",
    "x = BatchNormalization()(x)\n",
    "x = Activation(\"relu\")(x)\n",
    "x = Dropout(0.5)(x) # add a dropout layer\n",
    "# Softmax layer to the output classes\n",
    "predictions = Dense(num_classes, activation='softmax')(x) # arg1 is: units = dimensionality of the output space.\n",
    "print(predictions.shape)"
   ]
  },
  {
   "cell_type": "code",
   "execution_count": 103,
   "id": "f4270e45",
   "metadata": {},
   "outputs": [
    {
     "name": "stdout",
     "output_type": "stream",
     "text": [
      "Model: \"model_10\"\n",
      "_________________________________________________________________\n",
      " Layer (type)                Output Shape              Param #   \n",
      "=================================================================\n",
      " input_24 (InputLayer)       [(None, 7, 7, 2048)]      0         \n",
      "                                                                 \n",
      " global_average_pooling2d_10  (None, 2048)             0         \n",
      "  (GlobalAveragePooling2D)                                       \n",
      "                                                                 \n",
      " dropout_20 (Dropout)        (None, 2048)              0         \n",
      "                                                                 \n",
      " dense_20 (Dense)            (None, 500)               1024500   \n",
      "                                                                 \n",
      " batch_normalization_108 (Ba  (None, 500)              2000      \n",
      " tchNormalization)                                               \n",
      "                                                                 \n",
      " activation_104 (Activation)  (None, 500)              0         \n",
      "                                                                 \n",
      " dropout_21 (Dropout)        (None, 500)               0         \n",
      "                                                                 \n",
      " dense_21 (Dense)            (None, 7)                 3507      \n",
      "                                                                 \n",
      "=================================================================\n",
      "Total params: 1,030,007\n",
      "Trainable params: 1,029,007\n",
      "Non-trainable params: 1,000\n",
      "_________________________________________________________________\n"
     ]
    }
   ],
   "source": [
    "model_sgd = Model(inputs=inputs, outputs=predictions) # specify what is network input, and what is network output\n",
    "model_sgd.summary()\n"
   ]
  },
  {
   "cell_type": "code",
   "execution_count": 104,
   "id": "cc7fae46",
   "metadata": {},
   "outputs": [],
   "source": [
    "model_sgd.compile(loss='categorical_crossentropy', optimizer=\"sgd\", metrics=['accuracy'])\n"
   ]
  },
  {
   "cell_type": "code",
   "execution_count": 105,
   "id": "bc39e3df",
   "metadata": {},
   "outputs": [
    {
     "name": "stdout",
     "output_type": "stream",
     "text": [
      "Epoch 1/30\n",
      "18/18 [==============================] - 2s 81ms/step - loss: 2.2366 - accuracy: 0.2179 - val_loss: 3.3527 - val_accuracy: 0.0000e+00\n",
      "Epoch 2/30\n",
      "18/18 [==============================] - 1s 30ms/step - loss: 1.8708 - accuracy: 0.3259 - val_loss: 3.0075 - val_accuracy: 0.0000e+00\n",
      "Epoch 3/30\n",
      "18/18 [==============================] - 1s 31ms/step - loss: 1.6175 - accuracy: 0.4054 - val_loss: 2.6012 - val_accuracy: 0.0000e+00\n",
      "Epoch 4/30\n",
      "18/18 [==============================] - 1s 31ms/step - loss: 1.4398 - accuracy: 0.4665 - val_loss: 2.0642 - val_accuracy: 0.0857\n",
      "Epoch 5/30\n",
      "18/18 [==============================] - 1s 35ms/step - loss: 1.4074 - accuracy: 0.4812 - val_loss: 1.8881 - val_accuracy: 0.1571\n",
      "Epoch 6/30\n",
      "18/18 [==============================] - 1s 32ms/step - loss: 1.3162 - accuracy: 0.5147 - val_loss: 1.5696 - val_accuracy: 0.3714\n",
      "Epoch 7/30\n",
      "18/18 [==============================] - 1s 31ms/step - loss: 1.2648 - accuracy: 0.5326 - val_loss: 1.3439 - val_accuracy: 0.4429\n",
      "Epoch 8/30\n",
      "18/18 [==============================] - 1s 32ms/step - loss: 1.2142 - accuracy: 0.5549 - val_loss: 1.2265 - val_accuracy: 0.5179\n",
      "Epoch 9/30\n",
      "18/18 [==============================] - 1s 31ms/step - loss: 1.1554 - accuracy: 0.5714 - val_loss: 1.1181 - val_accuracy: 0.5857\n",
      "Epoch 10/30\n",
      "18/18 [==============================] - 1s 31ms/step - loss: 1.1290 - accuracy: 0.6045 - val_loss: 0.9979 - val_accuracy: 0.6500\n",
      "Epoch 11/30\n",
      "18/18 [==============================] - 1s 34ms/step - loss: 1.1025 - accuracy: 0.6040 - val_loss: 0.9235 - val_accuracy: 0.6964\n",
      "Epoch 12/30\n",
      "18/18 [==============================] - 1s 31ms/step - loss: 1.0891 - accuracy: 0.5978 - val_loss: 0.8897 - val_accuracy: 0.7250\n",
      "Epoch 13/30\n",
      "18/18 [==============================] - 1s 32ms/step - loss: 1.0551 - accuracy: 0.6223 - val_loss: 0.8104 - val_accuracy: 0.7536\n",
      "Epoch 14/30\n",
      "18/18 [==============================] - 1s 32ms/step - loss: 0.9973 - accuracy: 0.6317 - val_loss: 0.7621 - val_accuracy: 0.7821\n",
      "Epoch 15/30\n",
      "18/18 [==============================] - 1s 37ms/step - loss: 1.0013 - accuracy: 0.6384 - val_loss: 0.7521 - val_accuracy: 0.7786\n",
      "Epoch 16/30\n",
      "18/18 [==============================] - 1s 30ms/step - loss: 0.9801 - accuracy: 0.6438 - val_loss: 0.7089 - val_accuracy: 0.8071\n",
      "Epoch 17/30\n",
      "18/18 [==============================] - 1s 34ms/step - loss: 0.9714 - accuracy: 0.6388 - val_loss: 0.7052 - val_accuracy: 0.8143\n",
      "Epoch 18/30\n",
      "18/18 [==============================] - 1s 35ms/step - loss: 0.9307 - accuracy: 0.6540 - val_loss: 0.6482 - val_accuracy: 0.8429\n",
      "Epoch 19/30\n",
      "18/18 [==============================] - 1s 33ms/step - loss: 0.9325 - accuracy: 0.6750 - val_loss: 0.5926 - val_accuracy: 0.8643\n",
      "Epoch 20/30\n",
      "18/18 [==============================] - 1s 32ms/step - loss: 0.8835 - accuracy: 0.6670 - val_loss: 0.5669 - val_accuracy: 0.8750\n",
      "Epoch 21/30\n",
      "18/18 [==============================] - 1s 33ms/step - loss: 0.8839 - accuracy: 0.6826 - val_loss: 0.5609 - val_accuracy: 0.8750\n",
      "Epoch 22/30\n",
      "18/18 [==============================] - 1s 33ms/step - loss: 0.8991 - accuracy: 0.6737 - val_loss: 0.5336 - val_accuracy: 0.8750\n",
      "Epoch 23/30\n",
      "18/18 [==============================] - 1s 32ms/step - loss: 0.8398 - accuracy: 0.6969 - val_loss: 0.5068 - val_accuracy: 0.8750\n",
      "Epoch 24/30\n",
      "18/18 [==============================] - 1s 35ms/step - loss: 0.8739 - accuracy: 0.6812 - val_loss: 0.4960 - val_accuracy: 0.8786\n",
      "Epoch 25/30\n",
      "18/18 [==============================] - 1s 32ms/step - loss: 0.8494 - accuracy: 0.6942 - val_loss: 0.4827 - val_accuracy: 0.8786\n",
      "Epoch 26/30\n",
      "18/18 [==============================] - 1s 30ms/step - loss: 0.8540 - accuracy: 0.6839 - val_loss: 0.4705 - val_accuracy: 0.8786\n",
      "Epoch 27/30\n",
      "18/18 [==============================] - 1s 31ms/step - loss: 0.8083 - accuracy: 0.7049 - val_loss: 0.4632 - val_accuracy: 0.8857\n",
      "Epoch 28/30\n",
      "18/18 [==============================] - 1s 32ms/step - loss: 0.8185 - accuracy: 0.7000 - val_loss: 0.4222 - val_accuracy: 0.9107\n",
      "Epoch 29/30\n",
      "18/18 [==============================] - 1s 31ms/step - loss: 0.8248 - accuracy: 0.7036 - val_loss: 0.4223 - val_accuracy: 0.9107\n",
      "Epoch 30/30\n",
      "18/18 [==============================] - 0s 27ms/step - loss: 0.7848 - accuracy: 0.7129 - val_loss: 0.4122 - val_accuracy: 0.8964\n"
     ]
    },
    {
     "data": {
      "text/plain": [
       "<keras.callbacks.History at 0x1510c835d00>"
      ]
     },
     "execution_count": 105,
     "metadata": {},
     "output_type": "execute_result"
    }
   ],
   "source": [
    "early_stop = EarlyStopping(monitor='val_loss',  patience=3, verbose=1)\n",
    "# stop if loss does not improve for 3 iterations\n",
    "\n",
    "model_sgd.fit(resnet_sgd_features[:split_point], y_train[:split_point], batch_size=128, epochs=30, \n",
    "              validation_data=(resnet_sgd_features[split_point:], y_train[split_point:]), callbacks=[early_stop], verbose=1)\n"
   ]
  },
  {
   "cell_type": "code",
   "execution_count": 106,
   "id": "acb84d70",
   "metadata": {},
   "outputs": [],
   "source": [
    "\n",
    "model_sgd.save('model_sgd.h5') # you may try load_model.ipynb to see how it's loaded (not required)\n"
   ]
  },
  {
   "cell_type": "code",
   "execution_count": 107,
   "id": "d86fe0fe",
   "metadata": {},
   "outputs": [],
   "source": [
    "Test_prediction8 = []\n",
    "for files in os.listdir('./Data/Test_2'):\n",
    "\n",
    "    if files== 'desktop.ini':\n",
    "        pass\n",
    "    else:    \n",
    "        test_img = get_image(f'./Data/Test_2/{files}')\n",
    "        image_batch = np.expand_dims(test_img, axis=0)\n",
    "        image_batch = np.copy(image_batch)\n",
    "        image_batch = resnet50.preprocess_input(image_batch)\n",
    "        feature_input = resnet_sgd_model.predict(image_batch)\n",
    "        predictions = model_sgd.predict(feature_input)\n",
    "        pos = np.argmax(predictions)\n",
    "        Test_prediction8.append(pos)\n"
   ]
  },
  {
   "cell_type": "code",
   "execution_count": 108,
   "id": "beddd1ba",
   "metadata": {},
   "outputs": [
    {
     "name": "stdout",
     "output_type": "stream",
     "text": [
      "Test accuracy:  0.5821428571428572\n"
     ]
    }
   ],
   "source": [
    "test_acc = (Test_prediction8 == y_test).mean()\n",
    "print('Test accuracy: ', test_acc)\n"
   ]
  },
  {
   "cell_type": "markdown",
   "id": "0c15852e",
   "metadata": {},
   "source": [
    "### Resnet with RMS"
   ]
  },
  {
   "cell_type": "code",
   "execution_count": 109,
   "id": "1150cf35",
   "metadata": {},
   "outputs": [
    {
     "name": "stdout",
     "output_type": "stream",
     "text": [
      "40/40 [==============================] - 179s 4s/step\n",
      "(2520, 7, 7, 2048)\n"
     ]
    }
   ],
   "source": [
    "from tensorflow.keras.applications import resnet50\n",
    "resnet_rms_x_train = resnet50.preprocess_input(x_train.copy())\n",
    "resnet_rms_model = resnet50.ResNet50(weights='imagenet', include_top=False)\n",
    "resnet_rms_features = resnet_rms_model.predict(resnet_rms_x_train, batch_size=64, verbose=1)\n",
    "print(resnet_rms_features.shape)\n"
   ]
  },
  {
   "cell_type": "code",
   "execution_count": 110,
   "id": "e1da3b9c",
   "metadata": {},
   "outputs": [
    {
     "name": "stdout",
     "output_type": "stream",
     "text": [
      "(None, 2048)\n",
      "(None, 7)\n"
     ]
    }
   ],
   "source": [
    "inputs = Input(shape = (7, 7, 2048)) # to take 7 x 7 x 2048 images\n",
    "x = GlobalAveragePooling2D()(inputs) # to convert to 2048 feagures\n",
    "print(x.shape)\n",
    "x = Dropout(0.5)(x) # add a dropout layer\n",
    "x = Dense(500)(x) # add a dense layer, but not adding activation so that we can add batch-norm first\n",
    "x = BatchNormalization()(x)\n",
    "x = Activation(\"relu\")(x)\n",
    "x = Dropout(0.5)(x) # add a dropout layer\n",
    "# Softmax layer to the output classes\n",
    "predictions = Dense(num_classes, activation='softmax')(x) # arg1 is: units = dimensionality of the output space.\n",
    "print(predictions.shape)"
   ]
  },
  {
   "cell_type": "code",
   "execution_count": 111,
   "id": "126956aa",
   "metadata": {},
   "outputs": [
    {
     "name": "stdout",
     "output_type": "stream",
     "text": [
      "Model: \"model_11\"\n",
      "_________________________________________________________________\n",
      " Layer (type)                Output Shape              Param #   \n",
      "=================================================================\n",
      " input_26 (InputLayer)       [(None, 7, 7, 2048)]      0         \n",
      "                                                                 \n",
      " global_average_pooling2d_11  (None, 2048)             0         \n",
      "  (GlobalAveragePooling2D)                                       \n",
      "                                                                 \n",
      " dropout_22 (Dropout)        (None, 2048)              0         \n",
      "                                                                 \n",
      " dense_22 (Dense)            (None, 500)               1024500   \n",
      "                                                                 \n",
      " batch_normalization_109 (Ba  (None, 500)              2000      \n",
      " tchNormalization)                                               \n",
      "                                                                 \n",
      " activation_105 (Activation)  (None, 500)              0         \n",
      "                                                                 \n",
      " dropout_23 (Dropout)        (None, 500)               0         \n",
      "                                                                 \n",
      " dense_23 (Dense)            (None, 7)                 3507      \n",
      "                                                                 \n",
      "=================================================================\n",
      "Total params: 1,030,007\n",
      "Trainable params: 1,029,007\n",
      "Non-trainable params: 1,000\n",
      "_________________________________________________________________\n"
     ]
    }
   ],
   "source": [
    "model_rms = Model(inputs=inputs, outputs=predictions) # specify what is network input, and what is network output\n",
    "model_rms.summary()"
   ]
  },
  {
   "cell_type": "code",
   "execution_count": 112,
   "id": "7d25e2f9",
   "metadata": {},
   "outputs": [],
   "source": [
    "model_rms.compile(loss='categorical_crossentropy', optimizer=\"RMSprop\", metrics=['accuracy'])"
   ]
  },
  {
   "cell_type": "code",
   "execution_count": 113,
   "id": "240b21a4",
   "metadata": {},
   "outputs": [
    {
     "name": "stdout",
     "output_type": "stream",
     "text": [
      "Epoch 1/30\n",
      "18/18 [==============================] - 2s 63ms/step - loss: 1.2116 - accuracy: 0.5741 - val_loss: 0.4746 - val_accuracy: 0.8214\n",
      "Epoch 2/30\n",
      "18/18 [==============================] - 1s 52ms/step - loss: 0.7274 - accuracy: 0.7411 - val_loss: 0.2068 - val_accuracy: 0.9393\n",
      "Epoch 3/30\n",
      "18/18 [==============================] - 1s 51ms/step - loss: 0.5612 - accuracy: 0.7933 - val_loss: 0.1177 - val_accuracy: 0.9643\n",
      "Epoch 4/30\n",
      "18/18 [==============================] - 1s 51ms/step - loss: 0.4683 - accuracy: 0.8348 - val_loss: 0.0745 - val_accuracy: 0.9714\n",
      "Epoch 5/30\n",
      "18/18 [==============================] - 1s 52ms/step - loss: 0.4278 - accuracy: 0.8487 - val_loss: 0.0338 - val_accuracy: 0.9929\n",
      "Epoch 6/30\n",
      "18/18 [==============================] - 1s 52ms/step - loss: 0.3884 - accuracy: 0.8616 - val_loss: 0.0314 - val_accuracy: 0.9929\n",
      "Epoch 7/30\n",
      "18/18 [==============================] - 1s 53ms/step - loss: 0.3776 - accuracy: 0.8567 - val_loss: 0.0412 - val_accuracy: 0.9929\n",
      "Epoch 8/30\n",
      "18/18 [==============================] - 1s 51ms/step - loss: 0.3424 - accuracy: 0.8795 - val_loss: 0.0359 - val_accuracy: 0.9929\n",
      "Epoch 9/30\n",
      "18/18 [==============================] - 1s 53ms/step - loss: 0.3467 - accuracy: 0.8839 - val_loss: 0.0422 - val_accuracy: 0.9929\n",
      "Epoch 9: early stopping\n"
     ]
    },
    {
     "data": {
      "text/plain": [
       "<keras.callbacks.History at 0x150af6c0ac0>"
      ]
     },
     "execution_count": 113,
     "metadata": {},
     "output_type": "execute_result"
    }
   ],
   "source": [
    "early_stop = EarlyStopping(monitor='val_loss',  patience=3, verbose=1)\n",
    "# stop if loss does not improve for 3 iterations\n",
    "\n",
    "model_rms.fit(resnet_rms_features[:split_point], y_train[:split_point], batch_size=128, epochs=30, \n",
    "              validation_data=(resnet_rms_features[split_point:], y_train[split_point:]), callbacks=[early_stop], verbose=1)\n"
   ]
  },
  {
   "cell_type": "code",
   "execution_count": 114,
   "id": "3f769533",
   "metadata": {},
   "outputs": [],
   "source": [
    "model_rms.save('model_rms.h5') # you may try load_model.ipynb to see how it's loaded (not required)"
   ]
  },
  {
   "cell_type": "code",
   "execution_count": 115,
   "id": "c07fb2df",
   "metadata": {},
   "outputs": [],
   "source": [
    "Test_prediction9 = []\n",
    "for files in os.listdir('./Data/Test_2'):\n",
    "\n",
    "    if files== 'desktop.ini':\n",
    "        pass\n",
    "    else:    \n",
    "        test_img = get_image(f'./Data/Test_2/{files}')\n",
    "        image_batch = np.expand_dims(test_img, axis=0)\n",
    "        image_batch = np.copy(image_batch)\n",
    "        image_batch = resnet50.preprocess_input(image_batch)\n",
    "        feature_input = resnet_rms_model.predict(image_batch)\n",
    "        predictions = model_rms.predict(feature_input)\n",
    "        pos = np.argmax(predictions)\n",
    "        Test_prediction9.append(pos)\n"
   ]
  },
  {
   "cell_type": "code",
   "execution_count": 116,
   "id": "8be38b07",
   "metadata": {},
   "outputs": [
    {
     "name": "stdout",
     "output_type": "stream",
     "text": [
      "Test accuracy:  0.6892857142857143\n"
     ]
    }
   ],
   "source": [
    "test_acc = (Test_prediction9 == y_test).mean()\n",
    "print('Test accuracy: ', test_acc)\n"
   ]
  },
  {
   "cell_type": "markdown",
   "id": "bf0745bb",
   "metadata": {},
   "source": [
    "### Resnet with Adadelta"
   ]
  },
  {
   "cell_type": "code",
   "execution_count": 117,
   "id": "60b2574a",
   "metadata": {},
   "outputs": [
    {
     "name": "stdout",
     "output_type": "stream",
     "text": [
      "40/40 [==============================] - 256s 6s/step\n",
      "(2520, 7, 7, 2048)\n"
     ]
    }
   ],
   "source": [
    "from tensorflow.keras.applications import resnet50\n",
    "resnet_del_x_train = resnet50.preprocess_input(x_train.copy())\n",
    "resnet_del_model = resnet50.ResNet50(weights='imagenet', include_top=False)\n",
    "resnet_del_features = resnet_del_model.predict(resnet_del_x_train, batch_size=64, verbose=1)\n",
    "print(resnet_del_features.shape)\n"
   ]
  },
  {
   "cell_type": "code",
   "execution_count": 118,
   "id": "d0d4e4f3",
   "metadata": {},
   "outputs": [
    {
     "name": "stdout",
     "output_type": "stream",
     "text": [
      "(None, 2048)\n",
      "(None, 7)\n"
     ]
    }
   ],
   "source": [
    "inputs = Input(shape = (7, 7, 2048)) # to take 7 x 7 x 2048 images\n",
    "x = GlobalAveragePooling2D()(inputs) # to convert to 2048 feagures\n",
    "print(x.shape)\n",
    "x = Dropout(0.5)(x) # add a dropout layer\n",
    "x = Dense(500)(x) # add a dense layer, but not adding activation so that we can add batch-norm first\n",
    "x = BatchNormalization()(x)\n",
    "x = Activation(\"relu\")(x)\n",
    "x = Dropout(0.5)(x) # add a dropout layer\n",
    "# Softmax layer to the output classes\n",
    "predictions = Dense(num_classes, activation='softmax')(x) # arg1 is: units = dimensionality of the output space.\n",
    "print(predictions.shape)\n"
   ]
  },
  {
   "cell_type": "code",
   "execution_count": 119,
   "id": "c03dc7c0",
   "metadata": {},
   "outputs": [
    {
     "name": "stdout",
     "output_type": "stream",
     "text": [
      "Model: \"model_12\"\n",
      "_________________________________________________________________\n",
      " Layer (type)                Output Shape              Param #   \n",
      "=================================================================\n",
      " input_28 (InputLayer)       [(None, 7, 7, 2048)]      0         \n",
      "                                                                 \n",
      " global_average_pooling2d_12  (None, 2048)             0         \n",
      "  (GlobalAveragePooling2D)                                       \n",
      "                                                                 \n",
      " dropout_24 (Dropout)        (None, 2048)              0         \n",
      "                                                                 \n",
      " dense_24 (Dense)            (None, 500)               1024500   \n",
      "                                                                 \n",
      " batch_normalization_110 (Ba  (None, 500)              2000      \n",
      " tchNormalization)                                               \n",
      "                                                                 \n",
      " activation_106 (Activation)  (None, 500)              0         \n",
      "                                                                 \n",
      " dropout_25 (Dropout)        (None, 500)               0         \n",
      "                                                                 \n",
      " dense_25 (Dense)            (None, 7)                 3507      \n",
      "                                                                 \n",
      "=================================================================\n",
      "Total params: 1,030,007\n",
      "Trainable params: 1,029,007\n",
      "Non-trainable params: 1,000\n",
      "_________________________________________________________________\n"
     ]
    }
   ],
   "source": [
    "model_del = Model(inputs=inputs, outputs=predictions) # specify what is network input, and what is network output\n",
    "model_del.summary()\n"
   ]
  },
  {
   "cell_type": "code",
   "execution_count": 120,
   "id": "fef200e9",
   "metadata": {},
   "outputs": [],
   "source": [
    "model_del.compile(loss='categorical_crossentropy', optimizer=\"Adadelta\", metrics=['accuracy'])"
   ]
  },
  {
   "cell_type": "code",
   "execution_count": 121,
   "id": "8c678b74",
   "metadata": {},
   "outputs": [
    {
     "name": "stdout",
     "output_type": "stream",
     "text": [
      "Epoch 1/30\n",
      "18/18 [==============================] - 1s 50ms/step - loss: 2.5559 - accuracy: 0.1603 - val_loss: 3.9653 - val_accuracy: 0.0000e+00\n",
      "Epoch 2/30\n",
      "18/18 [==============================] - 1s 42ms/step - loss: 2.5143 - accuracy: 0.1683 - val_loss: 3.5570 - val_accuracy: 0.0000e+00\n",
      "Epoch 3/30\n",
      "18/18 [==============================] - 1s 40ms/step - loss: 2.5056 - accuracy: 0.1589 - val_loss: 3.3006 - val_accuracy: 0.0000e+00\n",
      "Epoch 4/30\n",
      "18/18 [==============================] - 1s 39ms/step - loss: 2.5337 - accuracy: 0.1491 - val_loss: 3.1109 - val_accuracy: 0.0000e+00\n",
      "Epoch 5/30\n",
      "18/18 [==============================] - 1s 33ms/step - loss: 2.5424 - accuracy: 0.1437 - val_loss: 2.9789 - val_accuracy: 0.0000e+00\n",
      "Epoch 6/30\n",
      "18/18 [==============================] - 1s 41ms/step - loss: 2.4788 - accuracy: 0.1750 - val_loss: 2.8859 - val_accuracy: 0.0000e+00\n",
      "Epoch 7/30\n",
      "18/18 [==============================] - 1s 39ms/step - loss: 2.4622 - accuracy: 0.1634 - val_loss: 2.8198 - val_accuracy: 0.0000e+00\n",
      "Epoch 8/30\n",
      "18/18 [==============================] - 1s 42ms/step - loss: 2.4663 - accuracy: 0.1705 - val_loss: 2.7726 - val_accuracy: 0.0000e+00\n",
      "Epoch 9/30\n",
      "18/18 [==============================] - 1s 40ms/step - loss: 2.4598 - accuracy: 0.1714 - val_loss: 2.7343 - val_accuracy: 0.0000e+00\n",
      "Epoch 10/30\n",
      "18/18 [==============================] - 1s 38ms/step - loss: 2.4833 - accuracy: 0.1817 - val_loss: 2.7082 - val_accuracy: 0.0000e+00\n",
      "Epoch 11/30\n",
      "18/18 [==============================] - 1s 47ms/step - loss: 2.4091 - accuracy: 0.1817 - val_loss: 2.6914 - val_accuracy: 0.0000e+00\n",
      "Epoch 12/30\n",
      "18/18 [==============================] - 1s 42ms/step - loss: 2.3868 - accuracy: 0.1897 - val_loss: 2.6741 - val_accuracy: 0.0000e+00\n",
      "Epoch 13/30\n",
      "18/18 [==============================] - 1s 40ms/step - loss: 2.3977 - accuracy: 0.1781 - val_loss: 2.6633 - val_accuracy: 0.0000e+00\n",
      "Epoch 14/30\n",
      "18/18 [==============================] - 1s 44ms/step - loss: 2.4295 - accuracy: 0.1786 - val_loss: 2.6499 - val_accuracy: 0.0000e+00\n",
      "Epoch 15/30\n",
      "18/18 [==============================] - 1s 43ms/step - loss: 2.4152 - accuracy: 0.1714 - val_loss: 2.6453 - val_accuracy: 0.0000e+00\n",
      "Epoch 16/30\n",
      "18/18 [==============================] - 1s 40ms/step - loss: 2.3679 - accuracy: 0.2000 - val_loss: 2.6402 - val_accuracy: 0.0000e+00\n",
      "Epoch 17/30\n",
      "18/18 [==============================] - 1s 39ms/step - loss: 2.3372 - accuracy: 0.1942 - val_loss: 2.6346 - val_accuracy: 0.0000e+00\n",
      "Epoch 18/30\n",
      "18/18 [==============================] - 1s 39ms/step - loss: 2.3742 - accuracy: 0.1902 - val_loss: 2.6277 - val_accuracy: 0.0000e+00\n",
      "Epoch 19/30\n",
      "18/18 [==============================] - 1s 39ms/step - loss: 2.3385 - accuracy: 0.1888 - val_loss: 2.6234 - val_accuracy: 0.0000e+00\n",
      "Epoch 20/30\n",
      "18/18 [==============================] - 1s 39ms/step - loss: 2.3427 - accuracy: 0.2018 - val_loss: 2.6174 - val_accuracy: 0.0000e+00\n",
      "Epoch 21/30\n",
      "18/18 [==============================] - 1s 39ms/step - loss: 2.3256 - accuracy: 0.2009 - val_loss: 2.6185 - val_accuracy: 0.0000e+00\n",
      "Epoch 22/30\n",
      "18/18 [==============================] - 1s 39ms/step - loss: 2.3888 - accuracy: 0.1830 - val_loss: 2.6171 - val_accuracy: 0.0000e+00\n",
      "Epoch 23/30\n",
      "18/18 [==============================] - 1s 43ms/step - loss: 2.2955 - accuracy: 0.2112 - val_loss: 2.6152 - val_accuracy: 0.0000e+00\n",
      "Epoch 24/30\n",
      "18/18 [==============================] - 1s 40ms/step - loss: 2.3409 - accuracy: 0.2049 - val_loss: 2.6099 - val_accuracy: 0.0000e+00\n",
      "Epoch 25/30\n",
      "18/18 [==============================] - 1s 39ms/step - loss: 2.2959 - accuracy: 0.2058 - val_loss: 2.6063 - val_accuracy: 0.0000e+00\n",
      "Epoch 26/30\n",
      "18/18 [==============================] - 1s 39ms/step - loss: 2.3089 - accuracy: 0.1924 - val_loss: 2.6073 - val_accuracy: 0.0000e+00\n",
      "Epoch 27/30\n",
      "18/18 [==============================] - 1s 39ms/step - loss: 2.2664 - accuracy: 0.2045 - val_loss: 2.6026 - val_accuracy: 0.0000e+00\n",
      "Epoch 28/30\n",
      "18/18 [==============================] - 1s 43ms/step - loss: 2.2459 - accuracy: 0.2214 - val_loss: 2.5984 - val_accuracy: 0.0000e+00\n",
      "Epoch 29/30\n",
      "18/18 [==============================] - 1s 39ms/step - loss: 2.2668 - accuracy: 0.2250 - val_loss: 2.5886 - val_accuracy: 0.0000e+00\n",
      "Epoch 30/30\n",
      "18/18 [==============================] - 1s 35ms/step - loss: 2.2388 - accuracy: 0.2344 - val_loss: 2.5852 - val_accuracy: 0.0000e+00\n"
     ]
    },
    {
     "data": {
      "text/plain": [
       "<keras.callbacks.History at 0x1512e027460>"
      ]
     },
     "execution_count": 121,
     "metadata": {},
     "output_type": "execute_result"
    }
   ],
   "source": [
    "early_stop = EarlyStopping(monitor='val_loss',  patience=3, verbose=1)\n",
    "# stop if loss does not improve for 3 iterations\n",
    "\n",
    "model_del.fit(resnet_del_features[:split_point], y_train[:split_point], batch_size=128, epochs=30, \n",
    "              validation_data=(resnet_del_features[split_point:], y_train[split_point:]), callbacks=[early_stop], verbose=1)\n"
   ]
  },
  {
   "cell_type": "code",
   "execution_count": 122,
   "id": "282504e2",
   "metadata": {},
   "outputs": [],
   "source": [
    "model_del.save('model_del.h5') # you may try load_model.ipynb to see how it's loaded (not required)"
   ]
  },
  {
   "cell_type": "code",
   "execution_count": 123,
   "id": "dce6512c",
   "metadata": {},
   "outputs": [],
   "source": [
    "Test_prediction6 = []\n",
    "for files in os.listdir('./Data/Test_2'):\n",
    "\n",
    "    if files== 'desktop.ini':\n",
    "        pass\n",
    "    else:    \n",
    "        test_img = get_image(f'./Data/Test_2/{files}')\n",
    "        image_batch = np.expand_dims(test_img, axis=0)\n",
    "        image_batch = np.copy(image_batch)\n",
    "        image_batch = resnet50.preprocess_input(image_batch)\n",
    "        feature_input = resnet_del_model.predict(image_batch)\n",
    "        predictions = model_del.predict(feature_input)\n",
    "        pos = np.argmax(predictions)\n",
    "        Test_prediction6.append(pos)\n"
   ]
  },
  {
   "cell_type": "code",
   "execution_count": 97,
   "id": "59cc85dc",
   "metadata": {},
   "outputs": [
    {
     "name": "stdout",
     "output_type": "stream",
     "text": [
      "Test accuracy:  0.15357142857142858\n"
     ]
    }
   ],
   "source": [
    "test_acc = (Test_prediction6 == y_test).mean()\n",
    "print('Test accuracy: ', test_acc)\n"
   ]
  },
  {
   "cell_type": "code",
   "execution_count": null,
   "id": "02421a0a",
   "metadata": {},
   "outputs": [],
   "source": []
  }
 ],
 "metadata": {
  "kernelspec": {
   "display_name": "Python 3",
   "language": "python",
   "name": "python3"
  },
  "language_info": {
   "codemirror_mode": {
    "name": "ipython",
    "version": 3
   },
   "file_extension": ".py",
   "mimetype": "text/x-python",
   "name": "python",
   "nbconvert_exporter": "python",
   "pygments_lexer": "ipython3",
   "version": "3.8.8"
  }
 },
 "nbformat": 4,
 "nbformat_minor": 5
}
