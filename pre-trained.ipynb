{
 "cells": [
  {
   "cell_type": "code",
   "execution_count": 1,
   "id": "f5c60563",
   "metadata": {},
   "outputs": [],
   "source": [
    "import sys\n",
    "import tensorflow as tf\n",
    "import tensorflow.keras as keras\n",
    "from tensorflow.keras.applications import resnet50\n",
    "import pandas as pd\n",
    "import numpy as np\n",
    "import os\n",
    "import cv2\n",
    "\n",
    "model = resnet50.ResNet50(weights='imagenet') # taking input as 224 x 224 x 3 images\n",
    "\n",
    "from tensorflow.keras.preprocessing.image import load_img, img_to_array\n",
    "import numpy as np\n",
    "import matplotlib.pyplot as plt\n",
    "%matplotlib inline\n",
    " \n",
    "img_width = 224"
   ]
  },
  {
   "cell_type": "code",
   "execution_count": 2,
   "id": "5138c768",
   "metadata": {},
   "outputs": [
    {
     "name": "stdout",
     "output_type": "stream",
     "text": [
      "X_train shape:  (2520, 250, 250, 3)\n",
      "y_train shape:  (2520,)\n",
      "X_test shape:  (280, 250, 250, 3)\n",
      "y_test shape:  (280,)\n"
     ]
    }
   ],
   "source": [
    "import pandas as pd\n",
    "import numpy as np\n",
    "import os\n",
    "import cv2\n",
    "\n",
    "#collects all the images from the folders.\n",
    "def collect_all(folder):\n",
    "    images = []\n",
    "    for filename in os.listdir(folder):\n",
    "        if filename == 'desktop.ini':\n",
    "            pass\n",
    "        else:        \n",
    "            #print(filename)\n",
    "            im = cv2.imread(f'{folder}/{filename}')\n",
    "            #print(im.shape)\n",
    "            images.append(im)\n",
    "\n",
    "    return np.array(images)\n",
    "\n",
    "folder1 = './Data/Test'\n",
    "X_test = collect_all(folder1)\n",
    "folder2 = './Data/train'\n",
    "X_train = collect_all(folder2)\n",
    "# folder3 = './Val'\n",
    "# X_val = collect_all(folder3)\n",
    "y_test = pd.read_excel(r'./Data/test_label.xlsx',usecols=[1,1])\n",
    "\n",
    "y_test = y_test.to_numpy()\n",
    "\n",
    "y_test = np.squeeze(y_test)\n",
    "y_train = pd.read_excel(r'./Data/train_label.xlsx',usecols=[1,1])\n",
    "\n",
    "y_train = y_train.to_numpy()\n",
    "\n",
    "y_train = np.squeeze(y_train)\n",
    "# y_val = pd.read_excel(r'val_label.xlsx',header=None,usecols=[1,1])\n",
    "\n",
    "# y_val = y_val.to_numpy()\n",
    "\n",
    "# y_val = np.squeeze(y_val)\n",
    "\n",
    "# mean_image = np.mean(X_train, axis=0)\n",
    "# X_train = X_train.astype('float32')\n",
    "# X_val = X_val.astype('float32')\n",
    "# X_test = X_test.astype('float32')\n",
    "\n",
    "# X_train -= mean_image\n",
    "# X_val -= mean_image\n",
    "# X_test -= mean_image\n",
    "\n",
    "# #reshape data to rows\n",
    "# X_train = X_train.reshape(X_train.shape[0], -1)\n",
    "# X_val = X_val.reshape(X_val.shape[0], -1)\n",
    "# X_test = X_test.reshape(X_test.shape[0], -1)\n",
    "\n",
    "print('X_train shape: ',X_train.shape)\n",
    "print('y_train shape: ',y_train.shape)\n",
    "# print('X_val shape: ', X_val.shape)\n",
    "# print('y_val shape: ', y_val.shape)\n",
    "print('X_test shape: ', X_test.shape)\n",
    "print('y_test shape: ', y_test.shape)"
   ]
  },
  {
   "cell_type": "code",
   "execution_count": 3,
   "id": "6ddfaed2",
   "metadata": {},
   "outputs": [
    {
     "data": {
      "text/html": [
       "<div>\n",
       "<style scoped>\n",
       "    .dataframe tbody tr th:only-of-type {\n",
       "        vertical-align: middle;\n",
       "    }\n",
       "\n",
       "    .dataframe tbody tr th {\n",
       "        vertical-align: top;\n",
       "    }\n",
       "\n",
       "    .dataframe thead th {\n",
       "        text-align: right;\n",
       "    }\n",
       "</style>\n",
       "<table border=\"1\" class=\"dataframe\">\n",
       "  <thead>\n",
       "    <tr style=\"text-align: right;\">\n",
       "      <th></th>\n",
       "      <th>Unnamed: 0</th>\n",
       "      <th>id</th>\n",
       "      <th>Type</th>\n",
       "    </tr>\n",
       "  </thead>\n",
       "  <tbody>\n",
       "    <tr>\n",
       "      <th>0</th>\n",
       "      <td>0</td>\n",
       "      <td>distribute_40</td>\n",
       "      <td>distribute</td>\n",
       "    </tr>\n",
       "    <tr>\n",
       "      <th>1</th>\n",
       "      <td>1</td>\n",
       "      <td>distribute_41</td>\n",
       "      <td>distribute</td>\n",
       "    </tr>\n",
       "    <tr>\n",
       "      <th>2</th>\n",
       "      <td>2</td>\n",
       "      <td>distribute_42</td>\n",
       "      <td>distribute</td>\n",
       "    </tr>\n",
       "    <tr>\n",
       "      <th>3</th>\n",
       "      <td>3</td>\n",
       "      <td>distribute_43</td>\n",
       "      <td>distribute</td>\n",
       "    </tr>\n",
       "    <tr>\n",
       "      <th>4</th>\n",
       "      <td>4</td>\n",
       "      <td>distribute_44</td>\n",
       "      <td>distribute</td>\n",
       "    </tr>\n",
       "  </tbody>\n",
       "</table>\n",
       "</div>"
      ],
      "text/plain": [
       "   Unnamed: 0             id        Type\n",
       "0           0  distribute_40  distribute\n",
       "1           1  distribute_41  distribute\n",
       "2           2  distribute_42  distribute\n",
       "3           3  distribute_43  distribute\n",
       "4           4  distribute_44  distribute"
      ]
     },
     "execution_count": 3,
     "metadata": {},
     "output_type": "execute_result"
    }
   ],
   "source": [
    "labels = pd.read_csv('Data/train_label.csv')\n",
    "labels.head()"
   ]
  },
  {
   "cell_type": "code",
   "execution_count": 4,
   "id": "71b999bb",
   "metadata": {},
   "outputs": [
    {
     "data": {
      "text/plain": [
       "series        360\n",
       "ineq          360\n",
       "limit         360\n",
       "sqrt          360\n",
       "distribute    360\n",
       "matrix        360\n",
       "integral      360\n",
       "Name: Type, dtype: int64"
      ]
     },
     "execution_count": 4,
     "metadata": {},
     "output_type": "execute_result"
    }
   ],
   "source": [
    "labels['Type'].value_counts()"
   ]
  },
  {
   "cell_type": "code",
   "execution_count": 5,
   "id": "6186fe7c",
   "metadata": {},
   "outputs": [
    {
     "data": {
      "text/html": [
       "<div>\n",
       "<style scoped>\n",
       "    .dataframe tbody tr th:only-of-type {\n",
       "        vertical-align: middle;\n",
       "    }\n",
       "\n",
       "    .dataframe tbody tr th {\n",
       "        vertical-align: top;\n",
       "    }\n",
       "\n",
       "    .dataframe thead th {\n",
       "        text-align: right;\n",
       "    }\n",
       "</style>\n",
       "<table border=\"1\" class=\"dataframe\">\n",
       "  <thead>\n",
       "    <tr style=\"text-align: right;\">\n",
       "      <th></th>\n",
       "      <th>id</th>\n",
       "      <th>distribute</th>\n",
       "      <th>ineq</th>\n",
       "      <th>integral</th>\n",
       "      <th>limit</th>\n",
       "      <th>matrix</th>\n",
       "      <th>series</th>\n",
       "      <th>sqrt</th>\n",
       "    </tr>\n",
       "  </thead>\n",
       "  <tbody>\n",
       "    <tr>\n",
       "      <th>0</th>\n",
       "      <td>distribute_40</td>\n",
       "      <td>0.142857</td>\n",
       "      <td>0.142857</td>\n",
       "      <td>0.142857</td>\n",
       "      <td>0.142857</td>\n",
       "      <td>0.142857</td>\n",
       "      <td>0.142857</td>\n",
       "      <td>0.142857</td>\n",
       "    </tr>\n",
       "    <tr>\n",
       "      <th>1</th>\n",
       "      <td>distribute_41</td>\n",
       "      <td>0.142857</td>\n",
       "      <td>0.142857</td>\n",
       "      <td>0.142857</td>\n",
       "      <td>0.142857</td>\n",
       "      <td>0.142857</td>\n",
       "      <td>0.142857</td>\n",
       "      <td>0.142857</td>\n",
       "    </tr>\n",
       "    <tr>\n",
       "      <th>2</th>\n",
       "      <td>distribute_42</td>\n",
       "      <td>0.142857</td>\n",
       "      <td>0.142857</td>\n",
       "      <td>0.142857</td>\n",
       "      <td>0.142857</td>\n",
       "      <td>0.142857</td>\n",
       "      <td>0.142857</td>\n",
       "      <td>0.142857</td>\n",
       "    </tr>\n",
       "    <tr>\n",
       "      <th>3</th>\n",
       "      <td>distribute_43</td>\n",
       "      <td>0.142857</td>\n",
       "      <td>0.142857</td>\n",
       "      <td>0.142857</td>\n",
       "      <td>0.142857</td>\n",
       "      <td>0.142857</td>\n",
       "      <td>0.142857</td>\n",
       "      <td>0.142857</td>\n",
       "    </tr>\n",
       "    <tr>\n",
       "      <th>4</th>\n",
       "      <td>distribute_44</td>\n",
       "      <td>0.142857</td>\n",
       "      <td>0.142857</td>\n",
       "      <td>0.142857</td>\n",
       "      <td>0.142857</td>\n",
       "      <td>0.142857</td>\n",
       "      <td>0.142857</td>\n",
       "      <td>0.142857</td>\n",
       "    </tr>\n",
       "  </tbody>\n",
       "</table>\n",
       "</div>"
      ],
      "text/plain": [
       "              id  distribute      ineq  integral     limit    matrix  \\\n",
       "0  distribute_40    0.142857  0.142857  0.142857  0.142857  0.142857   \n",
       "1  distribute_41    0.142857  0.142857  0.142857  0.142857  0.142857   \n",
       "2  distribute_42    0.142857  0.142857  0.142857  0.142857  0.142857   \n",
       "3  distribute_43    0.142857  0.142857  0.142857  0.142857  0.142857   \n",
       "4  distribute_44    0.142857  0.142857  0.142857  0.142857  0.142857   \n",
       "\n",
       "     series      sqrt  \n",
       "0  0.142857  0.142857  \n",
       "1  0.142857  0.142857  \n",
       "2  0.142857  0.142857  \n",
       "3  0.142857  0.142857  \n",
       "4  0.142857  0.142857  "
      ]
     },
     "execution_count": 5,
     "metadata": {},
     "output_type": "execute_result"
    }
   ],
   "source": [
    "sample = pd.read_csv('Data/sample_submission.csv')\n",
    "sample.head()"
   ]
  },
  {
   "cell_type": "code",
   "execution_count": 6,
   "id": "a24dccde",
   "metadata": {},
   "outputs": [
    {
     "name": "stdout",
     "output_type": "stream",
     "text": [
      "num_train_images: 2520\n",
      "Types: Index(['distribute', 'ineq', 'integral', 'limit', 'matrix', 'series', 'sqrt'], dtype='object')\n",
      "num_classes: 7\n"
     ]
    }
   ],
   "source": [
    "# num_train_images = labels.shape[0]\n",
    "num_train_images = 2520  # we choose 3300 images for this assignment. It works for a machine having 8Gb Ram. You can adjust it if your Ram is different. \n",
    "split_point = 2240 # split the data into training data [0:3000] and val data [3000:]\n",
    "print('num_train_images:', num_train_images)\n",
    "types = sample.columns[1:]\n",
    "print('Types:', types)\n",
    "num_classes = len(types)\n",
    "print('num_classes:', num_classes)"
   ]
  },
  {
   "cell_type": "code",
   "execution_count": 7,
   "id": "e9042bee",
   "metadata": {},
   "outputs": [],
   "source": [
    "from tensorflow.keras.preprocessing.image import load_img, img_to_array\n",
    "import numpy as np\n",
    "\n",
    "img_width = 224\n",
    "\n",
    "def get_image(filename):\n",
    "    ########################################################################\n",
    "    # TODO: Your code here...\n",
    "    ########################################################################\n",
    "    original = load_img(filename, target_size=(224,224))\n",
    "    numpy_image = img_to_array(original)\n",
    "    image_batch = np.expand_dims(numpy_image, axis=0)\n",
    "    return image_batch[0]\n"
   ]
  },
  {
   "cell_type": "code",
   "execution_count": 8,
   "id": "da2e137e",
   "metadata": {},
   "outputs": [
    {
     "data": {
      "image/png": "[encoded data removed]",
      "text/plain": [
       "<Figure size 432x288 with 1 Axes>"
      ]
     },
     "metadata": {
      "needs_background": "light"
     },
     "output_type": "display_data"
    }
   ],
   "source": [
    "import matplotlib.pyplot as plt\n",
    "%matplotlib inline\n",
    "\n",
    "image = get_image('Data/train/distribute_41.png')\n",
    "plt.imshow(np.uint8(image))\n",
    "plt.show()"
   ]
  },
  {
   "cell_type": "code",
   "execution_count": 9,
   "id": "b7954af9",
   "metadata": {},
   "outputs": [
    {
     "name": "stdout",
     "output_type": "stream",
     "text": [
      "1000 images loaded\n",
      "2000 images loaded\n"
     ]
    }
   ],
   "source": [
    "x_train = np.zeros((num_train_images, img_width, img_width, 3), dtype=np.uint8)\n",
    "y_train = np.zeros((num_train_images, num_classes), dtype=np.uint8)\n",
    "\n",
    "count = 0\n",
    "\n",
    "for i in range(num_train_images):\n",
    "    x_train[i] = get_image('Data/train/%s.png' % labels['id'][i])\n",
    "    pos_arrays = (types == labels['Type'][i]).nonzero() # recall that types is the array of classes\n",
    "    pos = pos_arrays[0][0]\n",
    "    y_train[i][pos] = 1\n",
    "    count += 1\n",
    "    if(count % 1000 == 0): print(count, 'images loaded')"
   ]
  },
  {
   "cell_type": "code",
   "execution_count": 10,
   "id": "5266be82",
   "metadata": {},
   "outputs": [],
   "source": [
    "from tensorflow.keras.applications import resnet50\n",
    "\n",
    "x_train = resnet50.preprocess_input(x_train) # preprocess the images properly (e.g., minus the mean image)"
   ]
  },
  {
   "cell_type": "code",
   "execution_count": 11,
   "id": "f9d7fcba",
   "metadata": {},
   "outputs": [],
   "source": [
    "model_resnet50 = resnet50.ResNet50(weights='imagenet', include_top=False)\n",
    "# include_top=False --> do not load the last FC layer"
   ]
  },
  {
   "cell_type": "code",
   "execution_count": 12,
   "id": "93bd4253",
   "metadata": {},
   "outputs": [
    {
     "data": {
      "text/plain": [
       "(2520, 224, 224, 3)"
      ]
     },
     "execution_count": 12,
     "metadata": {},
     "output_type": "execute_result"
    }
   ],
   "source": [
    "#x_train_test=x_train[0:3]\n",
    "#x_train_test.shape\n",
    "x_train.shape\n",
    "#plt.imshow(np.uint8(x_train[1]))\n"
   ]
  },
  {
   "cell_type": "code",
   "execution_count": 13,
   "id": "5c2ed287",
   "metadata": {},
   "outputs": [
    {
     "name": "stdout",
     "output_type": "stream",
     "text": [
      "40/40 [==============================] - 360s 9s/step\n"
     ]
    }
   ],
   "source": [
    "#x_train_mini=np.expand_dims(x_train_test, axis=0)\n",
    "#features = model_resnet50.predict(x_train_test, batch_size=1, verbose=1)\n",
    "features = model_resnet50.predict(x_train, batch_size=64, verbose=1)"
   ]
  },
  {
   "cell_type": "code",
   "execution_count": 75,
   "id": "7157fbb1",
   "metadata": {},
   "outputs": [
    {
     "data": {
      "text/plain": [
       "(2520, 7, 7, 2048)"
      ]
     },
     "execution_count": 75,
     "metadata": {},
     "output_type": "execute_result"
    }
   ],
   "source": [
    "features.shape"
   ]
  },
  {
   "cell_type": "code",
   "execution_count": 14,
   "id": "3c8901b2",
   "metadata": {},
   "outputs": [
    {
     "name": "stdout",
     "output_type": "stream",
     "text": [
      "(None, 2048)\n",
      "(None, 7)\n"
     ]
    }
   ],
   "source": [
    "# Using 7 x 7 x 2048 features as input to an FC layer leads to many parameters, and may overfit for small dataset\n",
    "# Our solution is to use global pooling: pooling over every 7 x 7 images, to obtain 2048 features only\n",
    "# -> ref: https://arxiv.org/pdf/1312.4400.pdf Sec 3.2\n",
    "\n",
    "from tensorflow.keras.layers import Input, Dense, GlobalAveragePooling2D, Dropout, Activation, BatchNormalization\n",
    "\n",
    "# define the network\n",
    "# NOTE:\n",
    "# here we use \"output = Layer(configs) (input)\" + model(inputs, outputs)\n",
    "# you may also use model.add(layer) when building your own sequential model\n",
    "inputs = Input(shape = (7, 7, 2048)) # to take 7 x 7 x 2048 images\n",
    "x = GlobalAveragePooling2D()(inputs) # to convert to 2048 feagures\n",
    "print(x.shape)\n",
    "x = Dropout(0.5)(x) # add a dropout layer\n",
    "x = Dense(500)(x) # add a dense layer, but not adding activation so that we can add batch-norm first\n",
    "x = BatchNormalization()(x)\n",
    "x = Activation(\"relu\")(x)\n",
    "x = Dropout(0.5)(x) # add a dropout layer\n",
    "# Softmax layer to the output classes\n",
    "predictions = Dense(num_classes, activation='softmax')(x) # arg1 is: units = dimensionality of the output space.\n",
    "print(predictions.shape)"
   ]
  },
  {
   "cell_type": "code",
   "execution_count": 15,
   "id": "9240ad03",
   "metadata": {},
   "outputs": [
    {
     "name": "stdout",
     "output_type": "stream",
     "text": [
      "Model: \"model\"\n",
      "_________________________________________________________________\n",
      " Layer (type)                Output Shape              Param #   \n",
      "=================================================================\n",
      " input_3 (InputLayer)        [(None, 7, 7, 2048)]      0         \n",
      "                                                                 \n",
      " global_average_pooling2d (G  (None, 2048)             0         \n",
      " lobalAveragePooling2D)                                          \n",
      "                                                                 \n",
      " dropout (Dropout)           (None, 2048)              0         \n",
      "                                                                 \n",
      " dense (Dense)               (None, 500)               1024500   \n",
      "                                                                 \n",
      " batch_normalization (BatchN  (None, 500)              2000      \n",
      " ormalization)                                                   \n",
      "                                                                 \n",
      " activation (Activation)     (None, 500)               0         \n",
      "                                                                 \n",
      " dropout_1 (Dropout)         (None, 500)               0         \n",
      "                                                                 \n",
      " dense_1 (Dense)             (None, 7)                 3507      \n",
      "                                                                 \n",
      "=================================================================\n",
      "Total params: 1,030,007\n",
      "Trainable params: 1,029,007\n",
      "Non-trainable params: 1,000\n",
      "_________________________________________________________________\n"
     ]
    }
   ],
   "source": [
    "from tensorflow.keras.models import Model\n",
    "\n",
    "model = Model(inputs=inputs, outputs=predictions) # specify what is network input, and what is network output\n",
    "model.summary()"
   ]
  },
  {
   "cell_type": "code",
   "execution_count": 16,
   "id": "0df2f03e",
   "metadata": {},
   "outputs": [],
   "source": [
    "# Assign loss function (over the output), optimizer algorithm, etc.\n",
    "model.compile(loss='categorical_crossentropy', optimizer=\"adam\", metrics=['accuracy'])"
   ]
  },
  {
   "cell_type": "code",
   "execution_count": 17,
   "id": "4f18c995",
   "metadata": {},
   "outputs": [
    {
     "name": "stdout",
     "output_type": "stream",
     "text": [
      "Epoch 1/30\n",
      "18/18 [==============================] - 3s 89ms/step - loss: 1.4224 - accuracy: 0.5107 - val_loss: 0.4385 - val_accuracy: 0.8107\n",
      "Epoch 2/30\n",
      "18/18 [==============================] - 1s 75ms/step - loss: 0.7761 - accuracy: 0.7321 - val_loss: 0.0923 - val_accuracy: 0.9679\n",
      "Epoch 3/30\n",
      "18/18 [==============================] - 1s 73ms/step - loss: 0.6124 - accuracy: 0.7723 - val_loss: 0.0647 - val_accuracy: 0.9821\n",
      "Epoch 4/30\n",
      "18/18 [==============================] - 1s 78ms/step - loss: 0.5152 - accuracy: 0.8112 - val_loss: 0.0668 - val_accuracy: 0.9893\n",
      "Epoch 5/30\n",
      "18/18 [==============================] - 2s 113ms/step - loss: 0.4714 - accuracy: 0.8183 - val_loss: 0.0640 - val_accuracy: 0.9893\n",
      "Epoch 6/30\n",
      "18/18 [==============================] - 2s 107ms/step - loss: 0.4252 - accuracy: 0.8585 - val_loss: 0.0345 - val_accuracy: 0.9929\n",
      "Epoch 7/30\n",
      "18/18 [==============================] - 2s 100ms/step - loss: 0.3848 - accuracy: 0.8625 - val_loss: 0.0451 - val_accuracy: 0.9929\n",
      "Epoch 8/30\n",
      "18/18 [==============================] - 2s 107ms/step - loss: 0.3731 - accuracy: 0.8692 - val_loss: 0.0414 - val_accuracy: 0.9929\n",
      "Epoch 9/30\n",
      "18/18 [==============================] - 2s 114ms/step - loss: 0.3367 - accuracy: 0.8835 - val_loss: 0.0429 - val_accuracy: 0.9929\n",
      "Epoch 9: early stopping\n"
     ]
    },
    {
     "data": {
      "text/plain": [
       "<keras.callbacks.History at 0x1d6d41a6ac0>"
      ]
     },
     "execution_count": 17,
     "metadata": {},
     "output_type": "execute_result"
    }
   ],
   "source": [
    "# Let's use first 3000 images for training, last 300 for validation\n",
    "from tensorflow.keras.callbacks import EarlyStopping\n",
    "\n",
    "early_stop = EarlyStopping(monitor='val_loss',  patience=3, verbose=1)\n",
    "# stop if loss does not improve for 3 iterations\n",
    "\n",
    "model.fit(features[:split_point], y_train[:split_point], batch_size=128, epochs=30, \n",
    "              validation_data=(features[split_point:], y_train[split_point:]), callbacks=[early_stop], verbose=1)"
   ]
  },
  {
   "cell_type": "code",
   "execution_count": 18,
   "id": "b104ca38",
   "metadata": {},
   "outputs": [],
   "source": [
    "# save it to disk\n",
    "model.save('model1.h5') # you may try load_model.ipynb to see how it's loaded (not required)"
   ]
  },
  {
   "cell_type": "code",
   "execution_count": 19,
   "id": "c35ca131",
   "metadata": {},
   "outputs": [
    {
     "data": {
      "image/png": "[encoded data removed]",
      "text/plain": [
       "<Figure size 432x288 with 1 Axes>"
      ]
     },
     "metadata": {
      "needs_background": "light"
     },
     "output_type": "display_data"
    }
   ],
   "source": [
    "test_img = get_image('Data/Test_2/series_16.png')\n",
    "plt.imshow(np.uint8(test_img))\n",
    "plt.show()"
   ]
  },
  {
   "cell_type": "code",
   "execution_count": 20,
   "id": "5e27a7af",
   "metadata": {},
   "outputs": [
    {
     "data": {
      "text/plain": [
       "'series'"
      ]
     },
     "execution_count": 20,
     "metadata": {},
     "output_type": "execute_result"
    }
   ],
   "source": [
    "from tensorflow.keras.applications.imagenet_utils import decode_predictions\n",
    "\n",
    "image_batch = np.expand_dims(test_img, axis=0)\n",
    "image_batch = np.copy(image_batch)\n",
    "\n",
    "image_batch = resnet50.preprocess_input(image_batch)\n",
    "feature_input = model_resnet50.predict(image_batch)\n",
    "predictions = model.predict(feature_input)\n",
    "pos = np.argmax(predictions)\n",
    "types[pos]"
   ]
  },
  {
   "cell_type": "code",
   "execution_count": 21,
   "id": "92138eb1",
   "metadata": {},
   "outputs": [
    {
     "name": "stdout",
     "output_type": "stream",
     "text": [
      "Image Name:  f_dist_1.png  Prediction:  distribute\n",
      "Image Name:  f_ineq.png  Prediction:  ineq\n",
      "Image Name:  f_int.png  Prediction:  distribute\n",
      "Image Name:  f_lim.png  Prediction:  distribute\n",
      "Image Name:  f_matrix.png  Prediction:  matrix\n",
      "Image Name:  f_series.png  Prediction:  series\n",
      "Image Name:  f_sqrt.png  Prediction:  sqrt\n",
      "Image Name:  s_dist3.png  Prediction:  ineq\n",
      "Image Name:  s_ineq3.png  Prediction:  ineq\n",
      "Image Name:  s_int3.png  Prediction:  integral\n",
      "Image Name:  s_limit3.png  Prediction:  limit\n",
      "Image Name:  s_matrix3.png  Prediction:  matrix\n",
      "Image Name:  s_series3.png  Prediction:  series\n",
      "Image Name:  s_sqrt3.png  Prediction:  sqrt\n",
      "Image Name:  T_dist2.png  Prediction:  ineq\n",
      "Image Name:  t_ineq2.png  Prediction:  ineq\n",
      "Image Name:  t_int2.png  Prediction:  integral\n",
      "Image Name:  t_lim2.png  Prediction:  limit\n",
      "Image Name:  t_matrix2.png  Prediction:  integral\n",
      "Image Name:  t_series2.png  Prediction:  ineq\n",
      "Image Name:  t_sqrt2.png  Prediction:  sqrt\n"
     ]
    }
   ],
   "source": [
    "\n",
    "for files in os.listdir('./Data/Test_3/'):\n",
    "    \n",
    "    if files== 'desktop.ini':\n",
    "        pass\n",
    "    else:    \n",
    "        test_img = get_image(f'Data/Test_3/{files}')\n",
    "        image_batch = np.expand_dims(test_img, axis=0)\n",
    "        image_batch = np.copy(image_batch)\n",
    "        image_batch = resnet50.preprocess_input(image_batch)\n",
    "        feature_input = model_resnet50.predict(image_batch)\n",
    "        predictions = model.predict(feature_input)\n",
    "        pos = np.argmax(predictions)\n",
    "\n",
    "        print('Image Name: ',files,' Prediction: ',types[pos])\n"
   ]
  },
  {
   "cell_type": "code",
   "execution_count": 57,
   "id": "ce47d93d",
   "metadata": {},
   "outputs": [
    {
     "name": "stdout",
     "output_type": "stream",
     "text": [
      "40/40 [==============================] - 190s 5s/step\n",
      "(2520, 7, 7, 2048)\n",
      "40/40 [==============================] - 461s 11s/step\n",
      "(2520, 7, 7, 512)\n"
     ]
    }
   ],
   "source": [
    "########################################################################\n",
    "# TODO: Your code here...\n",
    "########################################################################\n",
    "from tensorflow.keras.applications import inception_v3\n",
    "from tensorflow.keras.applications import vgg16\n",
    "\n",
    "#getting the features of all three models\n",
    "\n",
    "#Resnet50 - last layer of features\n",
    "resnet50_x_train = resnet50.preprocess_input(x_train.copy())\n",
    "resnet50_model = resnet50.ResNet50(weights='imagenet', include_top=False)\n",
    "resnet50_features = resnet50_model.predict(resnet50_x_train, batch_size=64, verbose=1)\n",
    "print(resnet50_features.shape)\n",
    "\n",
    "\n",
    "# #InceptionV3\n",
    "# inceptionV3_x_train = inception_v3.preprocess_input(x_train.copy())\n",
    "# inceptionV3_model = inception_v3.InceptionV3(weights='imagenet', include_top=False)\n",
    "# inceptionV3_features = inceptionV3_model.predict(inceptionV3_x_train, batch_size=64, verbose=1)\n",
    "# print(inceptionV3_features.shape)\n",
    "\n",
    "\n",
    "#vgg16\n",
    "vgg16_x_train = vgg16.preprocess_input(x_train.copy())\n",
    "vgg16_model = vgg16.VGG16(weights='imagenet', include_top=False)\n",
    "vgg16_features = vgg16_model.predict(vgg16_x_train, batch_size=64, verbose=1)\n",
    "print(vgg16_features.shape)"
   ]
  },
  {
   "cell_type": "code",
   "execution_count": 59,
   "id": "b02133f4",
   "metadata": {},
   "outputs": [
    {
     "name": "stdout",
     "output_type": "stream",
     "text": [
      "(2520, 7, 7, 2560)\n",
      "(None, 7)\n",
      "Model: \"model_2\"\n",
      "_________________________________________________________________\n",
      " Layer (type)                Output Shape              Param #   \n",
      "=================================================================\n",
      " input_10 (InputLayer)       [(None, 7, 7, 2560)]      0         \n",
      "                                                                 \n",
      " global_average_pooling2d_2   (None, 2560)             0         \n",
      " (GlobalAveragePooling2D)                                        \n",
      "                                                                 \n",
      " dropout_4 (Dropout)         (None, 2560)              0         \n",
      "                                                                 \n",
      " dense_4 (Dense)             (None, 500)               1280500   \n",
      "                                                                 \n",
      " batch_normalization_2 (Batc  (None, 500)              2000      \n",
      " hNormalization)                                                 \n",
      "                                                                 \n",
      " activation_2 (Activation)   (None, 500)               0         \n",
      "                                                                 \n",
      " dropout_5 (Dropout)         (None, 500)               0         \n",
      "                                                                 \n",
      " dense_5 (Dense)             (None, 7)                 3507      \n",
      "                                                                 \n",
      "=================================================================\n",
      "Total params: 1,286,007\n",
      "Trainable params: 1,285,007\n",
      "Non-trainable params: 1,000\n",
      "_________________________________________________________________\n"
     ]
    }
   ],
   "source": [
    "#Concatenating resnet50 and vgg16\n",
    "\n",
    "concat = np.concatenate([resnet50_features, vgg16_features],axis=3)\n",
    "print(concat.shape)\n",
    "\n",
    "new_model_in = Input(shape=(7,7,2560)) \n",
    "mrg = GlobalAveragePooling2D()(new_model_in)\n",
    "mrg = Dropout(0.5)(mrg)\n",
    "mrg = Dense(500)(mrg) # add a dense layer, but not adding activation so that we can add batch-norm first\n",
    "mrg = BatchNormalization()(mrg)\n",
    "mrg = Activation(\"relu\")(mrg)\n",
    "mrg = Dropout(0.5)(mrg) # add a dropout layer\n",
    "# Softmax layer to the output classes\n",
    "predictions = Dense(num_classes, activation='softmax')(mrg)\n",
    "print(predictions.shape)\n",
    "#model_final=Model(inputs=[model1.input,model2.input],outputs=predictions)\n",
    "new_model = Model(inputs=new_model_in,outputs=predictions)\n",
    "new_model.summary()"
   ]
  },
  {
   "cell_type": "code",
   "execution_count": 60,
   "id": "485b6221",
   "metadata": {},
   "outputs": [],
   "source": [
    "new_model.compile(loss='categorical_crossentropy', optimizer=\"adam\", metrics=['accuracy'])"
   ]
  },
  {
   "cell_type": "code",
   "execution_count": 61,
   "id": "4e64984d",
   "metadata": {},
   "outputs": [
    {
     "name": "stdout",
     "output_type": "stream",
     "text": [
      "Epoch 1/30\n",
      "18/18 [==============================] - 2s 52ms/step - loss: 1.3857 - accuracy: 0.5188 - val_loss: 0.1662 - val_accuracy: 0.9571\n",
      "Epoch 2/30\n",
      "18/18 [==============================] - 1s 51ms/step - loss: 0.6333 - accuracy: 0.7741 - val_loss: 0.0227 - val_accuracy: 0.9964\n",
      "Epoch 3/30\n",
      "18/18 [==============================] - 1s 49ms/step - loss: 0.5065 - accuracy: 0.8179 - val_loss: 0.0239 - val_accuracy: 0.9964\n",
      "Epoch 4/30\n",
      "18/18 [==============================] - 1s 49ms/step - loss: 0.4418 - accuracy: 0.8473 - val_loss: 0.0201 - val_accuracy: 0.9964\n",
      "Epoch 5/30\n",
      "18/18 [==============================] - 1s 54ms/step - loss: 0.3840 - accuracy: 0.8687 - val_loss: 0.0163 - val_accuracy: 0.9964\n",
      "Epoch 6/30\n",
      "18/18 [==============================] - 1s 46ms/step - loss: 0.3407 - accuracy: 0.8795 - val_loss: 0.0173 - val_accuracy: 0.9929\n",
      "Epoch 7/30\n",
      "18/18 [==============================] - 1s 47ms/step - loss: 0.3371 - accuracy: 0.8839 - val_loss: 0.0172 - val_accuracy: 0.9929\n",
      "Epoch 8/30\n",
      "18/18 [==============================] - 1s 45ms/step - loss: 0.3192 - accuracy: 0.8924 - val_loss: 0.0218 - val_accuracy: 0.9929\n",
      "Epoch 8: early stopping\n"
     ]
    },
    {
     "data": {
      "text/plain": [
       "<keras.callbacks.History at 0x131819714f0>"
      ]
     },
     "execution_count": 61,
     "metadata": {},
     "output_type": "execute_result"
    }
   ],
   "source": [
    "early_stop = EarlyStopping(monitor='val_loss',  patience=3, verbose=1)\n",
    "# stop if loss does not improve for 3 iterations\n",
    "new_model.fit(concat[:split_point], y_train[:split_point], batch_size=128, epochs=30, \n",
    "              validation_data=(concat[split_point:], y_train[split_point:]), callbacks=[early_stop], verbose=1)"
   ]
  },
  {
   "cell_type": "code",
   "execution_count": 62,
   "id": "7e0478e3",
   "metadata": {},
   "outputs": [
    {
     "name": "stdout",
     "output_type": "stream",
     "text": [
      "Image Name:  f_dist_1.png  Prediction:  distribute\n",
      "Image Name:  f_ineq.png  Prediction:  ineq\n",
      "Image Name:  f_int.png  Prediction:  distribute\n",
      "Image Name:  f_lim.png  Prediction:  distribute\n",
      "Image Name:  f_matrix.png  Prediction:  matrix\n",
      "Image Name:  f_series.png  Prediction:  series\n",
      "Image Name:  f_sqrt.png  Prediction:  sqrt\n",
      "Image Name:  s_dist3.png  Prediction:  ineq\n",
      "Image Name:  s_ineq3.png  Prediction:  ineq\n",
      "Image Name:  s_int3.png  Prediction:  integral\n",
      "Image Name:  s_limit3.png  Prediction:  ineq\n",
      "Image Name:  s_matrix3.png  Prediction:  matrix\n",
      "Image Name:  s_series3.png  Prediction:  distribute\n",
      "Image Name:  s_sqrt3.png  Prediction:  sqrt\n",
      "Image Name:  T_dist2.png  Prediction:  ineq\n",
      "Image Name:  t_ineq2.png  Prediction:  ineq\n",
      "Image Name:  t_int2.png  Prediction:  integral\n",
      "Image Name:  t_lim2.png  Prediction:  limit\n",
      "Image Name:  t_matrix2.png  Prediction:  integral\n",
      "Image Name:  t_series2.png  Prediction:  ineq\n",
      "Image Name:  t_sqrt2.png  Prediction:  sqrt\n"
     ]
    }
   ],
   "source": [
    "\n",
    "for files in os.listdir('./Data/Test_3/'):\n",
    "    \n",
    "    if files== 'desktop.ini':\n",
    "        pass\n",
    "    else:    \n",
    "        test_img = get_image(f'Data/Test_3/{files}')\n",
    "        image_batch = np.expand_dims(test_img, axis=0)\n",
    "        image_batch = np.copy(image_batch)\n",
    "        image_batch = resnet50.preprocess_input(image_batch)\n",
    "        feature_input = model_resnet50.predict(image_batch)\n",
    "        predictions = model.predict(feature_input)\n",
    "        pos = np.argmax(predictions)\n",
    "\n",
    "        print('Image Name: ',files,' Prediction: ',types[pos])\n"
   ]
  },
  {
   "cell_type": "code",
   "execution_count": null,
   "id": "84a067b2",
   "metadata": {},
   "outputs": [],
   "source": []
  }
 ],
 "metadata": {
  "kernelspec": {
   "display_name": "Python 3",
   "language": "python",
   "name": "python3"
  },
  "language_info": {
   "codemirror_mode": {
    "name": "ipython",
    "version": 3
   },
   "file_extension": ".py",
   "mimetype": "text/x-python",
   "name": "python",
   "nbconvert_exporter": "python",
   "pygments_lexer": "ipython3",
   "version": "3.8.8"
  }
 },
 "nbformat": 4,
 "nbformat_minor": 5
}
