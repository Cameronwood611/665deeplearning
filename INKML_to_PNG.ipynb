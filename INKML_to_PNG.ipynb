{
 "cells": [
  {
   "cell_type": "code",
   "execution_count": 1,
   "id": "fad5e3a4",
   "metadata": {},
   "outputs": [],
   "source": [
    "import inkml2img\n"
   ]
  },
  {
   "cell_type": "code",
   "execution_count": 18,
   "id": "b583c5d0",
   "metadata": {},
   "outputs": [
    {
     "data": {
      "text/plain": [
       "<Figure size 432x288 with 0 Axes>"
      ]
     },
     "metadata": {},
     "output_type": "display_data"
    }
   ],
   "source": [
    "import os\n",
    "folder = './images/KAIST'\n",
    "for count, filename in enumerate(os.listdir(folder)):\n",
    "    try:\n",
    "        k = f'images/KAIST/Tttsss {str(count)}.inkml'\n",
    "        j = f'images/kaist_png/Tsst {str(count)}.png'\n",
    "        \n",
    "        inkml2img.inkml2img(k,j)\n",
    "    except:\n",
    "        pass\n",
    "\n"
   ]
  },
  {
   "cell_type": "code",
   "execution_count": null,
   "id": "e22f1f48",
   "metadata": {},
   "outputs": [],
   "source": []
  }
 ],
 "metadata": {
  "kernelspec": {
   "display_name": "Python 3",
   "language": "python",
   "name": "python3"
  },
  "language_info": {
   "codemirror_mode": {
    "name": "ipython",
    "version": 3
   },
   "file_extension": ".py",
   "mimetype": "text/x-python",
   "name": "python",
   "nbconvert_exporter": "python",
   "pygments_lexer": "ipython3",
   "version": "3.8.8"
  }
 },
 "nbformat": 4,
 "nbformat_minor": 5
}
