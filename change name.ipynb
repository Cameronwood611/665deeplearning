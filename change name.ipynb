{
 "cells": [
  {
   "cell_type": "code",
   "execution_count": 1,
   "id": "9a94996c",
   "metadata": {},
   "outputs": [],
   "source": [
    "import os\n"
   ]
  },
  {
   "cell_type": "code",
   "execution_count": 37,
   "id": "7bb2506d",
   "metadata": {},
   "outputs": [],
   "source": [
    "def main():\n",
    "    folder = './images/MfrDB'\n",
    "    for count, filename in enumerate(os.listdir(folder)):\n",
    "        try:\n",
    "            dst = f'Tsst {str(count)}.inkml'\n",
    "            src = f'{folder}/{filename}'\n",
    "            dst = f'{folder}/{dst}'\n",
    "        \n",
    "            os.rename(src, dst)\n",
    "        except:\n",
    "            pass\n",
    "\n",
    "if __name__=='__main__':\n",
    "    main()"
   ]
  },
  {
   "cell_type": "code",
   "execution_count": 44,
   "id": "c4266c65",
   "metadata": {},
   "outputs": [
    {
     "name": "stdout",
     "output_type": "stream",
     "text": [
      "complex_eq_exp 104\n",
      "FOIL 425\n",
      "Fraction_comp 106\n",
      "inequality 444\n",
      "Integrals 564\n",
      "limit 405\n",
      "Log 278\n",
      "matrices 637\n",
      "series 424\n",
      "Square_Roots 499\n"
     ]
    }
   ],
   "source": [
    "for filename in os.listdir('./Completely_sorted'):\n",
    "    try:\n",
    "        length = len(os.listdir(f'./Completely_sorted/{filename}'))\n",
    "        print(filename, length)\n",
    "    except:\n",
    "        pass"
   ]
  },
  {
   "cell_type": "code",
   "execution_count": null,
   "id": "27025129",
   "metadata": {},
   "outputs": [],
   "source": []
  }
 ],
 "metadata": {
  "kernelspec": {
   "display_name": "Python 3",
   "language": "python",
   "name": "python3"
  },
  "language_info": {
   "codemirror_mode": {
    "name": "ipython",
    "version": 3
   },
   "file_extension": ".py",
   "mimetype": "text/x-python",
   "name": "python",
   "nbconvert_exporter": "python",
   "pygments_lexer": "ipython3",
   "version": "3.8.8"
  }
 },
 "nbformat": 4,
 "nbformat_minor": 5
}
